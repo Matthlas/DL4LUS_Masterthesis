{
 "cells": [
  {
   "cell_type": "code",
   "execution_count": null,
   "metadata": {},
   "outputs": [],
   "source": [
    "import os\n",
    "import pandas as pd\n",
    "import glob\n",
    "\n",
    "import sys; sys.path.insert(0, \"./utils/\")\n",
    "from data_utils import get_data_location, get_clinical_df, get_bluepoints_df\n",
    "\n",
    "DATA_PATH = get_data_location()\n",
    "print(\"Infered Data path:\", DATA_PATH)"
   ]
  },
  {
   "cell_type": "code",
   "execution_count": null,
   "metadata": {},
   "outputs": [],
   "source": [
    "clinical_data = get_clinical_df()\n",
    "\n",
    "# As datetime, format is DD-MM-YYYY\n",
    "clinical_data.adm_date = pd.to_datetime(clinical_data.adm_date, format=\"%d-%m-%Y\")\n",
    "# Rename Video ID to Patient ID\n",
    "clinical_data.rename(columns={\"Video ID\": \"Patient ID\"}, inplace=True)\n",
    "\n",
    "# Add bluepoint data\n",
    "bp = get_bluepoints_df()\n",
    "\n",
    "# Filter patients that don't have video data\n",
    "clinical_id = clinical_data[\"Patient ID\"]\n",
    "bp_id = bp[\"Patient ID\"]\n",
    "\n",
    "# Filter all clinical id that are not in the bluepoints\n",
    "clinical_data =  clinical_data[clinical_id.isin(bp_id)].reset_index(drop=True)"
   ]
  },
  {
   "cell_type": "code",
   "execution_count": null,
   "metadata": {},
   "outputs": [],
   "source": [
    "clinical_data"
   ]
  },
  {
   "cell_type": "code",
   "execution_count": null,
   "metadata": {},
   "outputs": [],
   "source": [
    "age_col = \"pat_birth_year\"\n",
    "gender_col = \"pat_sex\"\n",
    "covid_col = \"clin_diagn#COVID19_pneumonia\""
   ]
  },
  {
   "cell_type": "code",
   "execution_count": null,
   "metadata": {},
   "outputs": [],
   "source": [
    "# Number of male vs female\n",
    "clinical_data[gender_col].value_counts()"
   ]
  },
  {
   "cell_type": "code",
   "execution_count": null,
   "metadata": {},
   "outputs": [],
   "source": [
    "# Number of patients with COVID-19\n",
    "clinical_data[covid_col].value_counts()"
   ]
  },
  {
   "cell_type": "code",
   "execution_count": null,
   "metadata": {},
   "outputs": [],
   "source": [
    "import seaborn as sns\n",
    "import matplotlib.pyplot as plt\n",
    "sns.set()\n",
    "# Transform birth year to age\n",
    "clinical_data[\"Age\"] = 2023 - clinical_data[age_col]\n",
    "\n",
    "# Age distribution\n",
    "clinical_data[\"Age\"].hist()\n",
    "mean_age = int(clinical_data[\"Age\"].mean())\n",
    "plt.title(f\"Patient age distribution)\")\n",
    "plt.xlabel(\"Age\")\n",
    "plt.ylabel(\"Number of patients\")"
   ]
  },
  {
   "cell_type": "code",
   "execution_count": null,
   "metadata": {},
   "outputs": [],
   "source": [
    "# Plot admission adm_date histogram\n",
    "clinical_data[\"adm_date\"].hist()\n",
    "plt.title(\"Admission date histogram\")\n",
    "plt.xlabel(\"Admission date\")\n",
    "plt.ylabel(\"Number of patients\")\n",
    "\n",
    "# Rotate x-axis labels\n",
    "plt.xticks(rotation=90)"
   ]
  },
  {
   "cell_type": "code",
   "execution_count": null,
   "metadata": {},
   "outputs": [],
   "source": []
  },
  {
   "cell_type": "code",
   "execution_count": null,
   "metadata": {},
   "outputs": [],
   "source": [
    "clinical_data[\"COVID-19\"] = clinical_data[\"clin_diagn#COVID19_pneumonia\"].copy()\n",
    "sns.set(font_scale=1.5)\n",
    "# Plot age distribution and admission date\n",
    "fig, ax = plt.subplots(1, 2, figsize=(15, 5))\n",
    "sns.histplot(data=clinical_data, x=\"Age\", ax=ax[0], hue=\"COVID-19\")\n",
    "ax[0].set_title(\"Age distribution\")\n",
    "ax[0].set_xlabel(\"Age\")\n",
    "ax[0].set_ylabel(\"Number of patients\")\n",
    "\n",
    "# Plot admission date. One bar per month\n",
    "# Group by month\n",
    "clinical_data[\"adm_date_month\"] = clinical_data[\"adm_date\"].dt.to_period(\"M\")\n",
    "# Transform to Month name + Year\n",
    "clinical_data[\"adm_date_month\"] = clinical_data[\"adm_date_month\"].dt.strftime(\"%b %Y\")\n",
    "\n",
    "sns.histplot(data=clinical_data, x=\"adm_date_month\", ax=ax[1], hue=\"COVID-19\")\n",
    "ax[1].set_title(\"Admission date distribution\")\n",
    "ax[1].set_xlabel(\"Admission month\")\n",
    "ax[1].set_ylabel(\"Number of patients\")\n",
    "# Change y-axis to integer\n",
    "ax[1].set_yticks(range(0, 20, 2))\n",
    "\n",
    "\n",
    "# Save figure\n",
    "#fig.savefig(\"/Users/matthiasrichter/Library/CloudStorage/OneDrive-Personal/Studium/Masterthesis/Thesis/Figures/Methods/age_and_adm_date.png\")\n",
    "\n",
    "plt.show()"
   ]
  },
  {
   "cell_type": "code",
   "execution_count": null,
   "metadata": {},
   "outputs": [],
   "source": [
    "# Adm date min and max\n",
    "print(\"Admission date min:\", clinical_data[\"adm_date\"].min())\n",
    "print(\"Admission date max:\", clinical_data[\"adm_date\"].max())"
   ]
  },
  {
   "cell_type": "code",
   "execution_count": null,
   "metadata": {},
   "outputs": [],
   "source": [
    "# Total number of videos\n",
    "bp[\"video_name\"].nunique()"
   ]
  },
  {
   "cell_type": "code",
   "execution_count": null,
   "metadata": {},
   "outputs": [],
   "source": [
    "bp.groupby(\"Patient ID\").size().value_counts()"
   ]
  },
  {
   "cell_type": "code",
   "execution_count": null,
   "metadata": {},
   "outputs": [],
   "source": [
    "pixel_count_path = os.path.join(DATA_PATH,\"cropped_videos_segmented/post_processing\")\n",
    "\n",
    "# List all files & directories\n",
    "files = os.listdir(pixel_count_path)\n",
    "\n",
    "# keep only .csv files\n",
    "csvs = [x for x in files if x.endswith(\".gif_pixel_counts.csv\")]\n",
    "\n",
    "# Read all csvs into one dataframe\n",
    "df = pd.concat((pd.read_csv(os.path.join(pixel_count_path, f)) for f in csvs))"
   ]
  },
  {
   "cell_type": "code",
   "execution_count": null,
   "metadata": {},
   "outputs": [],
   "source": [
    "df"
   ]
  },
  {
   "cell_type": "code",
   "execution_count": null,
   "metadata": {},
   "outputs": [],
   "source": []
  }
 ],
 "metadata": {
  "kernelspec": {
   "display_name": "pocovid2",
   "language": "python",
   "name": "python3"
  },
  "language_info": {
   "codemirror_mode": {
    "name": "ipython",
    "version": 3
   },
   "file_extension": ".py",
   "mimetype": "text/x-python",
   "name": "python",
   "nbconvert_exporter": "python",
   "pygments_lexer": "ipython3",
   "version": "3.8.13"
  },
  "orig_nbformat": 4,
  "vscode": {
   "interpreter": {
    "hash": "b946eb799261426a5ad5f24f4c27986c0f2fe154ec5ad35bd8b05c7d39be50ad"
   }
  }
 },
 "nbformat": 4,
 "nbformat_minor": 2
}
