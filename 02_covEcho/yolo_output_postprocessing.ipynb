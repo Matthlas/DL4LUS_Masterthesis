{
 "cells": [
  {
   "cell_type": "code",
   "execution_count": 1,
   "metadata": {},
   "outputs": [],
   "source": [
    "import os\n",
    "import pandas as pd\n",
    "import glob"
   ]
  },
  {
   "cell_type": "markdown",
   "metadata": {},
   "source": [
    "# Set path to results"
   ]
  },
  {
   "cell_type": "code",
   "execution_count": 2,
   "metadata": {},
   "outputs": [],
   "source": [
    "results_path = \"PATH_TO/covEcho/runs/detect/exp\"\n",
    "labels_path = os.path.join(results_path, \"labels\")"
   ]
  },
  {
   "cell_type": "markdown",
   "metadata": {},
   "source": [
    "# Data preparations\n",
    "\n",
    "Load input, labels and results structured into a single df"
   ]
  },
  {
   "cell_type": "code",
   "execution_count": 3,
   "metadata": {},
   "outputs": [],
   "source": [
    "images_with_labels = os.listdir(results_path)\n",
    "images_with_labels = [x for x in images_with_labels if x.endswith(\".jpg\")]\n",
    "\n",
    "label_list = os.listdir(labels_path)\n",
    "label_list = [x for x in label_list if x.endswith(\".txt\")]\n"
   ]
  },
  {
   "cell_type": "markdown",
   "metadata": {},
   "source": [
    "Label df"
   ]
  },
  {
   "cell_type": "code",
   "execution_count": 4,
   "metadata": {},
   "outputs": [
    {
     "name": "stderr",
     "output_type": "stream",
     "text": [
      "/scratch_net/gnarf/mrichte/conda_envs/tf_covid/lib/python3.7/site-packages/ipykernel_launcher.py:8: FutureWarning: The default value of regex will change from True to False in a future version.\n",
      "  \n"
     ]
    }
   ],
   "source": [
    "# Make label dataframe\n",
    "labels = pd.DataFrame(label_list, columns=[\"label_file\"])\n",
    "\n",
    "# Extract image name and frame from label file\n",
    "labels_split = labels.label_file.str.split(\"_\", expand=True, n=1)\n",
    "labels_split.columns = [\"Frame\", \"video_name\"]\n",
    "labels_split.Frame = labels_split.Frame.astype(int)\n",
    "labels_split.video_name = labels_split.video_name.str.replace(\".txt\", \"\")\n",
    "\n",
    "labels = pd.concat([labels, labels_split], axis=1)\n",
    "# Add complete file path\n",
    "labels[\"label_file_path\"] = labels.label_file.apply(lambda x: os.path.join(labels_path, x))"
   ]
  },
  {
   "cell_type": "markdown",
   "metadata": {},
   "source": [
    "Image df"
   ]
  },
  {
   "cell_type": "code",
   "execution_count": 5,
   "metadata": {},
   "outputs": [
    {
     "name": "stderr",
     "output_type": "stream",
     "text": [
      "/scratch_net/gnarf/mrichte/conda_envs/tf_covid/lib/python3.7/site-packages/ipykernel_launcher.py:8: FutureWarning: The default value of regex will change from True to False in a future version.\n",
      "  \n"
     ]
    }
   ],
   "source": [
    "# Make images dataframe\n",
    "images = pd.DataFrame(images_with_labels, columns=[\"image_file\"])\n",
    "\n",
    "# Extract image name and frame from label file\n",
    "images_split = images.image_file.str.split(\"_\", expand=True, n=1)\n",
    "images_split.columns = [\"Frame\", \"video_name\"]\n",
    "images_split.Frame = images_split.Frame.astype(int)\n",
    "images_split.video_name = images_split.video_name.str.replace(\".jpg\", \"\")\n",
    "\n",
    "images = pd.concat([images, images_split], axis=1)\n",
    "# Add complete file path\n",
    "images[\"image_file_path\"] = images.image_file.apply(lambda x: os.path.join(results_path, x))"
   ]
  },
  {
   "cell_type": "code",
   "execution_count": 6,
   "metadata": {},
   "outputs": [],
   "source": [
    "result_files = pd.merge(images, labels, on=[\"Frame\", \"video_name\"]).sort_values(by=[\"video_name\", \"Frame\"])"
   ]
  },
  {
   "cell_type": "markdown",
   "metadata": {},
   "source": [
    "Input files"
   ]
  },
  {
   "cell_type": "code",
   "execution_count": 7,
   "metadata": {},
   "outputs": [
    {
     "name": "stderr",
     "output_type": "stream",
     "text": [
      "/scratch_net/gnarf/mrichte/conda_envs/tf_covid/lib/python3.7/site-packages/ipykernel_launcher.py:16: FutureWarning: The default value of regex will change from True to False in a future version.\n",
      "  app.launch_new_instance()\n"
     ]
    }
   ],
   "source": [
    "input_files_path = \"/itet-stor/mrichte/covlus_bmicnas02/maastricht_image_dataset/**/*.jpg\"\n",
    "input_files = glob.glob(input_files_path, recursive=True)\n",
    "\n",
    "input = pd.DataFrame(input_files, columns=[\"input_file_path\"])\n",
    "\n",
    "# Extract columns from file path\n",
    "input_split = input.input_file_path.str.split(\"/\", expand=True)\n",
    "input_split.columns = [\"1\", \"2\", \"3\", \"4\", \"dataset\", \"Patient ID\", \"Bluepoint\", \"5\", \"input_file\"]\n",
    "input_split = input_split.drop(columns=[\"1\", \"2\", \"3\", \"4\", \"5\"])\n",
    "input = pd.concat([input, input_split], axis=1)\n",
    "\n",
    "# Extract image name and frame from file name\n",
    "input_split = input.input_file.str.split(\"_\", expand=True, n=1)\n",
    "input_split.columns = [\"Frame\", \"video_name\"]\n",
    "input_split.Frame = input_split.Frame.astype(int)\n",
    "input_split.video_name = input_split.video_name.str.replace(\".jpg\", \"\")\n",
    "\n",
    "input = pd.concat([input, input_split], axis=1)\n"
   ]
  },
  {
   "cell_type": "code",
   "execution_count": 8,
   "metadata": {},
   "outputs": [],
   "source": [
    "files = pd.merge(result_files, input, on=[\"Frame\", \"video_name\"]).sort_values(by=[\"video_name\", \"Frame\"])"
   ]
  },
  {
   "cell_type": "markdown",
   "metadata": {},
   "source": [
    "Clinical data"
   ]
  },
  {
   "cell_type": "code",
   "execution_count": 9,
   "metadata": {},
   "outputs": [],
   "source": [
    "clinical_data_path = \"/itet-stor/mrichte/covlus_bmicnas02/clinical_data.csv\"\n",
    "clinical_data = pd.read_csv(clinical_data_path)\n",
    "\n",
    "clinical_data = clinical_data[[\"Video ID\", \"clin_diagn#COVID19_pneumonia\"]]\n",
    "clinical_data.columns = [\"Patient ID\", \"COVID19\"]"
   ]
  },
  {
   "cell_type": "code",
   "execution_count": null,
   "metadata": {},
   "outputs": [],
   "source": [
    "df = pd.merge(files, clinical_data, on=\"Patient ID\")"
   ]
  },
  {
   "cell_type": "markdown",
   "metadata": {},
   "source": [
    "The Dataframe df now containes to path to all result files. Next we read in all the csv result files for each frame."
   ]
  },
  {
   "cell_type": "code",
   "execution_count": 11,
   "metadata": {},
   "outputs": [],
   "source": [
    "# Iterate over rows in label_file_path and read csv\n",
    "df[\"label_csv\"] = df.label_file_path.apply(lambda x: pd.read_csv(x, header=None, sep=\" \"))"
   ]
  },
  {
   "cell_type": "code",
   "execution_count": null,
   "metadata": {},
   "outputs": [],
   "source": [
    "# Iterate over rows in label_csv and extract the scores as well as the bounding box coordinates for each detected class\n",
    "yolo_quality_score = []\n",
    "yolo_quality = []\n",
    "yolo_severity_score = []\n",
    "yolo_detections = []\n",
    "\n",
    "for idx, row in df.iterrows():\n",
    "    i = row.label_csv\n",
    "    # Extract quality and severity score\n",
    "    quality_score = i.iloc[-1][3]\n",
    "    quality = i.iloc[-2][0]\n",
    "    severity_score = i.iloc[-2][3]\n",
    "    yolo_quality_score.append(quality_score)\n",
    "    yolo_quality.append(quality)\n",
    "    yolo_severity_score.append(severity_score)\n",
    "\n",
    "    # Reshape dataframe to get only the detections in right format\n",
    "    i = i.iloc[:-2]\n",
    "    i.columns = [\"class\", \"confidence\", \"x\", \"y\", \"w\", \"h\"]\n",
    "    i[\"class\"] = i[\"class\"].astype(int)\n",
    "    i[\"confidence\"] = i[\"confidence\"].astype(float)\n",
    "    i[\"x\"] = i[\"x\"].astype(float)\n",
    "    i[\"y\"] = i[\"y\"].astype(float)\n",
    "    i[\"w\"] = i[\"w\"].astype(float)\n",
    "    i[\"h\"] = i[\"h\"].astype(float)\n",
    "    \n",
    "    # Calculate area of bounding box\n",
    "    i[\"area\"] = i[\"w\"] * i[\"h\"]\n",
    "    \n",
    "    # append relevant row data to detections df\n",
    "    i[\"video_name\"] = row.video_name\n",
    "    i[\"Frame\"] = row.Frame\n",
    "\n",
    "    yolo_detections.append(i)"
   ]
  },
  {
   "cell_type": "code",
   "execution_count": 13,
   "metadata": {},
   "outputs": [],
   "source": [
    "df[\"yolo_quality_score\"] = yolo_quality_score\n",
    "df[\"yolo_quality\"] = yolo_quality\n",
    "df[\"yolo_severity_score\"] = yolo_severity_score"
   ]
  },
  {
   "cell_type": "code",
   "execution_count": 15,
   "metadata": {},
   "outputs": [],
   "source": [
    "# Concatenate all detections and merge with df\n",
    "yolo_detection_df = pd.concat(yolo_detections)\n",
    "yolo_detection_df = pd.merge(yolo_detection_df, df, on=[\"Frame\", \"video_name\"])"
   ]
  },
  {
   "cell_type": "code",
   "execution_count": null,
   "metadata": {},
   "outputs": [],
   "source": [
    "# Add the class names from the yolo net\n",
    "\n",
    "# Class names: ['0: Airbronchograms', '1: Alines', '2: Blines', '3: Bpatch', '4: Consolidations', '5: Pleura', '6: Rib', '7: Shadow']\n",
    "class_names = [\"Airbronchograms\", \"Alines\", \"Blines\", \"Bpatch\", \"Consolidations\", \"Pleura\", \"Rib\", \"Shadow\"]\n",
    "\n",
    "yolo_detection_df[\"class_name\"] = yolo_detection_df[\"class\"].apply(lambda x: class_names[x])"
   ]
  },
  {
   "cell_type": "code",
   "execution_count": null,
   "metadata": {},
   "outputs": [],
   "source": [
    "# Save to csv if needed\n",
    "if not os.path.exists(\"yolo_detection_df.csv\"):\n",
    "    yolo_detection_df.to_csv(\"yolo_detection_df.csv\", index=False)\n",
    "else:\n",
    "    print(\"Yolo file already exists\")\n",
    "\n",
    "if not os.path.exists(\"df.csv\"):\n",
    "    df.to_csv(\"df.csv\", index=False)\n",
    "else:\n",
    "    print(\"df file already exists\")"
   ]
  },
  {
   "cell_type": "markdown",
   "metadata": {},
   "source": [
    "### Load yolo_detections_df if it already exists"
   ]
  },
  {
   "cell_type": "code",
   "execution_count": 128,
   "metadata": {},
   "outputs": [],
   "source": [
    "import pandas as pd\n",
    "import os\n",
    "\n",
    "if os.path.exists(\"yolo_detection_df.csv\"):\n",
    "    yolo_detection_df = pd.read_csv(\"yolo_detection_df.csv\")\n",
    "else:\n",
    "    print(\"Yolo file does not exist\")\n",
    "\n",
    "if os.path.exists(\"df.csv\"):\n",
    "    df = pd.read_csv(\"df.csv\")\n",
    "else:\n",
    "    print(\"df file does not exist\")"
   ]
  }
 ],
 "metadata": {
  "kernelspec": {
   "display_name": "Python 3.8.13 ('pocovid2')",
   "language": "python",
   "name": "python3"
  },
  "language_info": {
   "codemirror_mode": {
    "name": "ipython",
    "version": 3
   },
   "file_extension": ".py",
   "mimetype": "text/x-python",
   "name": "python",
   "nbconvert_exporter": "python",
   "pygments_lexer": "ipython3",
   "version": "3.8.13"
  },
  "orig_nbformat": 4,
  "vscode": {
   "interpreter": {
    "hash": "b946eb799261426a5ad5f24f4c27986c0f2fe154ec5ad35bd8b05c7d39be50ad"
   }
  }
 },
 "nbformat": 4,
 "nbformat_minor": 2
}
