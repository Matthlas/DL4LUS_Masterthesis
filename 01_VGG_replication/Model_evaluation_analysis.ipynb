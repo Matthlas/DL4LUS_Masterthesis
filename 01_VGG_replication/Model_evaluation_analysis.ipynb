{
 "cells": [
  {
   "attachments": {},
   "cell_type": "markdown",
   "metadata": {},
   "source": [
    "# VGG Model evaluation\n",
    "This notebook reads the model evaluation results from the VGG model and prints the results used in the Thesis as latex tables."
   ]
  },
  {
   "cell_type": "code",
   "execution_count": 1,
   "metadata": {},
   "outputs": [],
   "source": [
    "import pandas as pd\n",
    "import os\n",
    "import sys; sys.path.insert(0, \"../utils/\")\n",
    "from data_utils import get_data_location"
   ]
  },
  {
   "cell_type": "code",
   "execution_count": 2,
   "metadata": {},
   "outputs": [
    {
     "data": {
      "text/plain": [
       "'/itet-stor/mrichte/covlus_bmicnas02/matthias/trained_models/'"
      ]
     },
     "execution_count": 2,
     "metadata": {},
     "output_type": "execute_result"
    }
   ],
   "source": [
    "MODELS_PATH = os.path.join(get_data_location(), \"matthias/trained_models/\")\n",
    "MODELS_PATH"
   ]
  },
  {
   "cell_type": "code",
   "execution_count": 3,
   "metadata": {},
   "outputs": [
    {
     "data": {
      "text/html": [
       "<div>\n",
       "<style scoped>\n",
       "    .dataframe tbody tr th:only-of-type {\n",
       "        vertical-align: middle;\n",
       "    }\n",
       "\n",
       "    .dataframe tbody tr th {\n",
       "        vertical-align: top;\n",
       "    }\n",
       "\n",
       "    .dataframe thead th {\n",
       "        text-align: right;\n",
       "    }\n",
       "</style>\n",
       "<table border=\"1\" class=\"dataframe\">\n",
       "  <thead>\n",
       "    <tr style=\"text-align: right;\">\n",
       "      <th></th>\n",
       "      <th>dir</th>\n",
       "      <th>train_type</th>\n",
       "      <th>model_id</th>\n",
       "      <th>dataset</th>\n",
       "    </tr>\n",
       "  </thead>\n",
       "  <tbody>\n",
       "    <tr>\n",
       "      <th>0</th>\n",
       "      <td>simple_replicated_vgg_covid_us</td>\n",
       "      <td>replicated</td>\n",
       "      <td>vgg</td>\n",
       "      <td>covid_us</td>\n",
       "    </tr>\n",
       "    <tr>\n",
       "      <th>1</th>\n",
       "      <td>simple_replicated_vgg_pocovid_covid_us_combined</td>\n",
       "      <td>replicated</td>\n",
       "      <td>vgg</td>\n",
       "      <td>pocovid_covid_us_combined</td>\n",
       "    </tr>\n",
       "    <tr>\n",
       "      <th>2</th>\n",
       "      <td>simple_replicated_vgg_pocovid</td>\n",
       "      <td>replicated</td>\n",
       "      <td>vgg</td>\n",
       "      <td>pocovid</td>\n",
       "    </tr>\n",
       "    <tr>\n",
       "      <th>3</th>\n",
       "      <td>simple_replicated_vgg_maastricht</td>\n",
       "      <td>replicated</td>\n",
       "      <td>vgg</td>\n",
       "      <td>maastricht</td>\n",
       "    </tr>\n",
       "    <tr>\n",
       "      <th>4</th>\n",
       "      <td>continued_vgg_pre_pocovid_maastricht</td>\n",
       "      <td>continued</td>\n",
       "      <td>vgg</td>\n",
       "      <td>maastricht</td>\n",
       "    </tr>\n",
       "    <tr>\n",
       "      <th>5</th>\n",
       "      <td>continued_vgg_pre_covid_us_maastricht</td>\n",
       "      <td>continued</td>\n",
       "      <td>vgg</td>\n",
       "      <td>maastricht</td>\n",
       "    </tr>\n",
       "    <tr>\n",
       "      <th>6</th>\n",
       "      <td>continued_vgg_pre_combined_maastricht</td>\n",
       "      <td>continued</td>\n",
       "      <td>vgg</td>\n",
       "      <td>maastricht</td>\n",
       "    </tr>\n",
       "  </tbody>\n",
       "</table>\n",
       "</div>"
      ],
      "text/plain": [
       "                                               dir  train_type model_id  \\\n",
       "0                   simple_replicated_vgg_covid_us  replicated      vgg   \n",
       "1  simple_replicated_vgg_pocovid_covid_us_combined  replicated      vgg   \n",
       "2                    simple_replicated_vgg_pocovid  replicated      vgg   \n",
       "3                 simple_replicated_vgg_maastricht  replicated      vgg   \n",
       "4             continued_vgg_pre_pocovid_maastricht   continued      vgg   \n",
       "5            continued_vgg_pre_covid_us_maastricht   continued      vgg   \n",
       "6            continued_vgg_pre_combined_maastricht   continued      vgg   \n",
       "\n",
       "                     dataset  \n",
       "0                   covid_us  \n",
       "1  pocovid_covid_us_combined  \n",
       "2                    pocovid  \n",
       "3                 maastricht  \n",
       "4                 maastricht  \n",
       "5                 maastricht  \n",
       "6                 maastricht  "
      ]
     },
     "execution_count": 3,
     "metadata": {},
     "output_type": "execute_result"
    }
   ],
   "source": [
    "# Create dataframe with all trained models\n",
    "trained_models = os.listdir(MODELS_PATH)\n",
    "trained_models = [m for m in trained_models if \"vgg\" in m]\n",
    "model_df = pd.DataFrame(trained_models)\n",
    "model_df_1 = model_df[0].str.replace(\"simple_\", \"\").str.replace(\"pre_\", \"\").str.split(\"_\", n=2, expand=True)\n",
    "model_df = pd.concat([model_df, model_df_1], axis=1)\n",
    "model_df.columns = [\"dir\", \"train_type\", \"model_id\", \"dataset\"]\n",
    "model_df.dataset = model_df.dataset.str.replace(\"^.*?maastricht\", \"maastricht\", regex=True)\n",
    "\n",
    "model_df"
   ]
  },
  {
   "cell_type": "code",
   "execution_count": 4,
   "metadata": {},
   "outputs": [
    {
     "name": "stdout",
     "output_type": "stream",
     "text": [
      "Predictions exist for simple_replicated_vgg_covid_us\n",
      "Predictions exist for simple_replicated_vgg_pocovid_covid_us_combined\n",
      "Predictions exist for simple_replicated_vgg_pocovid\n",
      "Predictions exist for simple_replicated_vgg_maastricht\n",
      "Predictions exist for continued_vgg_pre_pocovid_maastricht\n",
      "Predictions exist for continued_vgg_pre_covid_us_maastricht\n",
      "Predictions exist for continued_vgg_pre_combined_maastricht\n"
     ]
    }
   ],
   "source": [
    "# Check if predictions exist for all models\n",
    "for idx, row in model_df.iterrows():\n",
    "    args = {\n",
    "    \"save_path\": os.path.join(MODELS_PATH, row.dir, row.dir + \"_results\")\n",
    "    }\n",
    "    # Check if file exists\n",
    "    if os.path.exists(args[\"save_path\"] + \"_all_frames_predicted.csv\"):\n",
    "        print(f\"Predictions exist for {row.dir}\")\n",
    "    else:\n",
    "        print(f\"Predictions do not exist for {row.dir}\")"
   ]
  },
  {
   "cell_type": "code",
   "execution_count": 5,
   "metadata": {},
   "outputs": [
    {
     "name": "stdout",
     "output_type": "stream",
     "text": [
      "Predictions exist for simple_replicated_vgg_maastricht\n"
     ]
    },
    {
     "data": {
      "text/plain": [
       "'/itet-stor/mrichte/covlus_bmicnas02/matthias/trained_models/simple_replicated_vgg_maastricht/simple_replicated_vgg_maastricht_results'"
      ]
     },
     "execution_count": 5,
     "metadata": {},
     "output_type": "execute_result"
    }
   ],
   "source": [
    "MODEL_TO_LOAD = \"simple_replicated_vgg_maastricht\"\n",
    "\n",
    "# Check if row in model_df\n",
    "if MODEL_TO_LOAD not in model_df.dir.values:\n",
    "    raise ValueError(\"Model not found\")\n",
    "\n",
    "# Get row\n",
    "row = model_df[model_df.dir == MODEL_TO_LOAD].iloc[0]\n",
    "\n",
    "args = {\n",
    "\"dataset\": row.dataset,\n",
    "\"weights\": os.path.join(MODELS_PATH, row.dir),\n",
    "\"m_id\": \"vgg_base\",\n",
    "\"classes\": 2,\n",
    "\"folds\": 5,\n",
    "\"save_path\": os.path.join(MODELS_PATH, row.dir, row.dir + \"_results\")\n",
    "}\n",
    "\n",
    "if os.path.exists(args[\"save_path\"] + \"_all_frames_predicted.csv\"):\n",
    "    print(f\"Predictions exist for {row.dir}\")\n",
    "\n",
    "args[\"save_path\"]"
   ]
  },
  {
   "cell_type": "code",
   "execution_count": 6,
   "metadata": {},
   "outputs": [],
   "source": [
    "# Load evaluation results dir + results_aggregation_strategy_evaluation.csv\n",
    "eval_df = pd.read_csv(args[\"save_path\"] + \"_aggregation_strategy_evaluation.csv\")\n",
    "\n",
    "# Aggregate over folds with mean\n",
    "eval_df = eval_df.groupby([\"Aggregation Strategy\"]).mean().reset_index()"
   ]
  },
  {
   "cell_type": "code",
   "execution_count": 7,
   "metadata": {},
   "outputs": [],
   "source": [
    "# Load all_frames_predicted.csv\n",
    "all_frames_predicted = pd.read_csv(args[\"save_path\"] + \"_all_frames_predicted.csv\", index_col=0)"
   ]
  },
  {
   "cell_type": "code",
   "execution_count": 8,
   "metadata": {},
   "outputs": [],
   "source": [
    "# Get number of frames per video_name\n",
    "# all_frames_predicted.groupby(\"video_name\").count()[\"Frame\"].hist()"
   ]
  },
  {
   "cell_type": "code",
   "execution_count": 9,
   "metadata": {},
   "outputs": [],
   "source": [
    "# Scores\n",
    "from sklearn.metrics import recall_score, f1_score, accuracy_score\n",
    "\n",
    "def get_scores(gt, pred, name=0):\n",
    "    scores = {\n",
    "    \"accuracy\": accuracy_score(gt, pred),\n",
    "    \"sensitivity\": recall_score(gt, pred),\n",
    "    \"specifictiy\": recall_score(gt, pred, pos_label=0),\n",
    "    \"f1\": f1_score(gt, pred),\n",
    "    }\n",
    "    # return scores as df\n",
    "    return pd.DataFrame(scores, index=[name])\n",
    "\n",
    "# Get scores for all folds\n",
    "def get_fold_scores(df, name=None):\n",
    "    # Get scores for each fold\n",
    "    scores = []\n",
    "    for fold in df.Fold.unique():\n",
    "        # Get gt and pred\n",
    "        gt = df[df.Fold == fold][\"gt\"]\n",
    "        pred = df[df.Fold == fold][\"predIdxs\"]\n",
    "        # Get scores\n",
    "        scores.append(get_scores(gt, pred, name=fold))\n",
    "    # Concat scores\n",
    "    scores = pd.concat(scores)\n",
    "    scores_mean = scores.mean()\n",
    "    scores_std = scores.std()\n",
    "    return scores_mean, scores_std"
   ]
  },
  {
   "cell_type": "code",
   "execution_count": 10,
   "metadata": {},
   "outputs": [
    {
     "data": {
      "text/html": [
       "<div>\n",
       "<style scoped>\n",
       "    .dataframe tbody tr th:only-of-type {\n",
       "        vertical-align: middle;\n",
       "    }\n",
       "\n",
       "    .dataframe tbody tr th {\n",
       "        vertical-align: top;\n",
       "    }\n",
       "\n",
       "    .dataframe thead th {\n",
       "        text-align: right;\n",
       "    }\n",
       "</style>\n",
       "<table border=\"1\" class=\"dataframe\">\n",
       "  <thead>\n",
       "    <tr style=\"text-align: right;\">\n",
       "      <th></th>\n",
       "      <th>accuracy</th>\n",
       "      <th>sensitivity</th>\n",
       "      <th>specifictiy</th>\n",
       "      <th>f1</th>\n",
       "    </tr>\n",
       "  </thead>\n",
       "  <tbody>\n",
       "    <tr>\n",
       "      <th>Frame</th>\n",
       "      <td>0.596437</td>\n",
       "      <td>0.614094</td>\n",
       "      <td>0.567837</td>\n",
       "      <td>0.603836</td>\n",
       "    </tr>\n",
       "    <tr>\n",
       "      <th>Video</th>\n",
       "      <td>0.604292</td>\n",
       "      <td>0.638172</td>\n",
       "      <td>0.563612</td>\n",
       "      <td>0.630106</td>\n",
       "    </tr>\n",
       "    <tr>\n",
       "      <th>Patient</th>\n",
       "      <td>0.597552</td>\n",
       "      <td>0.635714</td>\n",
       "      <td>0.518095</td>\n",
       "      <td>0.585758</td>\n",
       "    </tr>\n",
       "  </tbody>\n",
       "</table>\n",
       "</div>"
      ],
      "text/plain": [
       "         accuracy  sensitivity  specifictiy        f1\n",
       "Frame    0.596437     0.614094     0.567837  0.603836\n",
       "Video    0.604292     0.638172     0.563612  0.630106\n",
       "Patient  0.597552     0.635714     0.518095  0.585758"
      ]
     },
     "execution_count": 10,
     "metadata": {},
     "output_type": "execute_result"
    }
   ],
   "source": [
    "all_frames_predicted[\"gt\"] = all_frames_predicted[\"gt\"].astype(int)\n",
    "all_frames_predicted[\"predIdxs\"] = all_frames_predicted[\"predIdxs\"].astype(int)\n",
    "\n",
    "# Get scores for all folds\n",
    "scores_mean, scores_std = get_fold_scores(all_frames_predicted, name=\"Frames\")\n",
    "\n",
    "# Aggregate on the video level\n",
    "video_level = all_frames_predicted.groupby(\"video_name\").agg({\"gt\": \"first\", \"predIdxs\": \"mean\", \"Fold\":\"first\"}).reset_index()\n",
    "# Set prediction to 1 if probability is > 0.5\n",
    "video_level[\"predIdxs\"] = video_level[\"predIdxs\"].apply(lambda x: 1 if x > 0.5 else 0)\n",
    "\n",
    "# Get scores for all folds\n",
    "scores_mean_video, scores_std_video = get_fold_scores(video_level, name=\"Video\")\n",
    "\n",
    "# Patient level\n",
    "patient_level = all_frames_predicted.groupby(\"Patient ID\").agg({\"gt\": \"first\", \"predIdxs\": \"mean\", \"Fold\":\"first\"}).reset_index()\n",
    "patient_level[\"predIdxs\"] = patient_level[\"predIdxs\"].apply(lambda x: 1 if x > 0.5 else 0)\n",
    "\n",
    "# Get scores for all folds\n",
    "scores_mean_patient, scores_std_patient = get_fold_scores(patient_level, name=\"Patient\")\n",
    "\n",
    "# Combine scores_mean and scores_sta and assing names\n",
    "scores_mean = pd.concat([scores_mean, scores_mean_video, scores_mean_patient], axis=1).T\n",
    "scores_std = pd.concat([scores_std, scores_std_video, scores_std_patient], axis=1).T\n",
    "# Add index\n",
    "scores_mean.index = [\"Frame\", \"Video\", \"Patient\"]\n",
    "scores_std.index = [\"Frame\", \"Video\", \"Patient\"]\n",
    "scores_mean"
   ]
  },
  {
   "cell_type": "code",
   "execution_count": 11,
   "metadata": {},
   "outputs": [],
   "source": [
    "# Combine scores_mean and scores_std into latex table\n",
    "# Convert to string\n",
    "scores_mean_latex = scores_mean.applymap(lambda x: f\"{x:.2f}\") + \" $_{\\pm \" + scores_std.applymap(lambda x: f\"{x:.2f}\") + \"}$\"\n",
    "# # Accuracy in percent\n",
    "# scores_mean_latex[\"accuracy\"] = scores_mean[\"accuracy\"].apply(lambda x: \"{:.1f}\".format(round(x*100,1))+\"\\%\") + \" $_{\\pm \" + scores_std[\"accuracy\"].apply(lambda x: \"{:.1f}\".format(round(x*100,1))+\"\\%\") + \"}$\"\n",
    "# Drop f1\n",
    "scores_mean_latex = scores_mean_latex.drop(\"f1\", axis=1)"
   ]
  },
  {
   "cell_type": "code",
   "execution_count": 12,
   "metadata": {},
   "outputs": [
    {
     "name": "stdout",
     "output_type": "stream",
     "text": [
      "\\begin{tabular}{llll}\n",
      "\\toprule\n",
      "{} &            accuracy &         sensitivity &         specifictiy \\\\\n",
      "\\midrule\n",
      "Frame   &  0.60 $_{\\pm 0.04}$ &  0.61 $_{\\pm 0.14}$ &  0.57 $_{\\pm 0.20}$ \\\\\n",
      "Video   &  0.60 $_{\\pm 0.04}$ &  0.64 $_{\\pm 0.16}$ &  0.56 $_{\\pm 0.23}$ \\\\\n",
      "Patient &  0.60 $_{\\pm 0.09}$ &  0.64 $_{\\pm 0.33}$ &  0.52 $_{\\pm 0.32}$ \\\\\n",
      "\\bottomrule\n",
      "\\end{tabular}\n",
      "\n"
     ]
    },
    {
     "name": "stderr",
     "output_type": "stream",
     "text": [
      "/tmp/ipykernel_15927/696304119.py:2: FutureWarning: In future versions `DataFrame.to_latex` is expected to utilise the base implementation of `Styler.to_latex` for formatting and rendering. The arguments signature may therefore change. It is recommended instead to use `DataFrame.style.to_latex` which also contains additional functionality.\n",
      "  print(scores_mean_latex.to_latex(escape=False))\n"
     ]
    }
   ],
   "source": [
    "#Print latex table\n",
    "print(scores_mean_latex.to_latex(escape=False))"
   ]
  },
  {
   "cell_type": "code",
   "execution_count": 13,
   "metadata": {},
   "outputs": [
    {
     "name": "stdout",
     "output_type": "stream",
     "text": [
      "Predictions exist for continued_vgg_pre_pocovid_maastricht\n"
     ]
    },
    {
     "data": {
      "text/plain": [
       "'/itet-stor/mrichte/covlus_bmicnas02/matthias/trained_models/continued_vgg_pre_pocovid_maastricht/continued_vgg_pre_pocovid_maastricht_results'"
      ]
     },
     "execution_count": 13,
     "metadata": {},
     "output_type": "execute_result"
    }
   ],
   "source": [
    "MODEL_TO_LOAD = \"continued_vgg_pre_pocovid_maastricht\"\n",
    "\n",
    "# Check if row in model_df\n",
    "if MODEL_TO_LOAD not in model_df.dir.values:\n",
    "    raise ValueError(\"Model not found\")\n",
    "\n",
    "# Get row\n",
    "row = model_df[model_df.dir == MODEL_TO_LOAD].iloc[0]\n",
    "\n",
    "args = {\n",
    "\"dataset\": row.dataset,\n",
    "\"weights\": os.path.join(MODELS_PATH, row.dir),\n",
    "\"m_id\": \"vgg_base\",\n",
    "\"classes\": 2,\n",
    "\"folds\": 5,\n",
    "\"save_path\": os.path.join(MODELS_PATH, row.dir, row.dir + \"_results\")\n",
    "}\n",
    "\n",
    "if os.path.exists(args[\"save_path\"] + \"_all_frames_predicted.csv\"):\n",
    "    print(f\"Predictions exist for {row.dir}\")\n",
    "\n",
    "args[\"save_path\"]"
   ]
  },
  {
   "cell_type": "code",
   "execution_count": 14,
   "metadata": {},
   "outputs": [
    {
     "data": {
      "text/html": [
       "<div>\n",
       "<style scoped>\n",
       "    .dataframe tbody tr th:only-of-type {\n",
       "        vertical-align: middle;\n",
       "    }\n",
       "\n",
       "    .dataframe tbody tr th {\n",
       "        vertical-align: top;\n",
       "    }\n",
       "\n",
       "    .dataframe thead th {\n",
       "        text-align: right;\n",
       "    }\n",
       "</style>\n",
       "<table border=\"1\" class=\"dataframe\">\n",
       "  <thead>\n",
       "    <tr style=\"text-align: right;\">\n",
       "      <th></th>\n",
       "      <th>accuracy</th>\n",
       "      <th>sensitivity</th>\n",
       "      <th>specifictiy</th>\n",
       "      <th>f1</th>\n",
       "    </tr>\n",
       "  </thead>\n",
       "  <tbody>\n",
       "    <tr>\n",
       "      <th>Frame</th>\n",
       "      <td>0.589186</td>\n",
       "      <td>0.557256</td>\n",
       "      <td>0.619032</td>\n",
       "      <td>0.568195</td>\n",
       "    </tr>\n",
       "    <tr>\n",
       "      <th>Video</th>\n",
       "      <td>0.583987</td>\n",
       "      <td>0.545773</td>\n",
       "      <td>0.620441</td>\n",
       "      <td>0.569208</td>\n",
       "    </tr>\n",
       "    <tr>\n",
       "      <th>Patient</th>\n",
       "      <td>0.643706</td>\n",
       "      <td>0.601190</td>\n",
       "      <td>0.666667</td>\n",
       "      <td>0.570256</td>\n",
       "    </tr>\n",
       "  </tbody>\n",
       "</table>\n",
       "</div>"
      ],
      "text/plain": [
       "         accuracy  sensitivity  specifictiy        f1\n",
       "Frame    0.589186     0.557256     0.619032  0.568195\n",
       "Video    0.583987     0.545773     0.620441  0.569208\n",
       "Patient  0.643706     0.601190     0.666667  0.570256"
      ]
     },
     "execution_count": 14,
     "metadata": {},
     "output_type": "execute_result"
    }
   ],
   "source": [
    "# Load all_frames_predicted.csv\n",
    "all_frames_predicted = pd.read_csv(args[\"save_path\"] + \"_all_frames_predicted.csv\", index_col=0)\n",
    "\n",
    "all_frames_predicted[\"gt\"] = all_frames_predicted[\"gt\"].astype(int)\n",
    "all_frames_predicted[\"predIdxs\"] = all_frames_predicted[\"predIdxs\"].astype(int)\n",
    "\n",
    "# Get scores for all folds\n",
    "scores_mean, scores_std = get_fold_scores(all_frames_predicted, name=\"Frames\")\n",
    "\n",
    "# Aggregate on the video level\n",
    "video_level = all_frames_predicted.groupby(\"video_name\").agg({\"gt\": \"first\", \"predIdxs\": \"mean\", \"Fold\":\"first\"}).reset_index()\n",
    "# Set prediction to 1 if probability is > 0.5\n",
    "video_level[\"predIdxs\"] = video_level[\"predIdxs\"].apply(lambda x: 1 if x > 0.5 else 0)\n",
    "\n",
    "# Get scores for all folds\n",
    "scores_mean_video, scores_std_video = get_fold_scores(video_level, name=\"Video\")\n",
    "\n",
    "# Patient level\n",
    "patient_level = all_frames_predicted.groupby(\"Patient ID\").agg({\"gt\": \"first\", \"predIdxs\": \"mean\", \"Fold\":\"first\"}).reset_index()\n",
    "patient_level[\"predIdxs\"] = patient_level[\"predIdxs\"].apply(lambda x: 1 if x > 0.5 else 0)\n",
    "\n",
    "# Get scores for all folds\n",
    "scores_mean_patient, scores_std_patient = get_fold_scores(patient_level, name=\"Patient\")\n",
    "\n",
    "# Combine scores_mean and scores_sta and assing names\n",
    "scores_mean = pd.concat([scores_mean, scores_mean_video, scores_mean_patient], axis=1).T\n",
    "scores_std = pd.concat([scores_std, scores_std_video, scores_std_patient], axis=1).T\n",
    "# Add index\n",
    "scores_mean.index = [\"Frame\", \"Video\", \"Patient\"]\n",
    "scores_std.index = [\"Frame\", \"Video\", \"Patient\"]\n",
    "scores_mean\n"
   ]
  },
  {
   "cell_type": "code",
   "execution_count": 15,
   "metadata": {},
   "outputs": [],
   "source": [
    "# Combine scores_mean and scores_std into latex table\n",
    "# Convert to string\n",
    "scores_mean_latex = scores_mean.applymap(lambda x: f\"{x:.2f}\") + \" $_{\\pm \" + scores_std.applymap(lambda x: f\"{x:.2f}\") + \"}$\"\n",
    "# # Accuracy in percent\n",
    "# scores_mean_latex[\"accuracy\"] = scores_mean[\"accuracy\"].apply(lambda x: \"{:.1f}\".format(round(x*100,1))+\"\\%\") + \" $_{\\pm \" + scores_std[\"accuracy\"].apply(lambda x: \"{:.1f}\".format(round(x*100,1))+\"\\%\") + \"}$\"\n",
    "# Drop f1\n",
    "scores_mean_latex = scores_mean_latex.drop(\"f1\", axis=1)"
   ]
  },
  {
   "cell_type": "code",
   "execution_count": 16,
   "metadata": {},
   "outputs": [
    {
     "name": "stdout",
     "output_type": "stream",
     "text": [
      "\\begin{tabular}{llll}\n",
      "\\toprule\n",
      "{} &            accuracy &         sensitivity &         specifictiy \\\\\n",
      "\\midrule\n",
      "Frame   &  0.59 $_{\\pm 0.07}$ &  0.56 $_{\\pm 0.20}$ &  0.62 $_{\\pm 0.18}$ \\\\\n",
      "Video   &  0.58 $_{\\pm 0.07}$ &  0.55 $_{\\pm 0.21}$ &  0.62 $_{\\pm 0.17}$ \\\\\n",
      "Patient &  0.64 $_{\\pm 0.11}$ &  0.60 $_{\\pm 0.37}$ &  0.67 $_{\\pm 0.25}$ \\\\\n",
      "\\bottomrule\n",
      "\\end{tabular}\n",
      "\n"
     ]
    },
    {
     "name": "stderr",
     "output_type": "stream",
     "text": [
      "/tmp/ipykernel_15927/696304119.py:2: FutureWarning: In future versions `DataFrame.to_latex` is expected to utilise the base implementation of `Styler.to_latex` for formatting and rendering. The arguments signature may therefore change. It is recommended instead to use `DataFrame.style.to_latex` which also contains additional functionality.\n",
      "  print(scores_mean_latex.to_latex(escape=False))\n"
     ]
    }
   ],
   "source": [
    "#Print latex table\n",
    "print(scores_mean_latex.to_latex(escape=False))"
   ]
  },
  {
   "cell_type": "code",
   "execution_count": null,
   "metadata": {},
   "outputs": [],
   "source": []
  }
 ],
 "metadata": {
  "kernelspec": {
   "display_name": "DL4LUS",
   "language": "python",
   "name": "python3"
  },
  "language_info": {
   "codemirror_mode": {
    "name": "ipython",
    "version": 3
   },
   "file_extension": ".py",
   "mimetype": "text/x-python",
   "name": "python",
   "nbconvert_exporter": "python",
   "pygments_lexer": "ipython3",
   "version": "3.8.13"
  },
  "orig_nbformat": 4
 },
 "nbformat": 4,
 "nbformat_minor": 2
}
