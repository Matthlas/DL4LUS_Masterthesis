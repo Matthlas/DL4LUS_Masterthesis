{
 "cells": [
  {
   "cell_type": "code",
   "execution_count": 1,
   "metadata": {},
   "outputs": [],
   "source": [
    "import pandas as pd\n",
    "import os"
   ]
  },
  {
   "cell_type": "code",
   "execution_count": 2,
   "metadata": {},
   "outputs": [],
   "source": [
    "MODELS_PATH = \"/PATH_TO_/trained_models/\""
   ]
  },
  {
   "cell_type": "code",
   "execution_count": 3,
   "metadata": {},
   "outputs": [
    {
     "data": {
      "text/html": [
       "<div>\n",
       "<style scoped>\n",
       "    .dataframe tbody tr th:only-of-type {\n",
       "        vertical-align: middle;\n",
       "    }\n",
       "\n",
       "    .dataframe tbody tr th {\n",
       "        vertical-align: top;\n",
       "    }\n",
       "\n",
       "    .dataframe thead th {\n",
       "        text-align: right;\n",
       "    }\n",
       "</style>\n",
       "<table border=\"1\" class=\"dataframe\">\n",
       "  <thead>\n",
       "    <tr style=\"text-align: right;\">\n",
       "      <th></th>\n",
       "      <th>dir</th>\n",
       "      <th>train_type</th>\n",
       "      <th>model_id</th>\n",
       "      <th>dataset</th>\n",
       "    </tr>\n",
       "  </thead>\n",
       "  <tbody>\n",
       "    <tr>\n",
       "      <th>0</th>\n",
       "      <td>simple_replicated_vgg_covid_us</td>\n",
       "      <td>replicated</td>\n",
       "      <td>vgg</td>\n",
       "      <td>covid_us</td>\n",
       "    </tr>\n",
       "    <tr>\n",
       "      <th>1</th>\n",
       "      <td>simple_replicated_vgg_pocovid_covid_us_combined</td>\n",
       "      <td>replicated</td>\n",
       "      <td>vgg</td>\n",
       "      <td>pocovid_covid_us_combined</td>\n",
       "    </tr>\n",
       "    <tr>\n",
       "      <th>2</th>\n",
       "      <td>simple_replicated_vgg_pocovid</td>\n",
       "      <td>replicated</td>\n",
       "      <td>vgg</td>\n",
       "      <td>pocovid</td>\n",
       "    </tr>\n",
       "    <tr>\n",
       "      <th>3</th>\n",
       "      <td>simple_replicated_vgg_maastricht</td>\n",
       "      <td>replicated</td>\n",
       "      <td>vgg</td>\n",
       "      <td>maastricht</td>\n",
       "    </tr>\n",
       "    <tr>\n",
       "      <th>4</th>\n",
       "      <td>continued_vgg_pre_pocovid_maastricht</td>\n",
       "      <td>continued</td>\n",
       "      <td>vgg</td>\n",
       "      <td>maastricht</td>\n",
       "    </tr>\n",
       "    <tr>\n",
       "      <th>5</th>\n",
       "      <td>continued_vgg_pre_covid_us_maastricht</td>\n",
       "      <td>continued</td>\n",
       "      <td>vgg</td>\n",
       "      <td>maastricht</td>\n",
       "    </tr>\n",
       "    <tr>\n",
       "      <th>6</th>\n",
       "      <td>continued_vgg_pre_combined_maastricht</td>\n",
       "      <td>continued</td>\n",
       "      <td>vgg</td>\n",
       "      <td>maastricht</td>\n",
       "    </tr>\n",
       "  </tbody>\n",
       "</table>\n",
       "</div>"
      ],
      "text/plain": [
       "                                               dir  train_type model_id  \\\n",
       "0                   simple_replicated_vgg_covid_us  replicated      vgg   \n",
       "1  simple_replicated_vgg_pocovid_covid_us_combined  replicated      vgg   \n",
       "2                    simple_replicated_vgg_pocovid  replicated      vgg   \n",
       "3                 simple_replicated_vgg_maastricht  replicated      vgg   \n",
       "4             continued_vgg_pre_pocovid_maastricht   continued      vgg   \n",
       "5            continued_vgg_pre_covid_us_maastricht   continued      vgg   \n",
       "6            continued_vgg_pre_combined_maastricht   continued      vgg   \n",
       "\n",
       "                     dataset  \n",
       "0                   covid_us  \n",
       "1  pocovid_covid_us_combined  \n",
       "2                    pocovid  \n",
       "3                 maastricht  \n",
       "4                 maastricht  \n",
       "5                 maastricht  \n",
       "6                 maastricht  "
      ]
     },
     "execution_count": 3,
     "metadata": {},
     "output_type": "execute_result"
    }
   ],
   "source": [
    "# Create dataframe with all trained models\n",
    "trained_models = os.listdir(MODELS_PATH)\n",
    "trained_models = [m for m in trained_models if \"vgg\" in m]\n",
    "model_df = pd.DataFrame(trained_models)\n",
    "model_df_1 = model_df[0].str.replace(\"simple_\", \"\").str.replace(\"pre_\", \"\").str.split(\"_\", n=2, expand=True)\n",
    "model_df = pd.concat([model_df, model_df_1], axis=1)\n",
    "model_df.columns = [\"dir\", \"train_type\", \"model_id\", \"dataset\"]\n",
    "model_df.dataset = model_df.dataset.str.replace(\"^.*?maastricht\", \"maastricht\", regex=True)\n",
    "\n",
    "model_df"
   ]
  },
  {
   "cell_type": "code",
   "execution_count": 4,
   "metadata": {},
   "outputs": [
    {
     "name": "stdout",
     "output_type": "stream",
     "text": [
      "Predictions exist for simple_replicated_vgg_covid_us\n",
      "Predictions exist for simple_replicated_vgg_pocovid_covid_us_combined\n",
      "Predictions exist for simple_replicated_vgg_pocovid\n",
      "Predictions exist for simple_replicated_vgg_maastricht\n",
      "Predictions exist for continued_vgg_pre_pocovid_maastricht\n",
      "Predictions exist for continued_vgg_pre_covid_us_maastricht\n",
      "Predictions exist for continued_vgg_pre_combined_maastricht\n"
     ]
    }
   ],
   "source": [
    "# Check if predictions exist for all models\n",
    "for idx, row in model_df.iterrows():\n",
    "    args = {\n",
    "    \"save_path\": os.path.join(MODELS_PATH, row.dir, row.dir + \"_results\")\n",
    "    }\n",
    "    # Check if file exists\n",
    "    if os.path.exists(args[\"save_path\"] + \"_all_frames_predicted.csv\"):\n",
    "        print(f\"Predictions exist for {row.dir}\")\n",
    "    else:\n",
    "        print(f\"Predictions do not exist for {row.dir}\")"
   ]
  },
  {
   "cell_type": "code",
   "execution_count": 5,
   "metadata": {},
   "outputs": [
    {
     "name": "stdout",
     "output_type": "stream",
     "text": [
      "Predictions exist for simple_replicated_vgg_maastricht\n"
     ]
    },
    {
     "data": {
      "text/plain": [
       "'/itet-stor/mrichte/covlus_bmicnas02/matthias/trained_models/simple_replicated_vgg_maastricht/simple_replicated_vgg_maastricht_results'"
      ]
     },
     "execution_count": 5,
     "metadata": {},
     "output_type": "execute_result"
    }
   ],
   "source": [
    "MODEL_TO_LOAD = \"simple_replicated_vgg_maastricht\"\n",
    "\n",
    "# Check if row in model_df\n",
    "if MODEL_TO_LOAD not in model_df.dir.values:\n",
    "    raise ValueError(\"Model not found\")\n",
    "\n",
    "# Get row\n",
    "row = model_df[model_df.dir == MODEL_TO_LOAD].iloc[0]\n",
    "\n",
    "args = {\n",
    "\"dataset\": row.dataset,\n",
    "\"weights\": os.path.join(MODELS_PATH, row.dir),\n",
    "\"m_id\": \"vgg_base\",\n",
    "\"classes\": 2,\n",
    "\"folds\": 5,\n",
    "\"save_path\": os.path.join(MODELS_PATH, row.dir, row.dir + \"_results\")\n",
    "}\n",
    "\n",
    "if os.path.exists(args[\"save_path\"] + \"_all_frames_predicted.csv\"):\n",
    "    print(f\"Predictions exist for {row.dir}\")\n",
    "\n",
    "args[\"save_path\"]"
   ]
  },
  {
   "cell_type": "code",
   "execution_count": 7,
   "metadata": {},
   "outputs": [],
   "source": [
    "# Load evaluation results dir + results_aggregation_strategy_evaluation.csv\n",
    "eval_df = pd.read_csv(args[\"save_path\"] + \"_aggregation_strategy_evaluation.csv\")\n",
    "\n",
    "# Aggregate over folds with mean\n",
    "eval_df = eval_df.groupby([\"Aggregation Strategy\"]).mean().reset_index()"
   ]
  },
  {
   "cell_type": "code",
   "execution_count": 8,
   "metadata": {},
   "outputs": [],
   "source": [
    "# Load all_frames_predicted.csv\n",
    "all_frames_predicted = pd.read_csv(args[\"save_path\"] + \"_all_frames_predicted.csv\", index_col=0)"
   ]
  },
  {
   "cell_type": "code",
   "execution_count": 9,
   "metadata": {},
   "outputs": [],
   "source": [
    "# Get number of frames per video_name\n",
    "# all_frames_predicted.groupby(\"video_name\").count()[\"Frame\"].hist()"
   ]
  },
  {
   "cell_type": "code",
   "execution_count": 10,
   "metadata": {},
   "outputs": [],
   "source": [
    "# Scores\n",
    "from sklearn.metrics import recall_score, f1_score, accuracy_score\n",
    "\n",
    "def get_scores(gt, pred, name=0):\n",
    "    scores = {\n",
    "    \"accuracy\": accuracy_score(gt, pred),\n",
    "    \"sensitivity\": recall_score(gt, pred),\n",
    "    \"specifictiy\": recall_score(gt, pred, pos_label=0),\n",
    "    \"f1\": f1_score(gt, pred),\n",
    "    }\n",
    "    # return scores as df\n",
    "    return pd.DataFrame(scores, index=[name])"
   ]
  },
  {
   "cell_type": "code",
   "execution_count": 11,
   "metadata": {},
   "outputs": [
    {
     "data": {
      "text/html": [
       "<div>\n",
       "<style scoped>\n",
       "    .dataframe tbody tr th:only-of-type {\n",
       "        vertical-align: middle;\n",
       "    }\n",
       "\n",
       "    .dataframe tbody tr th {\n",
       "        vertical-align: top;\n",
       "    }\n",
       "\n",
       "    .dataframe thead th {\n",
       "        text-align: right;\n",
       "    }\n",
       "</style>\n",
       "<table border=\"1\" class=\"dataframe\">\n",
       "  <thead>\n",
       "    <tr style=\"text-align: right;\">\n",
       "      <th></th>\n",
       "      <th>accuracy</th>\n",
       "      <th>sensitivity</th>\n",
       "      <th>specifictiy</th>\n",
       "      <th>f1</th>\n",
       "      <th>model</th>\n",
       "    </tr>\n",
       "  </thead>\n",
       "  <tbody>\n",
       "    <tr>\n",
       "      <th>all_frames_predicted</th>\n",
       "      <td>0.597655</td>\n",
       "      <td>0.613324</td>\n",
       "      <td>0.580854</td>\n",
       "      <td>0.612024</td>\n",
       "      <td>simple_replicated_vgg_maastricht</td>\n",
       "    </tr>\n",
       "    <tr>\n",
       "      <th>video_level</th>\n",
       "      <td>0.606469</td>\n",
       "      <td>0.635468</td>\n",
       "      <td>0.571429</td>\n",
       "      <td>0.638614</td>\n",
       "      <td>simple_replicated_vgg_maastricht</td>\n",
       "    </tr>\n",
       "    <tr>\n",
       "      <th>patient_level</th>\n",
       "      <td>0.596774</td>\n",
       "      <td>0.636364</td>\n",
       "      <td>0.551724</td>\n",
       "      <td>0.626866</td>\n",
       "      <td>simple_replicated_vgg_maastricht</td>\n",
       "    </tr>\n",
       "  </tbody>\n",
       "</table>\n",
       "</div>"
      ],
      "text/plain": [
       "                      accuracy  sensitivity  specifictiy        f1  \\\n",
       "all_frames_predicted  0.597655     0.613324     0.580854  0.612024   \n",
       "video_level           0.606469     0.635468     0.571429  0.638614   \n",
       "patient_level         0.596774     0.636364     0.551724  0.626866   \n",
       "\n",
       "                                                 model  \n",
       "all_frames_predicted  simple_replicated_vgg_maastricht  \n",
       "video_level           simple_replicated_vgg_maastricht  \n",
       "patient_level         simple_replicated_vgg_maastricht  "
      ]
     },
     "execution_count": 11,
     "metadata": {},
     "output_type": "execute_result"
    }
   ],
   "source": [
    "all_frames_predicted[\"gt\"] = all_frames_predicted[\"gt\"].astype(int)\n",
    "all_frames_predicted[\"predIdxs\"] = all_frames_predicted[\"predIdxs\"].astype(int)\n",
    "\n",
    "scores = get_scores(all_frames_predicted[\"gt\"], all_frames_predicted[\"predIdxs\"], name=\"all_frames_predicted\")\n",
    "\n",
    "# Aggregate on the video level\n",
    "video_level = all_frames_predicted.groupby(\"video_name\").agg({\"gt\": \"first\", \"predIdxs\": \"mean\"}).reset_index()\n",
    "# Set prediction to 1 if probability is > 0.5\n",
    "video_level[\"predIdxs\"] = video_level[\"predIdxs\"].apply(lambda x: 1 if x > 0.5 else 0)\n",
    "\n",
    "video_scores = get_scores(video_level[\"gt\"], video_level[\"predIdxs\"], name=\"video_level\")\n",
    "\n",
    "# Patient level\n",
    "patient_level = all_frames_predicted.groupby(\"Patient ID\").agg({\"gt\": \"first\", \"predIdxs\": \"mean\"}).reset_index()\n",
    "patient_level[\"predIdxs\"] = patient_level[\"predIdxs\"].apply(lambda x: 1 if x > 0.5 else 0)\n",
    "\n",
    "patient_scores = get_scores(patient_level[\"gt\"], patient_level[\"predIdxs\"], name=\"patient_level\")\n",
    "\n",
    "# Concat scores\n",
    "scores = pd.concat([scores, video_scores, patient_scores])\n",
    "# Add model name\n",
    "scores[\"model\"] = MODEL_TO_LOAD\n",
    "scores"
   ]
  },
  {
   "cell_type": "code",
   "execution_count": 12,
   "metadata": {},
   "outputs": [
    {
     "name": "stdout",
     "output_type": "stream",
     "text": [
      "\\begin{tabular}{rrrrl}\n",
      "\\toprule\n",
      " accuracy &  sensitivity &  specifictiy &    f1 &                            model \\\\\n",
      "\\midrule\n",
      "    0.598 &        0.613 &        0.581 & 0.612 & simple\\_replicated\\_vgg\\_maastricht \\\\\n",
      "    0.606 &        0.635 &        0.571 & 0.639 & simple\\_replicated\\_vgg\\_maastricht \\\\\n",
      "    0.597 &        0.636 &        0.552 & 0.627 & simple\\_replicated\\_vgg\\_maastricht \\\\\n",
      "\\bottomrule\n",
      "\\end{tabular}\n",
      "\n"
     ]
    }
   ],
   "source": [
    "# to latex .3f for 3 decimals\n",
    "print(scores.to_latex(index=False, float_format=\"%.3f\"))"
   ]
  },
  {
   "cell_type": "code",
   "execution_count": 13,
   "metadata": {},
   "outputs": [
    {
     "name": "stdout",
     "output_type": "stream",
     "text": [
      "Predictions exist for continued_vgg_pre_pocovid_maastricht\n"
     ]
    },
    {
     "data": {
      "text/plain": [
       "'/itet-stor/mrichte/covlus_bmicnas02/matthias/trained_models/continued_vgg_pre_pocovid_maastricht/continued_vgg_pre_pocovid_maastricht_results'"
      ]
     },
     "execution_count": 13,
     "metadata": {},
     "output_type": "execute_result"
    }
   ],
   "source": [
    "MODEL_TO_LOAD = \"continued_vgg_pre_pocovid_maastricht\"\n",
    "\n",
    "# Check if row in model_df\n",
    "if MODEL_TO_LOAD not in model_df.dir.values:\n",
    "    raise ValueError(\"Model not found\")\n",
    "\n",
    "# Get row\n",
    "row = model_df[model_df.dir == MODEL_TO_LOAD].iloc[0]\n",
    "\n",
    "args = {\n",
    "\"dataset\": row.dataset,\n",
    "\"weights\": os.path.join(MODELS_PATH, row.dir),\n",
    "\"m_id\": \"vgg_base\",\n",
    "\"classes\": 2,\n",
    "\"folds\": 5,\n",
    "\"save_path\": os.path.join(MODELS_PATH, row.dir, row.dir + \"_results\")\n",
    "}\n",
    "\n",
    "if os.path.exists(args[\"save_path\"] + \"_all_frames_predicted.csv\"):\n",
    "    print(f\"Predictions exist for {row.dir}\")\n",
    "\n",
    "args[\"save_path\"]"
   ]
  },
  {
   "cell_type": "code",
   "execution_count": 14,
   "metadata": {},
   "outputs": [
    {
     "data": {
      "text/html": [
       "<div>\n",
       "<style scoped>\n",
       "    .dataframe tbody tr th:only-of-type {\n",
       "        vertical-align: middle;\n",
       "    }\n",
       "\n",
       "    .dataframe tbody tr th {\n",
       "        vertical-align: top;\n",
       "    }\n",
       "\n",
       "    .dataframe thead th {\n",
       "        text-align: right;\n",
       "    }\n",
       "</style>\n",
       "<table border=\"1\" class=\"dataframe\">\n",
       "  <thead>\n",
       "    <tr style=\"text-align: right;\">\n",
       "      <th></th>\n",
       "      <th>accuracy</th>\n",
       "      <th>sensitivity</th>\n",
       "      <th>specifictiy</th>\n",
       "      <th>f1</th>\n",
       "      <th>model</th>\n",
       "    </tr>\n",
       "  </thead>\n",
       "  <tbody>\n",
       "    <tr>\n",
       "      <th>all_frames_predicted</th>\n",
       "      <td>0.591745</td>\n",
       "      <td>0.560399</td>\n",
       "      <td>0.625353</td>\n",
       "      <td>0.586861</td>\n",
       "      <td>continued_vgg_pre_pocovid_maastricht</td>\n",
       "    </tr>\n",
       "    <tr>\n",
       "      <th>video_level</th>\n",
       "      <td>0.584906</td>\n",
       "      <td>0.551724</td>\n",
       "      <td>0.625000</td>\n",
       "      <td>0.592593</td>\n",
       "      <td>continued_vgg_pre_pocovid_maastricht</td>\n",
       "    </tr>\n",
       "    <tr>\n",
       "      <th>patient_level</th>\n",
       "      <td>0.645161</td>\n",
       "      <td>0.606061</td>\n",
       "      <td>0.689655</td>\n",
       "      <td>0.645161</td>\n",
       "      <td>continued_vgg_pre_pocovid_maastricht</td>\n",
       "    </tr>\n",
       "  </tbody>\n",
       "</table>\n",
       "</div>"
      ],
      "text/plain": [
       "                      accuracy  sensitivity  specifictiy        f1  \\\n",
       "all_frames_predicted  0.591745     0.560399     0.625353  0.586861   \n",
       "video_level           0.584906     0.551724     0.625000  0.592593   \n",
       "patient_level         0.645161     0.606061     0.689655  0.645161   \n",
       "\n",
       "                                                     model  \n",
       "all_frames_predicted  continued_vgg_pre_pocovid_maastricht  \n",
       "video_level           continued_vgg_pre_pocovid_maastricht  \n",
       "patient_level         continued_vgg_pre_pocovid_maastricht  "
      ]
     },
     "execution_count": 14,
     "metadata": {},
     "output_type": "execute_result"
    }
   ],
   "source": [
    "# Load all_frames_predicted.csv\n",
    "all_frames_predicted = pd.read_csv(args[\"save_path\"] + \"_all_frames_predicted.csv\", index_col=0)\n",
    "\n",
    "all_frames_predicted[\"gt\"] = all_frames_predicted[\"gt\"].astype(int)\n",
    "all_frames_predicted[\"predIdxs\"] = all_frames_predicted[\"predIdxs\"].astype(int)\n",
    "\n",
    "scores = get_scores(all_frames_predicted[\"gt\"], all_frames_predicted[\"predIdxs\"], name=\"all_frames_predicted\")\n",
    "\n",
    "# Aggregate on the video level\n",
    "video_level = all_frames_predicted.groupby(\"video_name\").agg({\"gt\": \"first\", \"predIdxs\": \"mean\"}).reset_index()\n",
    "# Set prediction to 1 if probability is > 0.5\n",
    "video_level[\"predIdxs\"] = video_level[\"predIdxs\"].apply(lambda x: 1 if x > 0.5 else 0)\n",
    "\n",
    "video_scores = get_scores(video_level[\"gt\"], video_level[\"predIdxs\"], name=\"video_level\")\n",
    "\n",
    "# Patient level\n",
    "patient_level = all_frames_predicted.groupby(\"Patient ID\").agg({\"gt\": \"first\", \"predIdxs\": \"mean\"}).reset_index()\n",
    "patient_level[\"predIdxs\"] = patient_level[\"predIdxs\"].apply(lambda x: 1 if x > 0.5 else 0)\n",
    "\n",
    "patient_scores = get_scores(patient_level[\"gt\"], patient_level[\"predIdxs\"], name=\"patient_level\")\n",
    "\n",
    "# Concat scores\n",
    "scores = pd.concat([scores, video_scores, patient_scores])\n",
    "# Add model name\n",
    "scores[\"model\"] = MODEL_TO_LOAD\n",
    "scores"
   ]
  },
  {
   "cell_type": "code",
   "execution_count": 15,
   "metadata": {},
   "outputs": [
    {
     "name": "stdout",
     "output_type": "stream",
     "text": [
      "\\begin{tabular}{rrrrl}\n",
      "\\toprule\n",
      " accuracy &  sensitivity &  specifictiy &    f1 &                                model \\\\\n",
      "\\midrule\n",
      "    0.592 &        0.560 &        0.625 & 0.587 & continued\\_vgg\\_pre\\_pocovid\\_maastricht \\\\\n",
      "    0.585 &        0.552 &        0.625 & 0.593 & continued\\_vgg\\_pre\\_pocovid\\_maastricht \\\\\n",
      "    0.645 &        0.606 &        0.690 & 0.645 & continued\\_vgg\\_pre\\_pocovid\\_maastricht \\\\\n",
      "\\bottomrule\n",
      "\\end{tabular}\n",
      "\n"
     ]
    }
   ],
   "source": [
    "# to latex .3f for 3 decimals\n",
    "print(scores.to_latex(index=False, float_format=\"%.3f\"))"
   ]
  },
  {
   "cell_type": "code",
   "execution_count": null,
   "metadata": {},
   "outputs": [],
   "source": []
  }
 ],
 "metadata": {
  "kernelspec": {
   "display_name": "tf_covid",
   "language": "python",
   "name": "python3"
  },
  "language_info": {
   "codemirror_mode": {
    "name": "ipython",
    "version": 3
   },
   "file_extension": ".py",
   "mimetype": "text/x-python",
   "name": "python",
   "nbconvert_exporter": "python",
   "pygments_lexer": "ipython3",
   "version": "3.7.16"
  },
  "orig_nbformat": 4
 },
 "nbformat": 4,
 "nbformat_minor": 2
}
