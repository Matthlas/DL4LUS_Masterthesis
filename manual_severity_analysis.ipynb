{
 "cells": [
  {
   "cell_type": "code",
   "execution_count": null,
   "metadata": {},
   "outputs": [],
   "source": [
    "import os\n",
    "import pandas as pd\n",
    "import glob\n",
    "\n",
    "import sys; sys.path.insert(0, \"./utils/\")\n",
    "from data_utils import get_data_location, get_clinical_df, get_bluepoints_df\n",
    "from ml_pipeline import highlight_max\n",
    "from statistics import evaluate_logits\n",
    "\n",
    "DATA_PATH = get_data_location()\n",
    "print(\"Infered Data path:\", DATA_PATH)"
   ]
  },
  {
   "attachments": {},
   "cell_type": "markdown",
   "metadata": {},
   "source": [
    "## Load Clinical & Bluepoint Data"
   ]
  },
  {
   "cell_type": "code",
   "execution_count": null,
   "metadata": {},
   "outputs": [],
   "source": [
    "clinical_data = get_clinical_df()\n",
    "\n",
    "clinical_data = clinical_data[[\"Video ID\", \"clin_diagn#COVID19_pneumonia\"]]\n",
    "clinical_data.columns = [\"Patient ID\", \"COVID19\"]\n",
    "\n",
    "bp = get_bluepoints_df()\n",
    "\n",
    "df = pd.merge(bp, clinical_data, on=\"Patient ID\").sort_values(by=[\"Patient ID\", \"Bluepoint\"])\n",
    "# Reorder columns\n",
    "df = df[[\"Patient ID\", \"Bluepoint\", \"video_name\", \"COVID19\"]]\n",
    "df.head()"
   ]
  },
  {
   "cell_type": "markdown",
   "metadata": {},
   "source": [
    "#### Add manual severity labels"
   ]
  },
  {
   "cell_type": "code",
   "execution_count": null,
   "metadata": {},
   "outputs": [],
   "source": [
    "manual_severity_score_path = os.path.join(DATA_PATH,\"severity_scores.xlsx\")\n",
    "\n",
    "# Read the excel sheets of both tablets\n",
    "tablets_dict_df = pd.read_excel(manual_severity_score_path, sheet_name=[\"Tablet A\", \"Tablet C\"] )\n",
    "tablet_A = tablets_dict_df.get(\"Tablet A\")\n",
    "tablet_C = tablets_dict_df.get(\"Tablet C\")\n",
    "\n",
    "tablet_A[\"Tablet\"] = \"A\"\n",
    "tablet_C[\"Tablet\"] = \"C\"\n",
    "\n",
    "# Drop all unnamed columns\n",
    "tablet_A = tablet_A.loc[:, ~tablet_A.columns.str.contains('^Unnamed')]\n",
    "tablet_C = tablet_C.loc[:, ~tablet_C.columns.str.contains('^Unnamed')]\n",
    "\n",
    "# Change columns of tablet C to make them uniform\n",
    "tablet_C.rename(columns={\"comment\": \"comments\"}, inplace=True)\n",
    "\n",
    "# Combine the two dataframes\n",
    "severity_manual = pd.concat([tablet_A, tablet_C], axis=0)\n",
    "# Keep only columns with KEEP == YES\n",
    "severity_manual = severity_manual[severity_manual[\"KEEP\"] == \"YES\"]\n",
    "# Print number of discarded rows\n",
    "print(\"Number of discarded rows:\", len(tablet_A) + len(tablet_C) - len(severity_manual))\n",
    "# Drop file extension from video ID\n",
    "severity_manual[\"video_name\"] = severity_manual[\"Video ID\"].str.replace(\".mp4\", \"\")\n",
    "# Drop video ID, Patient ID, KEEP\n",
    "severity_manual = severity_manual.drop(columns=[\"Video ID\", \"Patient ID\", \"KEEP\"])\n",
    "severity_manual.head(1)"
   ]
  },
  {
   "cell_type": "code",
   "execution_count": null,
   "metadata": {},
   "outputs": [],
   "source": [
    "# Merge with clinical & bp df\n",
    "severity = pd.merge(severity_manual, df, on=[\"video_name\"]).sort_values(by=[\"Patient ID\", \"Bluepoint\"]).reset_index(drop=True)\n",
    "# Reorder columns\n",
    "severity = severity[[\"Patient ID\", \n",
    "                    \"Bluepoint\", \n",
    "                    \"video_name\", \n",
    "                    \"COVID19\", \n",
    "                    \"Tablet\", \n",
    "                    \"Severity Score\", \n",
    "                    \"A-lines\",\n",
    "                    \"B-lines\",\n",
    "                    \"comments\", \n",
    "                    ]]\n",
    "# Rename for convenience\n",
    "severity.rename(columns={\"Severity Score\": \"Severity\"}, inplace=True)\n",
    "\n",
    "# Drop rows with missing severity scores\n",
    "severity = severity[~severity[\"Severity\"].isna()]\n",
    "severity.head()"
   ]
  },
  {
   "cell_type": "markdown",
   "metadata": {},
   "source": [
    "### Severity Score analysis"
   ]
  },
  {
   "cell_type": "code",
   "execution_count": null,
   "metadata": {},
   "outputs": [],
   "source": [
    "# Statistical test to check whether the COVID cases have on average different severity scores\n",
    "from scipy import stats as st\n",
    "from scipy.stats import mannwhitneyu\n",
    "from scipy.stats import spearmanr\n",
    "\n",
    "x0 = severity[severity[\"COVID19\"] == 0][\"Severity\"]\n",
    "x1 = severity[severity[\"COVID19\"] == 1][\"Severity\"]\n",
    "\n",
    "# T-Test for independent samples\n",
    "ttest = st.ttest_ind(a=x0, b=x1, equal_var=True)\n",
    "print(f\"T-Test: statistic={ttest.statistic:.4f}, p-value={ttest.pvalue:.4f}\")\n",
    "\n",
    "# Mann-Whitney U-Test\n",
    "stat, p_value = mannwhitneyu(x0, x1)\n",
    "print(f\"Mann–Whitney U Test: statistic={stat:.4f}, p-value={p_value:.4f}\")\n",
    "\n",
    "# Print green if p-value is significant otherwise red\n",
    "if p_value < 0.05:\n",
    "    print(\"\\033[92mSignificant difference\\033[0m\")\n",
    "else:\n",
    "    print(\"\\033[91mNo significant difference\\033[0m\")"
   ]
  },
  {
   "attachments": {},
   "cell_type": "markdown",
   "metadata": {},
   "source": [
    "On the video level there is no significant difference in the severity score distribution between the Covid + and - groups."
   ]
  },
  {
   "cell_type": "code",
   "execution_count": null,
   "metadata": {},
   "outputs": [],
   "source": [
    "import seaborn as sns\n",
    "import matplotlib.pyplot as plt\n",
    "#set seaborn plotting aesthetics as default\n",
    "sns.set(font_scale=1.5)\n",
    "#define plotting region \n",
    "# fig, axes = plt.subplots(2, 2, figsize=(15, 12))\n",
    "\n",
    "#Create different views of the severity score against the COVID19 diagnosis\n",
    "# sns.boxplot(data=severity, x='COVID19', y='Severity', ax=axes[0,0]).set(title='Boxplot')\n",
    "# sns.histplot(data=severity, x='Severity', hue='COVID19', bins=4, ax=axes[0,1]).set(title='Histogram')\n",
    "# sns.histplot(data=severity, x='Severity', hue='COVID19', bins=4, stat='density', common_norm=False, ax=axes[1,0]).set(title='Density')\n",
    "# sns.kdeplot(x='Severity', data=severity, hue='COVID19', common_norm=False, ax=axes[1,1]).set(title='KDE')\n",
    "# plt.show()\n",
    "\n",
    "fig, axes = plt.subplots(1, 2, figsize=(15, 6))\n",
    "\n",
    "#Create boxplot and density plot views of the severity score against the COVID19 diagnosis\n",
    "sns.boxplot(data=severity, x='COVID19', y='Severity', ax=axes[0]).set(title='Boxplot', xlabel='COVID-19', ylabel='Soldati Severity Score')\n",
    "axes[0].set_yticks([0, 1, 2, 3])\n",
    "sns.histplot(data=severity, x='Severity', hue='COVID19', bins=4, stat='density', common_norm=False, ax=axes[1], discrete=True).set(title='Density', xlabel='Soldati Severity Score', ylabel='Density')\n",
    "plt.show()"
   ]
  },
  {
   "attachments": {},
   "cell_type": "markdown",
   "metadata": {},
   "source": [
    "The plots confirm that visually there does not seem to be a separation between the two groups."
   ]
  },
  {
   "cell_type": "code",
   "execution_count": null,
   "metadata": {},
   "outputs": [],
   "source": [
    "# Correlate covid with severity score\n",
    "corr = severity.Severity.corr(severity.COVID19)\n",
    "print(f\"Correlation between severity score and COVID19 diagnosis: {corr:.4f}\")\n",
    "\n",
    "from scipy.stats import spearmanr\n",
    "\n",
    "#Calculate Spearman Rank correlation and corresponding p-value\n",
    "rho, p = spearmanr(severity['Severity'], severity['COVID19'])\n",
    "print(f\"Spearman Rank correlation: rho={rho:.4f}, p-value={p:.4f}\")\n"
   ]
  },
  {
   "attachments": {},
   "cell_type": "markdown",
   "metadata": {},
   "source": [
    "Correlation is also very low."
   ]
  },
  {
   "cell_type": "markdown",
   "metadata": {},
   "source": [
    "#### Patient level severity analysis"
   ]
  },
  {
   "cell_type": "code",
   "execution_count": null,
   "metadata": {},
   "outputs": [],
   "source": [
    "\n",
    "severity_patient_grp = severity.groupby(\"Patient ID\")\n",
    "\n",
    "severity_mean = severity_patient_grp.Severity.mean().rename(\"Severity_mean\")\n",
    "severtiy_sum = severity_patient_grp.Severity.sum().rename(\"Severity_sum\")\n",
    "severity_max = severity_patient_grp.Severity.max().rename(\"Severity_max\")\n",
    "severity_std = severity_patient_grp.Severity.std().rename(\"Severity_std\")\n",
    "covid = severity_patient_grp.COVID19.first()\n",
    "accumulation_df = pd.concat([severity_mean, severtiy_sum, severity_max, severity_std, covid], axis=1)\n",
    "# Drop nan values. 1 in std and spearman can't deal with it.\n",
    "accumulation_df_dropped_nan = accumulation_df.dropna()\n",
    "\n",
    "# Correlate COVID column with all other columns (aggregation_strategies) in accumulation_df\n",
    "corr = severity.Severity.corr(severity.COVID19)\n",
    "corr_mean = accumulation_df.COVID19.corr(accumulation_df.Severity_mean)\n",
    "corr_sum = accumulation_df.COVID19.corr(accumulation_df.Severity_sum)\n",
    "corr_max = accumulation_df.COVID19.corr(accumulation_df.Severity_max)\n",
    "corr_std = accumulation_df_dropped_nan.COVID19.corr(accumulation_df_dropped_nan.Severity_std)\n",
    "\n",
    "# Calculate Spearman Rank correlation and corresponding p-value\n",
    "rho, p = spearmanr(severity['Severity'], severity['COVID19'])\n",
    "rho_mean, p_mean = spearmanr(accumulation_df['Severity_mean'], accumulation_df['COVID19'])\n",
    "rho_sum, p_sum = spearmanr(accumulation_df['Severity_sum'], accumulation_df['COVID19'])\n",
    "rho_max, p_max = spearmanr(accumulation_df['Severity_max'], accumulation_df['COVID19'])\n",
    "\n",
    "rho_std, p_std = spearmanr(accumulation_df_dropped_nan['Severity_std'], accumulation_df_dropped_nan['COVID19'])\n",
    "\n",
    "# Perform Mann-Witney U-Test for all aggregation strategies\n",
    "stat, p_value = mannwhitneyu(severity[severity[\"COVID19\"] == 0][\"Severity\"], severity[severity[\"COVID19\"] == 1][\"Severity\"])\n",
    "stat_mean, p_value_mean = mannwhitneyu(accumulation_df[accumulation_df[\"COVID19\"] == 0][\"Severity_mean\"], accumulation_df[accumulation_df[\"COVID19\"] == 1][\"Severity_mean\"])\n",
    "stat_sum, p_value_sum = mannwhitneyu(accumulation_df[accumulation_df[\"COVID19\"] == 0][\"Severity_sum\"], accumulation_df[accumulation_df[\"COVID19\"] == 1][\"Severity_sum\"])\n",
    "stat_max, p_value_max = mannwhitneyu(accumulation_df[accumulation_df[\"COVID19\"] == 0][\"Severity_max\"], accumulation_df[accumulation_df[\"COVID19\"] == 1][\"Severity_max\"])\n",
    "stat_std, p_value_std = mannwhitneyu(accumulation_df_dropped_nan[accumulation_df_dropped_nan[\"COVID19\"] == 0][\"Severity_std\"], accumulation_df_dropped_nan[accumulation_df_dropped_nan[\"COVID19\"] == 1][\"Severity_std\"])\n",
    "\n",
    "\n",
    "# Put all into a df\n",
    "corr_df = pd.DataFrame({\"Correlation\": [corr, corr_mean, corr_sum, corr_max, corr_std],\n",
    "                        \"Spearman Rank correlation\": [rho, rho_mean, rho_sum, rho_max, rho_std],\n",
    "                        },\n",
    "                          index=[\"Severity\", \"Severity_mean\", \"Severity_sum\", \"Severity_max\", \"Severity_std\"])\n",
    "\n",
    "# Put all into a df\n",
    "stats_df = pd.DataFrame({\n",
    "                        \"Mann-Whitney U-Test p-value\": [p_value, p_value_mean, p_value_sum, p_value_max, p_value_std],\n",
    "                        \"Significant\": [p_value < 0.05, p_value_mean < 0.05, p_value_sum < 0.05, p_value_max < 0.05, p_value_std < 0.05],\n",
    "                        },\n",
    "                          index=[\"Severity\", \"Severity_mean\", \"Severity_sum\", \"Severity_max\", \"Severity_std\"])\n",
    "print(stats_df)\n",
    "corr_df.style.apply(highlight_max).format(\"{:.2f}\")\n"
   ]
  },
  {
   "attachments": {},
   "cell_type": "markdown",
   "metadata": {},
   "source": [
    "### Evaluate predictive performance of severity score for COVID19"
   ]
  },
  {
   "cell_type": "code",
   "execution_count": null,
   "metadata": {},
   "outputs": [],
   "source": [
    "# Evaluate the logits of the YOLONet\n",
    "gt = severity[\"COVID19\"].values\n",
    "predictions = (severity[\"Severity\"] >= 1).astype(int).values\n",
    "\n",
    "eval = evaluate_logits(gt, predictions, CLASSES=[\"No COVID\", \"COVID\"])\n",
    "eval = pd.concat([eval], keys=[\"None\"], names=['Accumulation'])\n",
    "eval.style.format(\"{:.2f}\")"
   ]
  },
  {
   "cell_type": "markdown",
   "metadata": {},
   "source": [
    "The values without patient level accumulation don't look very promising"
   ]
  },
  {
   "cell_type": "markdown",
   "metadata": {},
   "source": [
    "Next try to accumulate the severity scores by different means and check the patient-level performance.\n",
    "\n",
    "To do so we calculate get the optimal cut-off value for all aggregation strategies and evaluate the results."
   ]
  },
  {
   "cell_type": "code",
   "execution_count": null,
   "metadata": {},
   "outputs": [],
   "source": [
    "# Trying to find optimal threshold values for all accumulation scores\n",
    "import numpy as np\n",
    "from sklearn.metrics import roc_curve, auc\n",
    "\n",
    "# Taken from https://stackoverflow.com/questions/28719067/roc-curve-and-cut-off-point-python\n",
    "def Find_Optimal_Cutoff(target, predicted):\n",
    "    \"\"\" Find the optimal probability cutoff point for a classification model related to event rate\n",
    "    Parameters\n",
    "    ----------\n",
    "    target : Matrix with dependent or target data, where rows are observations\n",
    "\n",
    "    predicted : Matrix with predicted data, where rows are observations\n",
    "\n",
    "    Returns\n",
    "    -------     \n",
    "    list type, with optimal cutoff value\n",
    "        \n",
    "    \"\"\"\n",
    "    fpr, tpr, threshold = roc_curve(target, predicted)\n",
    "    i = np.arange(len(tpr)) \n",
    "    roc = pd.DataFrame({'tf' : pd.Series(tpr-(1-fpr), index=i), 'threshold' : pd.Series(threshold, index=i)})\n",
    "    roc_t = roc.iloc[(roc.tf-0).abs().argsort()[:1]]\n",
    "\n",
    "    return list(roc_t['threshold']) \n"
   ]
  },
  {
   "cell_type": "code",
   "execution_count": null,
   "metadata": {},
   "outputs": [],
   "source": [
    "from sklearn.model_selection import train_test_split\n",
    "eval_acc = eval\n",
    "accumulation_columns = list(accumulation_df_dropped_nan.columns[accumulation_df_dropped_nan.columns.str.contains(\"Severity\")])\n",
    "gt = accumulation_df_dropped_nan[\"COVID19\"]\n",
    "for acc in accumulation_columns:\n",
    "    X = accumulation_df_dropped_nan[acc]\n",
    "    y = gt\n",
    "    # Split into train and test to determine optimal cutoff on train set\n",
    "    X_train, X_test, y_train, y_test = train_test_split(X, y, test_size=0.33, random_state=42)\n",
    "    # Find optimal probability threshold\n",
    "    threshold = Find_Optimal_Cutoff(y_train, X_train)[0]\n",
    "    print(f\"Threshold for {acc}: {threshold}\")\n",
    "    # Get prediction by applying threshold to the test set\n",
    "    predictions = X_test.map(lambda x: 1 if x > threshold else 0)\n",
    "    temp = evaluate_logits(y_test, predictions, CLASSES=[\"No COVID\", \"COVID\"])\n",
    "    temp = pd.concat([temp], keys=[acc], names=['Accumulation'])\n",
    "    eval_acc = pd.concat([eval_acc, temp])\n",
    "\n",
    "eval_acc.style.apply(highlight_max).format(\"{:.2f}\")"
   ]
  },
  {
   "cell_type": "code",
   "execution_count": null,
   "metadata": {},
   "outputs": [],
   "source": [
    "# print(eval_acc.to_latex())"
   ]
  },
  {
   "attachments": {},
   "cell_type": "markdown",
   "metadata": {},
   "source": [
    "This does not improve the results significantly."
   ]
  },
  {
   "attachments": {},
   "cell_type": "markdown",
   "metadata": {},
   "source": [
    "### Does the variance in severity scores differ from covid vs non-covid?"
   ]
  },
  {
   "cell_type": "code",
   "execution_count": null,
   "metadata": {},
   "outputs": [],
   "source": [
    "severity_variance = severity.groupby(\"Patient ID\").agg({\"Severity\": \"std\",\"COVID19\": \"first\"}).reset_index()\n",
    "severity_variance = severity_variance.rename(columns={\"Severity\": \"Severity_std\"})\n",
    "severity_variance = severity_variance.dropna()\n",
    "\n",
    "# Get the severity variance for COVID and non-COVID patients\n",
    "x0 = severity_variance[severity_variance[\"COVID19\"] == 0][\"Severity_std\"].values\n",
    "x1 = severity_variance[severity_variance[\"COVID19\"] == 1][\"Severity_std\"].values\n",
    "# Mann-Whitney U-Test\n",
    "stat, p_value = mannwhitneyu(x0, x1)\n",
    "print(f\"Mann–Whitney U Test: statistic={stat:.4f}, p-value={p_value:.4f}\")\n",
    "\n",
    "# Print green if p-value is significant otherwise red\n",
    "if p_value < 0.05:\n",
    "    print(\"\\033[92mSignificant difference\\033[0m\")\n",
    "else:\n",
    "    print(\"\\033[91mNo significant difference\\033[0m\")\n",
    "\n",
    "sns.boxplot(data=severity_variance, x='COVID19', y='Severity_std').set(title='Std of severity comparison')\n",
    "# Set y axis label\n",
    "plt.ylabel(\"Std of severity\")\n",
    "plt.show()"
   ]
  },
  {
   "cell_type": "markdown",
   "metadata": {},
   "source": [
    "## Bluepoint level severity analysis"
   ]
  },
  {
   "cell_type": "code",
   "execution_count": null,
   "metadata": {},
   "outputs": [],
   "source": [
    "bluepoints = severity.Bluepoint.unique()\n",
    "bluepoints = bluepoints[bluepoints != \"None\"]\n",
    "bluepoints = [x for x in bluepoints if str(x) != 'nan']\n",
    "# bluepoints.sort()\n",
    "bluepoints"
   ]
  },
  {
   "cell_type": "code",
   "execution_count": null,
   "metadata": {},
   "outputs": [],
   "source": [
    "#set seaborn plotting aesthetics as default\n",
    "sns.set()\n",
    "#define plotting region \n",
    "fig, axes = plt.subplots(2, 3, figsize=(15, 10))\n",
    "\n",
    "for i, bp in enumerate(bluepoints):\n",
    "    # Filter the data\n",
    "    bp_df = severity[severity.Bluepoint == bp]\n",
    "    # Plot the data\n",
    "    print(f\"Bluepoint {bp} has {bp_df.shape[0]} frames\")\n",
    "    sns.boxplot(data=bp_df, x=\"COVID19\", y=\"Severity\", ax=axes[i//3, i%3])\n",
    "    axes[i//3, i%3].set_title(f\"Bluepoint: {bp}\")\n",
    "    axes[i//3, i%3].set_xlabel(\"Severity score\")\n",
    "    axes[i//3, i%3].set_ylabel(\"COVID19\")\n",
    "    \n",
    "plt.show()"
   ]
  },
  {
   "cell_type": "markdown",
   "metadata": {},
   "source": [
    "Try Violinplot instead"
   ]
  },
  {
   "cell_type": "code",
   "execution_count": null,
   "metadata": {},
   "outputs": [],
   "source": [
    "#set seaborn plotting aesthetics as default\n",
    "sns.set()\n",
    "#define plotting region \n",
    "fig, axes = plt.subplots(2, 3, figsize=(15, 10))\n",
    "\n",
    "for i, bp in enumerate(bluepoints):\n",
    "    # Filter the data\n",
    "    bp_df = severity[severity.Bluepoint == bp]\n",
    "    # Plot the data\n",
    "    sns.violinplot(data=bp_df, x=\"COVID19\", y=\"Severity\", ax=axes[i//3, i%3])\n",
    "    axes[i//3, i%3].set_title(f\"Bluepoint: {bp}\")\n",
    "    axes[i//3, i%3].set_xlabel(\"Severity score\")\n",
    "    axes[i//3, i%3].set_ylabel(\"COVID19\")\n",
    "    \n",
    "plt.show()"
   ]
  },
  {
   "cell_type": "code",
   "execution_count": null,
   "metadata": {},
   "outputs": [],
   "source": [
    "for bp in bluepoints:\n",
    "    if bp == \"None\":\n",
    "        continue\n",
    "    corr_cov = severity[severity.Bluepoint == bp].Severity.corr(severity[severity.Bluepoint == bp].COVID19)\n",
    "    print(f\"Bluepoint: {bp}\\tCorr: {corr_cov:.2f}\")"
   ]
  },
  {
   "attachments": {},
   "cell_type": "markdown",
   "metadata": {},
   "source": [
    "Its a somewhat inverted picture as compared to the YOLO and the Segmentation results. No clear trend in the Bluepoints."
   ]
  },
  {
   "cell_type": "code",
   "execution_count": null,
   "metadata": {},
   "outputs": [],
   "source": [
    "#set seaborn plotting aesthetics as default\n",
    "sns.set()\n",
    "#define plotting region \n",
    "fig, axes = plt.subplots(2, 3, figsize=(15, 10))\n",
    "\n",
    "for i, bp in enumerate(bluepoints):\n",
    "    # Filter the data\n",
    "    bp_df = severity[severity.Bluepoint == bp]\n",
    "    # Plot the data\n",
    "    sns.histplot(data=bp_df, x=\"Severity\", hue=\"COVID19\", stat='density', common_norm=False, ax=axes[i//3, i%3])\n",
    "    axes[i//3, i%3].set_title(f\"Bluepoint: {bp}\")\n",
    "    axes[i//3, i%3].set_xlabel(\"Severity score\")\n",
    "    axes[i//3, i%3].set_ylabel(\"COVID19\")\n",
    "    \n",
    "plt.show()"
   ]
  },
  {
   "cell_type": "markdown",
   "metadata": {},
   "source": [
    "The density plot shows the same picture. A lot better separation along the severiy score. "
   ]
  },
  {
   "cell_type": "markdown",
   "metadata": {},
   "source": [
    "Inspired by this result check the predictive performance of the severity score per bluepoint."
   ]
  },
  {
   "cell_type": "code",
   "execution_count": null,
   "metadata": {},
   "outputs": [],
   "source": [
    "# Evaluate the logits of the YOLONet for all bluepoints\n",
    "gt = severity[\"COVID19\"].values\n",
    "predictions = (severity[\"Severity\"] >= 1).astype(int).values\n",
    "\n",
    "eval = evaluate_logits(gt, predictions, CLASSES=[\"No COVID\", \"COVID\"])\n",
    "eval = pd.concat([eval], keys=[\"All\"], names=['Bluepoint'])"
   ]
  },
  {
   "cell_type": "code",
   "execution_count": null,
   "metadata": {},
   "outputs": [],
   "source": [
    "eval_bp = eval\n",
    "for bp in bluepoints:\n",
    "    if bp == \"None\": continue\n",
    "    bp_df = severity[severity.Bluepoint == bp]\n",
    "    gt = bp_df[\"COVID19\"].values\n",
    "    predictions = (bp_df[\"Severity\"] >= 1).astype(int).values\n",
    "    temp = evaluate_logits(gt, predictions, CLASSES=[\"No COVID\", \"COVID\"])\n",
    "    temp = pd.concat([temp], keys=[bp], names=['Bluepoint'])\n",
    "    eval_bp = pd.concat([eval_bp, temp])\n",
    "\n",
    "eval_bp.style.background_gradient().apply(highlight_max)"
   ]
  },
  {
   "cell_type": "code",
   "execution_count": null,
   "metadata": {},
   "outputs": [],
   "source": [
    "# latex = eval_bp.drop(columns=[\"specificity\", \"precision\", \"recall\", \"accuracy\", \"f1-score\", \"mcc\"])\n",
    "# print(latex.reset_index().drop(columns=[\"level_1\"]).drop_duplicates().rename(columns={\"balanced\": \"Balanced Accuracy\"}).to_latex(index=False, float_format=\"%.2f\"))"
   ]
  },
  {
   "attachments": {},
   "cell_type": "markdown",
   "metadata": {},
   "source": [
    "L3 seems to be over all the best performing bp. LR2 are consistently bad."
   ]
  },
  {
   "cell_type": "markdown",
   "metadata": {},
   "source": [
    "### Blue point analysis on manual severity labels"
   ]
  },
  {
   "cell_type": "code",
   "execution_count": null,
   "metadata": {},
   "outputs": [],
   "source": [
    "bp_left = severity[severity.Bluepoint.isin([\"L1\", \"L2\", \"L3\"])].Severity\n",
    "bp_right = severity[severity.Bluepoint.isin([\"R1\", \"R2\", \"R3\"])].Severity\n",
    "\n",
    "bp_1 = severity[severity.Bluepoint.isin([\"L1\", \"R1\"])].Severity\n",
    "bp_2 = severity[severity.Bluepoint.isin([\"L2\", \"R2\"])].Severity\n",
    "bp_3 = severity[severity.Bluepoint.isin([\"L3\", \"R3\"])].Severity\n",
    "\n",
    "p_values = []\n",
    "\n",
    "# Mann-Whitney U-Test\n",
    "stat, p_value = mannwhitneyu(bp_left, bp_right)\n",
    "p_values.append(p_value)\n",
    "print(\"Bluepoint left vs right\")\n",
    "print(f\"Mann–Whitney U Test: statistic={stat:.4f}, p-value={p_value:.4f}\")\n",
    "print(f\"Mean severity left: {bp_left.mean():.4f}\")\n",
    "print(f\"Mean severity right: {bp_right.mean():.4f}\")\n",
    "\n",
    "print(\"\")\n",
    "print(\"Bluepoint 1 vs 2 vs 3\")\n",
    "print(\"1 vs 2\")\n",
    "stat, p_value = mannwhitneyu(bp_1, bp_2)\n",
    "p_values.append(p_value)\n",
    "print(f\"Mann–Whitney U Test: statistic={stat:.4f}, p-value={p_value:.4f}\")\n",
    "print(\"2 vs 3\")\n",
    "stat, p_value = mannwhitneyu(bp_2, bp_3)\n",
    "p_values.append(p_value)\n",
    "print(f\"Mann–Whitney U Test: statistic={stat:.4f}, p-value={p_value:.4f}\")\n",
    "print(\"1 vs 3\")\n",
    "stat, p_value = mannwhitneyu(bp_1, bp_3)\n",
    "p_values.append(p_value)\n",
    "print(f\"Mann–Whitney U Test: statistic={stat:.4f}, p-value={p_value:.4f}\")\n",
    "\n",
    "print(\"\\nMeans:\")\n",
    "print(f\"Mean severity 1: {bp_1.mean():.4f}\")\n",
    "print(f\"Mean severity 2: {bp_2.mean():.4f}\")\n",
    "print(f\"Mean severity 3: {bp_3.mean():.4f}\")"
   ]
  },
  {
   "cell_type": "code",
   "execution_count": null,
   "metadata": {},
   "outputs": [],
   "source": [
    "# Using bonferonni correction for multiple comparisons\n",
    "from statsmodels.sandbox.stats.multicomp import multipletests\n",
    "p_adjusted = multipletests(p_values, method='bonferroni')\n",
    "\n",
    "print(\"Bonferroni corrected p-values:\")\n",
    "print(f\"L vs R: {p_adjusted[1][0]:.3f}. Significant: {p_adjusted[0][0]}\")\n",
    "print(f\"1 vs 2: {p_adjusted[1][1]:.3f}. Significant: {p_adjusted[0][1]}\")\n",
    "print(f\"2 vs 3: {p_adjusted[1][2]:.3f}. Significant: {p_adjusted[0][2]}\")\n",
    "print(f\"1 vs 3: {p_adjusted[1][3]:.3f}. Significant: {p_adjusted[0][3]}\")"
   ]
  },
  {
   "attachments": {},
   "cell_type": "markdown",
   "metadata": {},
   "source": [
    "Statistical test validates that there is no significant trend in the bluepoint distributions."
   ]
  },
  {
   "attachments": {},
   "cell_type": "markdown",
   "metadata": {},
   "source": [
    "### Compare POCOVID scores"
   ]
  },
  {
   "cell_type": "code",
   "execution_count": null,
   "metadata": {},
   "outputs": [],
   "source": [
    "# Load pocovid severity scores\n",
    "pocovid = pd.read_csv(\"../../covid19_ultrasound/data/dataset_metadata.csv\")"
   ]
  },
  {
   "cell_type": "code",
   "execution_count": null,
   "metadata": {},
   "outputs": [],
   "source": [
    "pocovid = pocovid[[\"Label\", \"Lung Severity Score\"]]\n",
    "pocovid = pocovid.rename(columns={\"Lung Severity Score\": \"Severity\"})\n",
    "pocovid[\"COVID19\"] = pocovid.Label.apply(lambda x: 1 if x == \"COVID-19\" else 0)"
   ]
  },
  {
   "cell_type": "code",
   "execution_count": null,
   "metadata": {},
   "outputs": [],
   "source": [
    "pocovid_no_nan = pocovid.dropna()\n",
    "pocovid_no_nan"
   ]
  },
  {
   "cell_type": "code",
   "execution_count": null,
   "metadata": {},
   "outputs": [],
   "source": [
    "sns.set()\n",
    "#define plotting region \n",
    "fig, axes = plt.subplots(2, 2, figsize=(15, 12))\n",
    "\n",
    "#Create different views of the severity score against the COVID19 diagnosis\n",
    "sns.boxplot(data=pocovid_no_nan, x='COVID19', y='Severity', ax=axes[0,0]).set(title='Boxplot')\n",
    "sns.histplot(data=pocovid_no_nan, x='Severity', hue='COVID19', bins=4, ax=axes[0,1]).set(title='Histogram')\n",
    "sns.histplot(data=pocovid_no_nan, x='Severity', hue='COVID19', bins=4, stat='density', common_norm=False, ax=axes[1,0]).set(title='Density')\n",
    "sns.kdeplot(x='Severity', data=pocovid_no_nan, hue='COVID19', common_norm=False, ax=axes[1,1]).set(title='KDE')\n",
    "plt.show()"
   ]
  },
  {
   "cell_type": "code",
   "execution_count": null,
   "metadata": {},
   "outputs": [],
   "source": [
    "#Calculate Spearman Rank correlation and corresponding p-value\n",
    "rho, p = spearmanr(pocovid_no_nan['Severity'], pocovid_no_nan['COVID19'])\n",
    "print(f\"Spearman Rank correlation: rho={rho:.4f}, p-value={p:.4f}\")"
   ]
  },
  {
   "cell_type": "code",
   "execution_count": null,
   "metadata": {},
   "outputs": [],
   "source": [
    "# Mean of severity score for COVID19 patients\n",
    "print(\"Mean severity score for COVID19 patients in the POCOVID ds: \", pocovid_no_nan[pocovid_no_nan[\"COVID19\"] == 1][\"Severity\"].mean())\n",
    "print(\"Mean severity score for COVID19 patients in the MAASTRICHT ds: \", severity[severity[\"COVID19\"] == 1][\"Severity\"].mean())\n",
    "\n",
    "# Mann-Whitney U-Test\n",
    "stat, p_value = mannwhitneyu(pocovid_no_nan[pocovid_no_nan[\"COVID19\"] == 1][\"Severity\"], severity[severity[\"COVID19\"] == 1][\"Severity\"])\n",
    "print(f\"Mann–Whitney U Test: statistic={stat:.4f}, p-value={p_value:.4f}\")"
   ]
  },
  {
   "attachments": {},
   "cell_type": "markdown",
   "metadata": {},
   "source": [
    "## How do the manual severity scores relate other clinical variables?"
   ]
  },
  {
   "attachments": {},
   "cell_type": "markdown",
   "metadata": {},
   "source": [
    "Hypotheses:\n",
    "#### Factors increasing severity score\n",
    "- Severity score is higher in patients with more severe symptoms\n",
    "    - ICU admission (Not supported, more patients without covid on ICU than with covid, higher mean severity score for patients not in ICU)\n",
    "    - Oxygen saturation (Hypothesis supported. $R^2=-0.17, p=0.002$)\n",
    "    - Respiratory rate (Hypothesis supported. $R^2=0.12, p=0.024$)\n",
    "    - Temperature (Not supported, $R^2=-0.07$)\n",
    "    - Length of stay (Weakly supported, not significant, $R^2=0.09, p=0.092$)\n",
    "    \n",
    "#### Factors decreasing severity score\n",
    "- Severity is lower for patients with a vaccination. (Weakly supported, $R^2=-0.11$, not significant $p=0.19$)\n",
    "- Non pathological vital parameters\n",
    "    - Severity score is lower for patients with clin_diagn#healthy_lung (Not supported, $R^2=0.02$)\n",
    "\n",
    "#### Other questions\n",
    "- Does the severity score correlate with the severity score of the other lung? (Yes $R^2=0.22. P-value=0.007$)\n",
    "- The severity score changes over time. Less severe cases in the summer/later in the pandemic\n",
    "    - Different variants, higher population immunity, summer heat, etc.\n",
    "    - Yes but only slightly (R^2=-0.16. P-value=0.002 all videos, R^2=-0.22. P-value=0.081 patient mean). I don't think this is significant enough to be of interest.\n",
    "\n",
    "QUESTION: \n",
    "- Do the analysis for the entire dataset or only for the patients with COVID19 diagnosis?\n",
    "- Vaccination variable has values 0, 1, 2. What does 2 mean? Assuming >0 -> Vaccinted (perhaps partially vaccinated)"
   ]
  },
  {
   "cell_type": "code",
   "execution_count": null,
   "metadata": {},
   "outputs": [],
   "source": [
    "clinical_data = get_clinical_df()\n",
    "print(clinical_data.columns)"
   ]
  },
  {
   "cell_type": "code",
   "execution_count": null,
   "metadata": {},
   "outputs": [],
   "source": [
    "# # input_data.at[ind_val, 'oxygen_saturation_with_ox'] = 91.0        #Change '90-92' to 91 \n",
    "# input_data.at[55, 'body_temperature'] = 36.6                        #Change '36,6' to 36.6\n",
    "# input_data.at[8, 'CRP'] = 0.5                                       #Change '<1' to 0.5\n",
    "# input_data.at[26, 'CRP'] = 0.5                                      #Change '<1' to 0.5\n",
    "# input_data.at[60, 'body_temperature'] = 37.1                        #Change 7.1 to 37.1\n",
    "\n",
    "# input_data = input_data.astype(float)                               #Turn all values into floats"
   ]
  },
  {
   "cell_type": "code",
   "execution_count": null,
   "metadata": {},
   "outputs": [],
   "source": [
    "#Filter -99 and make it nan\n",
    "clinical_data = clinical_data.reset_index().drop('index', axis=1)\n",
    "for col in clinical_data.columns:\n",
    "    for ind_val, val in enumerate(clinical_data[col]): \n",
    "        if val == (-99.0 or '-99.0'):\n",
    "            clinical_data.at[ind_val, col] = np.nan\n",
    "        "
   ]
  },
  {
   "cell_type": "code",
   "execution_count": null,
   "metadata": {},
   "outputs": [],
   "source": [
    "import scipy.stats as stats\n",
    "\n",
    "def kruskal_test(data, column):\n",
    "    # Hypothesis test: is the column significantly different for patients within differen severity score group?\n",
    "    sev_0 = data[data['Severity'] == 0][column]\n",
    "    sev_1 = data[data['Severity'] == 1][column]\n",
    "    sev_2 = data[data['Severity'] == 2][column]\n",
    "    sev_3 = data[data['Severity'] == 3][column] \n",
    "    # Perform the Kruskal-Wallis test. The Kruskal-Wallis test is a non-parametric test for multiple groups. It is used when the data is not normally distributed.\n",
    "    h_stat, p_val = stats.kruskal(sev_0, sev_1, sev_2, sev_3)\n",
    "    print(f\"Kruskal-Wallis test: H-statistic: {h_stat:.2f}, p-value: {p_val:.2f}\")\n",
    "\n",
    "\n",
    "### JONCKHEERE-TERPSTRSA would be the right test for us but there is no python implementation"
   ]
  },
  {
   "attachments": {},
   "cell_type": "markdown",
   "metadata": {},
   "source": [
    "### ICU Stay"
   ]
  },
  {
   "cell_type": "code",
   "execution_count": null,
   "metadata": {},
   "outputs": [],
   "source": [
    "stay_icu = clinical_data[[\"stay_icu\", 'Video ID']].fillna(0)\n",
    "# Transform stay_icu to 0/1\n",
    "stay_icu['stay_icu'] = stay_icu['stay_icu'].apply(lambda x: True if x == 1 else False)\n",
    "# Rename Video ID to Patient ID\n",
    "stay_icu = stay_icu.rename(columns={'Video ID': 'Patient ID'})\n",
    "# Merge with severity\n",
    "stay_icu = severity.merge(stay_icu, on='Patient ID', how='left')\n",
    "# Severity to int\n",
    "stay_icu['Severity'] = stay_icu['Severity'].astype(int)\n",
    "\n",
    "# Check how many patients with ICU stay had Covid\n",
    "print(\"How many patients (videos) with ICU stay had Covid?\")\n",
    "print(stay_icu[stay_icu['stay_icu'] == 1]['COVID19'].value_counts())\n",
    "print(\"\\nSeverity mean against ICU stay:\")\n",
    "print(stay_icu.groupby('stay_icu')['Severity'].mean())\n",
    "\n",
    "sns.set(font_scale=1.5)\n",
    "\n",
    "# Three subplots checking the hypothesis\n",
    "fig, (ax1, ax2, ax3) = plt.subplots(1, 3, figsize=(15, 5))\n",
    "# Plot severity against ICU stay\n",
    "sns.boxplot(x='stay_icu', y='Severity', data=stay_icu, ax=ax1, notch=True)\n",
    "# Subplot title\n",
    "ax1.title.set_text('Severity vs. ICU Stay')\n",
    "# Fix y axis range\n",
    "ax1.set_ylim(0, 3.1)\n",
    "# Set y ticks as integers\n",
    "ax1.set_yticks([0, 1, 2, 3])\n",
    "# Set x axis label\n",
    "ax1.set_xlabel('Stayed in ICU')\n",
    "\n",
    "# Check whether of all patients on the ICU the ones with COVID have a higher severity score\n",
    "icu_patients = stay_icu[stay_icu['stay_icu'] == 1]\n",
    "# Print mean severity score for COVID19 vs healthy patients in the ICU\n",
    "print(\"Mean severity score for COVID19 patients in the ICU: \", icu_patients[icu_patients[\"COVID19\"] == 1][\"Severity\"].mean())\n",
    "print(\"Mean severity score for healthy patients in the ICU: \", icu_patients[icu_patients[\"COVID19\"] == 0][\"Severity\"].mean())\n",
    "# Plot severity against covid heatmap\n",
    "sns.boxplot(x='COVID19', y='Severity', data=icu_patients, ax=ax2, notch=True)\n",
    "ax2.title.set_text('Sev. vs. COV (ICU Patients)')\n",
    "# Fix y axis range\n",
    "ax2.set_ylim(0, 3.1)\n",
    "# Set y ticks as integers\n",
    "ax2.set_yticks([0, 1, 2, 3])\n",
    "# Set x axis label\n",
    "ax2.set_xlabel('COVID19 (ICU Patients)')\n",
    "# Set y axis label\n",
    "ax2.set_ylabel('')\n",
    "\n",
    "covid = stay_icu[stay_icu['COVID19'] == 1]\n",
    "# Print mean severity for COVID19 patients in the ICU vs COVID19 patients not in the ICU\n",
    "print(\"Mean severity score for COVID19 patients in the ICU: \", covid[covid[\"stay_icu\"] == 1][\"Severity\"].mean())\n",
    "print(\"Mean severity score for COVID19 patients not in the ICU: \", covid[covid[\"stay_icu\"] == 0][\"Severity\"].mean())\n",
    "# Plot severity against ICU stay\n",
    "sns.boxplot(x='stay_icu', y='Severity', data=covid, ax=ax3, notch=True)\n",
    "ax3.title.set_text('Sev. vs. ICU Stay (COV Patients)')\n",
    "# Fix y axis range\n",
    "ax3.set_ylim(0, 3.1)\n",
    "# Set y ticks as integers\n",
    "ax3.set_yticks([0, 1, 2, 3])\n",
    "# Set x axis label\n",
    "ax3.set_xlabel('Stayed in ICU')\n",
    "# Set y axis label\n",
    "ax3.set_ylabel('')\n",
    "\n",
    "plt.show()"
   ]
  },
  {
   "attachments": {},
   "cell_type": "markdown",
   "metadata": {},
   "source": [
    "More videos of patients in the ICU that did not have Covid.\n",
    "The Severity mean is much higher for patients that were not administered to the ICU (Not ICU: 1.23, ICU: 0.8).\n",
    "Of all patients in the ICU the severity scores are higher for the patients without covid.\n",
    "Of all patients with Covid the severity scores are higher for the patients that were not administered to the ICU. \n",
    "\n",
    "Hypothesis not supported."
   ]
  },
  {
   "attachments": {},
   "cell_type": "markdown",
   "metadata": {},
   "source": [
    "### Oxygen Saturation"
   ]
  },
  {
   "cell_type": "code",
   "execution_count": null,
   "metadata": {},
   "outputs": [],
   "source": [
    "ox = clinical_data[[\"oxygen_saturation_without_ox\", 'Video ID']].fillna(0)\n",
    "# Rename Video ID to Patient ID\n",
    "ox = ox.rename(columns={'Video ID': 'Patient ID'})\n",
    "# Merge with severity\n",
    "ox = severity.merge(ox, on='Patient ID', how='left')\n",
    "# Drop rows with 0\n",
    "ox = ox[ox['oxygen_saturation_without_ox'] != 0]\n",
    "\n",
    "# Correlate with Severity\n",
    "corr, p = stats.pearsonr(ox['oxygen_saturation_without_ox'], ox['Severity'])\n",
    "print(f\"Correlation between oxygen saturation and severity: R^2={corr:.2f}. P-value={p:.3f}\")\n",
    "# Plot correlation\n",
    "sns.boxenplot(y='oxygen_saturation_without_ox', x='Severity', data=ox)\n",
    "plt.title(f'Oxygen saturation against severity. Correlation: {corr:.2f}')\n",
    "# Add regreession line\n",
    "sns.regplot(y='oxygen_saturation_without_ox', x='Severity', data=ox, scatter=False, color='red')\n",
    "# Set y and x labels\n",
    "plt.ylabel('Oxygen saturation (without O2)')\n",
    "plt.xlabel('Severity')\n",
    "plt.show()"
   ]
  },
  {
   "attachments": {},
   "cell_type": "markdown",
   "metadata": {},
   "source": [
    "Slight negative trend indicating that a higher Severity score is associated with a lower oxygen saturation. Hypothesis supported. (R^2=-0.17)"
   ]
  },
  {
   "attachments": {},
   "cell_type": "markdown",
   "metadata": {},
   "source": [
    "### Respiratory Rate"
   ]
  },
  {
   "cell_type": "code",
   "execution_count": null,
   "metadata": {},
   "outputs": [],
   "source": [
    "resp = clinical_data[[\"respiratory_rate\", 'Video ID']].fillna(0)\n",
    "# Rename Video ID to Patient ID\n",
    "resp = resp.rename(columns={'Video ID': 'Patient ID'})\n",
    "# Merge with severity\n",
    "resp = severity.merge(resp, on='Patient ID', how='left')\n",
    "\n",
    "# Drop rows with 0\n",
    "resp = resp[resp['respiratory_rate'] != 0]\n",
    "\n",
    "# Correlate with Severity\n",
    "corr, p = stats.pearsonr(resp['respiratory_rate'], resp['Severity'])\n",
    "print(f\"Correlation between respiratory rate and severity: R^2={corr:.2f}. P-value={p:.3f}\")\n",
    "# Plot correlation\n",
    "sns.boxenplot(y='respiratory_rate', x='Severity', data=resp)\n",
    "plt.title(f'Respiratory rate against severity. Correlation: {corr:.2f}')\n",
    "# Add regreession line\n",
    "sns.regplot(y='respiratory_rate', x='Severity', data=resp, scatter=False, color='red')\n",
    "# Set y and x labels\n",
    "plt.ylabel('Respiratory rate')\n",
    "plt.xlabel('Severity')\n",
    "\n",
    "plt.show()"
   ]
  },
  {
   "cell_type": "code",
   "execution_count": null,
   "metadata": {},
   "outputs": [],
   "source": [
    "# Severity to int\n",
    "resp[\"Severity\"] = resp[\"Severity\"].astype(int)\n",
    "ox[\"Severity\"] = ox[\"Severity\"].astype(int)\n",
    "\n",
    "sns.set(font_scale=1.5)\n",
    "# Combine respiratory rate and oxygen saturation plots\n",
    "fig, (ax1, ax2) = plt.subplots(1, 2, figsize=(15, 5))\n",
    "# Plot respiratory rate\n",
    "sns.boxenplot(y='respiratory_rate', x='Severity', data=resp, ax=ax1)\n",
    "corr, p = stats.pearsonr(resp['respiratory_rate'], resp['Severity'])\n",
    "ax1.title.set_text(f'Respiratory Rate vs. Severity. r={corr:.2f}, p={p:.3f}')\n",
    "# Add regreession line\n",
    "sns.regplot(y='respiratory_rate', x='Severity', data=resp, scatter=False, color='red', ax=ax1)\n",
    "# Set y and x labels\n",
    "ax1.set_ylabel('Respiratory rate')\n",
    "ax1.set_xlabel('Severity')\n",
    "\n",
    "# Plot oxygen saturation\n",
    "sns.boxenplot(y='oxygen_saturation_without_ox', x='Severity', data=ox, ax=ax2)\n",
    "corr, p = stats.pearsonr(ox['oxygen_saturation_without_ox'], ox['Severity'])\n",
    "ax2.title.set_text(f'Oxygen Saturation vs. Severity. r={corr:.2f}, p={p:.3f}')\n",
    "# Add regreession line\n",
    "sns.regplot(y='oxygen_saturation_without_ox', x='Severity', data=ox, scatter=False, color='red', ax=ax2)\n",
    "# Set y and x labels\n",
    "ax2.set_ylabel('Oxygen saturation (without O2)')\n",
    "ax2.set_xlabel('Severity')\n",
    "\n",
    "plt.show()"
   ]
  },
  {
   "cell_type": "code",
   "execution_count": null,
   "metadata": {},
   "outputs": [],
   "source": [
    "# Correlate oxygen saturation with respiratory rate\n",
    "# Merge ox and resp\n",
    "ox_resp = ox.merge(resp, on='Patient ID', how='left')\n",
    "# Drop rows with nan in either oxygen saturation or respiratory rate\n",
    "ox_resp = ox_resp.dropna(subset=['oxygen_saturation_without_ox', 'respiratory_rate'])\n",
    "# Correlate\n",
    "corr, p = stats.pearsonr(ox_resp['oxygen_saturation_without_ox'], ox_resp['respiratory_rate'])\n",
    "print(f\"Correlation between oxygen saturation and respiratory rate: R^2={corr:.2f}. P-value={p:.3f}\")"
   ]
  },
  {
   "attachments": {},
   "cell_type": "markdown",
   "metadata": {},
   "source": [
    "We take a higher respiratory rate to be indicative of a pathological lung. We can see that the severity score is higher for patients with a higher respiratory rate. Hypothesis supported. (R^2=0.12)\n",
    "\n",
    "CAVEAT: We also have very low respiratory rates in the dataset (<10). This could also be indicative of a pathology.\n",
    "\n",
    "Correlation of the oxygen saturation and the respiratory rate is low (R^2=-0.26). This is expected as a higher respiratory rate indicates a lower oxygen saturation and supports our approach of using the respiratory rate as a proxy for a pathological lung."
   ]
  },
  {
   "attachments": {},
   "cell_type": "markdown",
   "metadata": {},
   "source": [
    "### Temperature"
   ]
  },
  {
   "cell_type": "code",
   "execution_count": null,
   "metadata": {},
   "outputs": [],
   "source": [
    "temp = clinical_data[[\"body_temperature\", 'Video ID']]\n",
    "# Rename Video ID to Patient ID\n",
    "temp = temp.rename(columns={'Video ID': 'Patient ID'})\n",
    "# Merge with severity\n",
    "temp = severity.merge(temp, on='Patient ID', how='left')\n",
    "\n",
    "temp[\"body_temperature\"].mask(temp[\"body_temperature\"] == '-99', np.nan, inplace=True)\n",
    "temp[\"body_temperature\"].mask(temp[\"body_temperature\"] == '7.1', '37.1', inplace=True)\n",
    "# Replace , with .\n",
    "temp[\"body_temperature\"] = temp[\"body_temperature\"].str.replace(',', '.')\n",
    "temp[\"body_temperature\"] = temp[\"body_temperature\"].astype(float)\n",
    "# Drop rows where body_temperature is nan\n",
    "temp = temp.dropna(subset=['body_temperature'])\n",
    "\n",
    "# Correlate with Severity\n",
    "corr, p = stats.pearsonr(temp['body_temperature'], temp['Severity'])\n",
    "print(f\"Correlation between body temperature and severity: R^2={corr:.2f}. P-value={p:.3f}\")\n",
    "# Plot correlation\n",
    "sns.boxenplot(y='body_temperature', x='Severity', data=temp)\n",
    "plt.title(f'Body temperature against severity. Correlation: {corr:.2f}')\n",
    "# Add regreession line\n",
    "sns.regplot(y='body_temperature', x='Severity', data=temp, scatter=False, color='red')\n",
    "plt.show()"
   ]
  },
  {
   "attachments": {},
   "cell_type": "markdown",
   "metadata": {},
   "source": [
    "The temperature is very slightly negatively correlated (-0.07) with the severity score. This does not support our hypothesis that a higher severity score correlates with a higher body temperature (fever)."
   ]
  },
  {
   "attachments": {},
   "cell_type": "markdown",
   "metadata": {},
   "source": [
    "### Length of stay"
   ]
  },
  {
   "cell_type": "code",
   "execution_count": null,
   "metadata": {},
   "outputs": [],
   "source": [
    "stay = clinical_data[[\"adm_date\", \"dis_date\", 'Video ID']]\n",
    "# Rename Video ID to Patient ID\n",
    "stay = stay.rename(columns={'Video ID': 'Patient ID'})\n",
    "# Transform to datetime. The format is DD-MM-YYYY\n",
    "stay['adm_date'] = pd.to_datetime(stay['adm_date'], format='%d-%m-%Y')\n",
    "stay['dis_date'] = pd.to_datetime(stay['dis_date'], format='%d-%m-%Y')\n",
    "# Calculate stay\n",
    "stay['stay'] = stay['dis_date'] - stay['adm_date']\n",
    "# Drop adm_date and dis_date\n",
    "stay = stay.drop(columns=['adm_date', 'dis_date'])\n",
    "stay\n",
    "# Transform stay to int(days)\n",
    "stay['stay (days)'] = stay['stay'].dt.days\n",
    "\n",
    "# Merge with severity\n",
    "stay = severity.merge(stay, on='Patient ID', how='left')\n",
    "\n",
    "# Correlate with Severity\n",
    "corr, p = stats.pearsonr(stay['stay (days)'], stay['Severity'])\n",
    "print(f\"Correlation between stay and severity: R^2={corr:.2f}. P-value={p:.3f}\")\n",
    "# Plot correlation\n",
    "sns.boxenplot(y='stay (days)', x='Severity', data=stay)\n",
    "plt.title(f'Stay against severity. Correlation: {corr:.2f}')\n",
    "# Add regreession line\n",
    "sns.regplot(y='stay (days)', x='Severity', data=stay, scatter=False, color='red')\n",
    "plt.show()"
   ]
  },
  {
   "attachments": {},
   "cell_type": "markdown",
   "metadata": {},
   "source": [
    "The severity score is positively correlated with the length of stay (R^2=0.09). This supports our hypothesis that a higher severity score correlates with a longer length of stay."
   ]
  },
  {
   "attachments": {},
   "cell_type": "markdown",
   "metadata": {},
   "source": [
    "### Vaccination Status"
   ]
  },
  {
   "cell_type": "code",
   "execution_count": null,
   "metadata": {},
   "outputs": [],
   "source": [
    "vacc_colums = [#'vacc_date', #Too many nans, default value should be inf, bc 0 means they where vacc that day\n",
    "                'C19_vacc', #Mostly nans\n",
    "                'avail_data#Covid19_vaccination_info']\n",
    "\n",
    "vacc = clinical_data[vacc_colums + ['Video ID']]\n",
    "# Rename Video ID to Patient ID\n",
    "vacc = vacc.rename(columns={'Video ID': 'Patient ID'})\n",
    "# Merge with severity\n",
    "vacc = severity.merge(vacc, on='Patient ID', how='left')\n",
    "\n",
    "# Print number of info available vs not available\n",
    "print(\"Patients with info available vs not available:\")\n",
    "print(vacc.groupby(\"Patient ID\").first()['avail_data#Covid19_vaccination_info'].value_counts())\n",
    "\n",
    "# Keep only rows with vacc info available\n",
    "vacc = vacc[vacc['avail_data#Covid19_vaccination_info'] == 1]\n",
    "# Drop avail_data#Covid19_vaccination_info\n",
    "vacc = vacc.drop(columns=['avail_data#Covid19_vaccination_info'])\n",
    "\n",
    "print(\"Patients with info available. Original vacc data:\")\n",
    "vacc[\"C19_vacc\"].value_counts()\n",
    "# What does 0,1,2 correspond to? \n",
    "# The\"study_variablelist.csv\" specifies: C19_vacc\tYes/No/Partially    Yes = last dose 2 weeks before SEH admission date\n",
    "\n",
    "# Assuming >0 means vaccinated\n",
    "vacc[\"C19_vacc\"] = vacc[\"C19_vacc\"].apply(lambda x: 1 if x > 0 else 0)\n",
    "print(\"Patients with info available. Vaccinated vs not vaccinated:\")\n",
    "vacc[\"C19_vacc\"].value_counts()\n",
    "\n",
    "# Correlate with Severity\n",
    "corr, p = stats.pearsonr(vacc['C19_vacc'], vacc['Severity'])\n",
    "print(f\"Correlation between vaccination and severity: R^2={corr:.2f}. P-value={p:.3f}\")\n",
    "\n",
    "print(\"Mean severity for vaccinated vs not vaccinated:\")\n",
    "print(vacc.groupby(\"C19_vacc\").mean()['Severity'])\n",
    "# Plot heatmap\n",
    "# sns.heatmap(pd.crosstab(vacc['C19_vacc'], vacc['Severity']), annot=True, fmt='d')\n",
    "# plt.title(f'Vaccination against severity. Correlation: {corr:.2f}')\n",
    "# Plot correlation\n",
    "sns.boxenplot(x='C19_vacc', y='Severity', data=vacc)\n",
    "plt.title(f'Vaccination against severity. Correlation: {corr:.2f}')\n",
    "\n",
    "# Hypothesis test: is the severity score distribution for vaccinated patients significantly lower than for unvaccinated patiens?\n",
    "# Null hypothesis: the severity score distribution for vaccinated patients is not significantly lower than for unvaccinated patiens\n",
    "# Alternative hypothesis: the severity score distribution for vaccinated patients is significantly lower than for unvaccinated patiens\n",
    "\n",
    "# Get severity scores for vaccinated and unvaccinated patients\n",
    "vacc_severity = vacc[vacc['C19_vacc'] == 1]['Severity']\n",
    "unvacc_severity = vacc[vacc['C19_vacc'] == 0]['Severity']\n",
    "# Mann-Whitney U test\n",
    "u, p = mannwhitneyu(vacc_severity, unvacc_severity, alternative='less')\n",
    "print(f'Mann-Whitney U test: U statistic: {u:.2f}. P-value: {p:.2f}')\n",
    "\n",
    "plt.show()\n"
   ]
  },
  {
   "attachments": {},
   "cell_type": "markdown",
   "metadata": {},
   "source": [
    "Slightly higher mean sev for unvaccinated patients (vacc = 1.3, unvacc = 1.6). Slight negative correlation (-0.11). Hypothesis supported.\n",
    "Not significant!\n",
    "CAVEAT: Only very few Patients (13) have vaccination data available. Not very strong analysis."
   ]
  },
  {
   "attachments": {},
   "cell_type": "markdown",
   "metadata": {},
   "source": [
    "### Healthy lung"
   ]
  },
  {
   "cell_type": "code",
   "execution_count": null,
   "metadata": {},
   "outputs": [],
   "source": [
    "# Test is Severity score is lower for patients with clin_diagn#healthy_lung\n",
    "healthy_lung = clinical_data[[\"clin_diagn#healthy_lung\", 'Video ID']]\n",
    "# Rename Video ID to Patient ID\n",
    "healthy_lung = healthy_lung.rename(columns={'Video ID': 'Patient ID'})\n",
    "# Merge with severity\n",
    "healthy_lung = severity.merge(healthy_lung, on='Patient ID', how='left')\n",
    "\n",
    "# Correlate with Severity\n",
    "corr, p = stats.pearsonr(healthy_lung['clin_diagn#healthy_lung'], healthy_lung['Severity'])\n",
    "print(f\"Correlation between healthy lung and severity: R^2={corr:.2f}. P-value={p:.3f}\")\n",
    "print(\"Mean severity for healthy lung vs not healthy lung:\")\n",
    "print(healthy_lung.groupby(\"clin_diagn#healthy_lung\").mean()['Severity'])\n",
    "# Plot correlation\n",
    "sns.boxenplot(x='clin_diagn#healthy_lung', y='Severity', data=healthy_lung)\n",
    "plt.title(f'Healthy lung against severity. Correlation: {corr:.2f}')\n",
    "plt.show()"
   ]
  },
  {
   "attachments": {},
   "cell_type": "markdown",
   "metadata": {},
   "source": [
    "Higher mean severity scores for patients with a healthy lung (healthy_lung = 1.2, non_healthy_lung = 1.1). Very sublte positive correlation (0.02). Hypothesis not supported."
   ]
  },
  {
   "attachments": {},
   "cell_type": "markdown",
   "metadata": {},
   "source": [
    "### Lung Symmetry"
   ]
  },
  {
   "cell_type": "code",
   "execution_count": null,
   "metadata": {},
   "outputs": [],
   "source": [
    "#Does the severity score correlate with the severity score of the other lung?\n",
    "# Assigning L1 and R1 to the bilateral bluepoint \"1\", L2 and R2 to \"2\" and L3 and R3 to \"3\" for aggregated plotting\n",
    "BP_symmetry = severity.copy()\n",
    "# Drop rows with BP not in [L1, L2, L3, R1, R2, R3]\n",
    "BP_symmetry = BP_symmetry[BP_symmetry['Bluepoint'].isin(['L1', 'L2', 'L3', 'R1', 'R2', 'R3'])]\n",
    "BP_symmetry[\"Bluepoint_LR\"] = BP_symmetry[\"Bluepoint\"].apply(lambda x: x[0])\n",
    "BP_symmetry[\"Bluepoint_No\"] = BP_symmetry[\"Bluepoint\"].apply(lambda x: x[1])\n",
    "BP_symmetry\n",
    "\n",
    "# Pivot the table such that there is a column each bluepoint. The values are the severity score. \n",
    "BP_symmetry = BP_symmetry.pivot_table(index='Patient ID', columns='Bluepoint', values='Severity')\n",
    "# Drop rows which dont have all 6 bluepoints\n",
    "BP_symmetry = BP_symmetry.dropna()\n",
    "# Convert all values to int\n",
    "BP_symmetry = BP_symmetry.astype(int)\n",
    "\n",
    "\n",
    "# FOr each Bluepoint (1,2,3) correlate the severity score of the left lung with the severity score of the right lung and plot heatmap\n",
    "fig, axs = plt.subplots(1, 3, figsize=(15, 5))\n",
    "for i in range(1,4):\n",
    "    corr, p = stats.pearsonr(BP_symmetry[f'L{i}'], BP_symmetry[f'R{i}'])\n",
    "    print(f\"Correlation between L{i} and R{i}: R^2={corr:.2f}. P-value={p:.3f}\")\n",
    "    sns.heatmap(pd.crosstab(BP_symmetry[f'L{i}'], BP_symmetry[f'R{i}']), annot=True, fmt='d', ax=axs[i-1])\n",
    "    axs[i-1].set_title(f\"Heatmap between L{i} and R{i}. R^2: {corr:.2f} P: {p:.2f}\")\n",
    "    axs[i-1].invert_yaxis()\n",
    "    # Add regression line\n",
    "    #sns.regplot(x=BP_symmetry[f'L{i}'], y=BP_symmetry[f'R{i}'], ax=axs[i-1])\n",
    "plt.show()"
   ]
  },
  {
   "cell_type": "code",
   "execution_count": null,
   "metadata": {},
   "outputs": [],
   "source": [
    "LR1 = BP_symmetry[['L1', 'R1']].rename(columns={'L1': 'L', 'R1': 'R'})\n",
    "LR2 = BP_symmetry[['L2', 'R2']].rename(columns={'L2': 'L', 'R2': 'R'})\n",
    "LR3 = BP_symmetry[['L3', 'R3']].rename(columns={'L3': 'L', 'R3': 'R'})\n",
    "\n",
    "LR1[\"Bluepoint\"] = \"1\"\n",
    "LR2[\"Bluepoint\"] = \"2\"\n",
    "LR3[\"Bluepoint\"] = \"3\"\n",
    "\n",
    "# Concat the dataframes such that there is a column for the left and right lung containing all Bluepoints\n",
    "LR = pd.concat([LR1, LR2, LR3], axis=0)\n",
    "# Rename L and R to severity score\n",
    "LR = LR.rename(columns={'L': 'Severity left lung', 'R': 'Severity right lung'})\n",
    "\n",
    "# Correlation between the severity score of the left and right lung\n",
    "corr, p = stats.pearsonr(LR['Severity left lung'], LR['Severity right lung'])\n",
    "print(f\"Correlation between severity left lung and severity right lung: R^2={corr:.2f}. P-value={p:.3f}\")\n",
    "# Wilkoxen rank test for paired samples\n",
    "w, p = stats.wilcoxon(LR['Severity left lung'], LR['Severity right lung'])\n",
    "print(f\"Wilcoxon rank test for paired samples: W statistic: {w:.2f}. P-value: {p:.2f}\")\n",
    "# Plot correlation as heatmap\n",
    "ax = sns.heatmap(pd.crosstab(LR['Severity left lung'], LR['Severity right lung']), annot=True, fmt='d')\n",
    "ax.invert_yaxis()\n",
    "plt.title(f\"Heatmap between severity left lung and severity right lung. R^2: {corr:.2f} P: {p:.2f}\")\n",
    "plt.show()"
   ]
  },
  {
   "attachments": {},
   "cell_type": "markdown",
   "metadata": {},
   "source": [
    "Generally there is a correlation in severity score between the left and the right lung (R^2=0.22 P-value=0.007). This supports the validity of the scores."
   ]
  },
  {
   "attachments": {},
   "cell_type": "markdown",
   "metadata": {},
   "source": [
    "### Evolving severity score over time"
   ]
  },
  {
   "cell_type": "code",
   "execution_count": null,
   "metadata": {},
   "outputs": [],
   "source": [
    "adm_date = clinical_data[[\"adm_date\", 'Video ID']]\n",
    "# Rename Video ID to Patient ID\n",
    "adm_date = adm_date.rename(columns={'Video ID': 'Patient ID'})\n",
    "# Transform to datetime. The format is DD-MM-YYYY\n",
    "adm_date['adm_date'] = pd.to_datetime(adm_date['adm_date'], format='%d-%m-%Y')\n",
    "\n",
    "# Merge with severity\n",
    "adm_date = severity.merge(adm_date, on='Patient ID', how='left')\n",
    "\n",
    "adm_date['adm_date'] = adm_date['adm_date'].apply(lambda x: x.date())\n",
    "\n",
    "# Correlate severity score with admission date\n",
    "corr, p = stats.pearsonr(adm_date['adm_date'].apply(lambda x: x.toordinal()), adm_date['Severity'])\n",
    "print(f\"Correlation between admission date and severity score: R^2={corr:.2f}. P-value={p:.3f}\")\n",
    "\n",
    "# Plot the severity score against the admission date\n",
    "plt.figure(figsize=(15, 5))\n",
    "sns.lineplot(x='adm_date', y='Severity', data=adm_date)\n",
    "# Scatter on top\n",
    "sns.scatterplot(x='adm_date', y='Severity', data=adm_date, hue=\"Bluepoint\")\n",
    "plt.title(f\"Severity score against admission date. Correlation: {corr:.2f} P: {p:.2f}\")\n",
    "plt.show()"
   ]
  },
  {
   "attachments": {},
   "cell_type": "markdown",
   "metadata": {},
   "source": [
    "Visually there does not seem to be a clear trend in the data. There is a negative correlation though (R^2=-0.16. P-value=0.002) which could indicate that the disease severity gets lower towards the summer or towards the later stage of the pandemic as vaccination rate and general population immunity increases."
   ]
  },
  {
   "cell_type": "code",
   "execution_count": null,
   "metadata": {},
   "outputs": [],
   "source": [
    "# Group by patient and get mean severity\n",
    "adm_date_patient = adm_date.groupby('Patient ID').agg({'adm_date': 'first', 'Severity': 'mean'})\n",
    "# Correlate severity score with admission date\n",
    "corr, p = stats.pearsonr(adm_date_patient['adm_date'].apply(lambda x: x.toordinal()), adm_date_patient['Severity'])\n",
    "print(f\"Correlation between admission date and severity score: R^2={corr:.2f}. P-value={p:.3f}\")\n",
    "\n",
    "# Plot the severity score against the admission date\n",
    "plt.figure(figsize=(15, 5))\n",
    "sns.lineplot(x='adm_date', y='Severity', data=adm_date_patient)\n",
    "# Scatter on top\n",
    "sns.scatterplot(x='adm_date', y='Severity', data=adm_date_patient)\n",
    "plt.title(f\"Severity score against admission date. Correlation: {corr:.2f} P: {p:.2f}\")\n",
    "plt.show()"
   ]
  },
  {
   "attachments": {},
   "cell_type": "markdown",
   "metadata": {},
   "source": [
    "On patient level taking the mean of the severity score the correlation is a little stronger but not significant (R^2=-0.22. P-value=0.081)."
   ]
  },
  {
   "cell_type": "code",
   "execution_count": null,
   "metadata": {},
   "outputs": [],
   "source": []
  }
 ],
 "metadata": {
  "kernelspec": {
   "display_name": "pocovid2",
   "language": "python",
   "name": "python3"
  },
  "language_info": {
   "codemirror_mode": {
    "name": "ipython",
    "version": 3
   },
   "file_extension": ".py",
   "mimetype": "text/x-python",
   "name": "python",
   "nbconvert_exporter": "python",
   "pygments_lexer": "ipython3",
   "version": "3.8.13"
  },
  "orig_nbformat": 4,
  "vscode": {
   "interpreter": {
    "hash": "b946eb799261426a5ad5f24f4c27986c0f2fe154ec5ad35bd8b05c7d39be50ad"
   }
  }
 },
 "nbformat": 4,
 "nbformat_minor": 2
}
