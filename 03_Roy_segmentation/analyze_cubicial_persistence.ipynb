{
 "cells": [
  {
   "cell_type": "code",
   "execution_count": 1,
   "metadata": {},
   "outputs": [],
   "source": [
    "import os\n",
    "import numpy as np\n",
    "import glob\n",
    "import pandas as pd\n",
    "import matplotlib.pyplot as plt\n",
    "import seaborn as sns\n",
    "sns.set()\n",
    "\n",
    "import sys; sys.path.insert(0, \"../utils/\")\n",
    "from data_utils import get_data_location, get_clinical_df, get_bluepoints_df, get_manual_severity_scores\n",
    "from ml_pipeline import ModelEvaluation, highlight_max\n",
    "\n",
    "DATA_PATH = get_data_location()"
   ]
  },
  {
   "cell_type": "code",
   "execution_count": 2,
   "metadata": {},
   "outputs": [
    {
     "data": {
      "text/plain": [
       "369"
      ]
     },
     "execution_count": 2,
     "metadata": {},
     "output_type": "execute_result"
    }
   ],
   "source": [
    "DIAGRAMS_PATH = os.path.join(DATA_PATH,\"cropped_videos_segmented/cubicial_persistence\")\n",
    "\n",
    "# List all files & directories\n",
    "diagrams_files = os.listdir(DIAGRAMS_PATH)\n",
    "\n",
    "# keep only files that end with .npy\n",
    "diagrams_files = [x for x in diagrams_files if x.endswith(\".pickle\")]\n",
    "\n",
    "len(diagrams_files)"
   ]
  },
  {
   "cell_type": "code",
   "execution_count": 3,
   "metadata": {},
   "outputs": [],
   "source": [
    "# Load the first file\n",
    "diagrams = pd.read_pickle(os.path.join(DIAGRAMS_PATH, diagrams_files[0]))\n",
    "\n",
    "# Squeeze all diagrams in the dict to remove the first dimension\n",
    "diagrams_squeezed = {k: v.squeeze() for k, v in diagrams.items()}\n",
    "\n",
    "from gtda.plotting import plot_diagram\n",
    "#plot_diagram(diagrams_squeezed[3])"
   ]
  },
  {
   "cell_type": "code",
   "execution_count": 4,
   "metadata": {},
   "outputs": [
    {
     "data": {
      "text/html": [
       "<div>\n",
       "<style scoped>\n",
       "    .dataframe tbody tr th:only-of-type {\n",
       "        vertical-align: middle;\n",
       "    }\n",
       "\n",
       "    .dataframe tbody tr th {\n",
       "        vertical-align: top;\n",
       "    }\n",
       "\n",
       "    .dataframe thead th {\n",
       "        text-align: right;\n",
       "    }\n",
       "</style>\n",
       "<table border=\"1\" class=\"dataframe\">\n",
       "  <thead>\n",
       "    <tr style=\"text-align: right;\">\n",
       "      <th></th>\n",
       "      <th>file_name</th>\n",
       "      <th>Patient ID</th>\n",
       "      <th>video_name</th>\n",
       "      <th>diagrams</th>\n",
       "    </tr>\n",
       "  </thead>\n",
       "  <tbody>\n",
       "    <tr>\n",
       "      <th>0</th>\n",
       "      <td>cubicial_diagrams_A001_image_147763479101025_3...</td>\n",
       "      <td>A001</td>\n",
       "      <td>image_147763479101025</td>\n",
       "      <td>{1: [[[0. 0. 0.], [0. 0. 1.], [0. 0. 2.]]], 2:...</td>\n",
       "    </tr>\n",
       "    <tr>\n",
       "      <th>1</th>\n",
       "      <td>cubicial_diagrams_A001_image_147606973438168_1...</td>\n",
       "      <td>A001</td>\n",
       "      <td>image_147606973438168</td>\n",
       "      <td>{1: [[[0.3386868  0.37646802 0.        ], [0.3...</td>\n",
       "    </tr>\n",
       "    <tr>\n",
       "      <th>2</th>\n",
       "      <td>cubicial_diagrams_A001_image_147814256633037_4...</td>\n",
       "      <td>A001</td>\n",
       "      <td>image_147814256633037</td>\n",
       "      <td>{1: [[[0. 0. 0.], [0. 0. 1.], [0. 0. 2.]]], 2:...</td>\n",
       "    </tr>\n",
       "    <tr>\n",
       "      <th>3</th>\n",
       "      <td>cubicial_diagrams_A001_image_147690538547824_2...</td>\n",
       "      <td>A001</td>\n",
       "      <td>image_147690538547824</td>\n",
       "      <td>{1: [[[0.04764866 0.45510891 0.        ], [0.1...</td>\n",
       "    </tr>\n",
       "    <tr>\n",
       "      <th>4</th>\n",
       "      <td>cubicial_diagrams_A001_image_147549867609700_0...</td>\n",
       "      <td>A001</td>\n",
       "      <td>image_147549867609700</td>\n",
       "      <td>{1: [[[0.01873818 0.05445038 0.        ], [0.0...</td>\n",
       "    </tr>\n",
       "  </tbody>\n",
       "</table>\n",
       "</div>"
      ],
      "text/plain": [
       "                                           file_name Patient ID  \\\n",
       "0  cubicial_diagrams_A001_image_147763479101025_3...       A001   \n",
       "1  cubicial_diagrams_A001_image_147606973438168_1...       A001   \n",
       "2  cubicial_diagrams_A001_image_147814256633037_4...       A001   \n",
       "3  cubicial_diagrams_A001_image_147690538547824_2...       A001   \n",
       "4  cubicial_diagrams_A001_image_147549867609700_0...       A001   \n",
       "\n",
       "              video_name                                           diagrams  \n",
       "0  image_147763479101025  {1: [[[0. 0. 0.], [0. 0. 1.], [0. 0. 2.]]], 2:...  \n",
       "1  image_147606973438168  {1: [[[0.3386868  0.37646802 0.        ], [0.3...  \n",
       "2  image_147814256633037  {1: [[[0. 0. 0.], [0. 0. 1.], [0. 0. 2.]]], 2:...  \n",
       "3  image_147690538547824  {1: [[[0.04764866 0.45510891 0.        ], [0.1...  \n",
       "4  image_147549867609700  {1: [[[0.01873818 0.05445038 0.        ], [0.0...  "
      ]
     },
     "execution_count": 4,
     "metadata": {},
     "output_type": "execute_result"
    }
   ],
   "source": [
    "import pandas as pd\n",
    "\n",
    "# Create a dataframe from digrams_files\n",
    "df = pd.DataFrame(diagrams_files, columns=[\"file_name\"])\n",
    "# Split the file name to get the patient id\n",
    "df[\"Patient ID\"] = df[\"file_name\"].apply(lambda x: x.split(\"_\")[2])\n",
    "# Split the file name to get the video name\n",
    "df[\"video_name\"] = df[\"file_name\"].apply(lambda x: x.split(\"_\")[3] + \"_\" + x.split(\"_\")[4])\n",
    "# Load the diagrams into the dataframe\n",
    "df[\"diagrams\"] = df[\"file_name\"].apply(lambda x: pd.read_pickle(os.path.join(DIAGRAMS_PATH, x)))\n",
    "\n",
    "df.head()"
   ]
  },
  {
   "cell_type": "code",
   "execution_count": 5,
   "metadata": {},
   "outputs": [
    {
     "data": {
      "text/html": [
       "<div>\n",
       "<style scoped>\n",
       "    .dataframe tbody tr th:only-of-type {\n",
       "        vertical-align: middle;\n",
       "    }\n",
       "\n",
       "    .dataframe tbody tr th {\n",
       "        vertical-align: top;\n",
       "    }\n",
       "\n",
       "    .dataframe thead th {\n",
       "        text-align: right;\n",
       "    }\n",
       "</style>\n",
       "<table border=\"1\" class=\"dataframe\">\n",
       "  <thead>\n",
       "    <tr style=\"text-align: right;\">\n",
       "      <th></th>\n",
       "      <th>file_name</th>\n",
       "      <th>Patient ID</th>\n",
       "      <th>video_name</th>\n",
       "      <th>diagrams</th>\n",
       "      <th>COVID19</th>\n",
       "      <th>Bluepoint</th>\n",
       "    </tr>\n",
       "  </thead>\n",
       "  <tbody>\n",
       "    <tr>\n",
       "      <th>0</th>\n",
       "      <td>cubicial_diagrams_A001_image_147763479101025_3...</td>\n",
       "      <td>A001</td>\n",
       "      <td>image_147763479101025</td>\n",
       "      <td>{1: [[[0. 0. 0.], [0. 0. 1.], [0. 0. 2.]]], 2:...</td>\n",
       "      <td>0</td>\n",
       "      <td>L1</td>\n",
       "    </tr>\n",
       "  </tbody>\n",
       "</table>\n",
       "</div>"
      ],
      "text/plain": [
       "                                           file_name Patient ID  \\\n",
       "0  cubicial_diagrams_A001_image_147763479101025_3...       A001   \n",
       "\n",
       "              video_name                                           diagrams  \\\n",
       "0  image_147763479101025  {1: [[[0. 0. 0.], [0. 0. 1.], [0. 0. 2.]]], 2:...   \n",
       "\n",
       "   COVID19 Bluepoint  \n",
       "0        0        L1  "
      ]
     },
     "execution_count": 5,
     "metadata": {},
     "output_type": "execute_result"
    }
   ],
   "source": [
    "clinical_data = get_clinical_df()\n",
    "\n",
    "clinical_data = clinical_data[[\"Video ID\", \"clin_diagn#COVID19_pneumonia\"]]\n",
    "clinical_data.columns = [\"Patient ID\", \"COVID19\"]\n",
    "df = pd.merge(df, clinical_data, on=\"Patient ID\", how=\"left\")\n",
    "bp = get_bluepoints_df()\n",
    "df = pd.merge(df, bp[[\"Bluepoint\", \"video_name\"]], on=\"video_name\", how=\"left\")\n",
    "\n",
    "df.head(1)"
   ]
  },
  {
   "cell_type": "code",
   "execution_count": 6,
   "metadata": {},
   "outputs": [],
   "source": [
    "def featurize_diagrams(diagrams, representation):\n",
    "    \"\"\"Featurize diagrams with a given representation.\n",
    "    \n",
    "    Parameters\n",
    "    ----------\n",
    "    diagrams : dict\n",
    "        A dict of diagrams, where the keys are the homology dimensions and the values are the diagrams.\n",
    "    representation : object\n",
    "        A representation object from gtda.diagrams.\n",
    "        \n",
    "    Returns\n",
    "    -------\n",
    "    X : ndarray\n",
    "        A feature matrix.\n",
    "    \"\"\"\n",
    "    # Iterate through dict and featureize each diagram\n",
    "    for dim, diagram in diagrams.items():\n",
    "        try:\n",
    "            X_dim = representation.fit_transform(diagram)\n",
    "        except:\n",
    "            print(f\"Failed to get {representation} for class {dim}\")\n",
    "            continue\n",
    "        # For first diagram representation, initialize X\n",
    "        if dim == 1:\n",
    "            X = X_dim\n",
    "        else:\n",
    "            # Stack the feature matrices\n",
    "            X = np.vstack((X, X_dim))\n",
    "    X = X.flatten()\n",
    "    return X\n"
   ]
  },
  {
   "cell_type": "code",
   "execution_count": 7,
   "metadata": {},
   "outputs": [
    {
     "name": "stdout",
     "output_type": "stream",
     "text": [
      "Calculating Persistence Entropy\n",
      "Calculating Number of Points\n",
      "Calculating Wasserstein Amplitude\n",
      "Calculating Bottleneck Amplitude\n",
      "Calculating Landscape Amplitude\n",
      "Calculating Betti Curves\n",
      "Calculating Persistence Image\n"
     ]
    },
    {
     "data": {
      "text/html": [
       "<div>\n",
       "<style scoped>\n",
       "    .dataframe tbody tr th:only-of-type {\n",
       "        vertical-align: middle;\n",
       "    }\n",
       "\n",
       "    .dataframe tbody tr th {\n",
       "        vertical-align: top;\n",
       "    }\n",
       "\n",
       "    .dataframe thead th {\n",
       "        text-align: right;\n",
       "    }\n",
       "</style>\n",
       "<table border=\"1\" class=\"dataframe\">\n",
       "  <thead>\n",
       "    <tr style=\"text-align: right;\">\n",
       "      <th></th>\n",
       "      <th>file_name</th>\n",
       "      <th>Patient ID</th>\n",
       "      <th>video_name</th>\n",
       "      <th>diagrams</th>\n",
       "      <th>COVID19</th>\n",
       "      <th>Bluepoint</th>\n",
       "      <th>Persistence Entropy</th>\n",
       "      <th>Number of Points</th>\n",
       "      <th>Wasserstein Amplitude</th>\n",
       "      <th>Bottleneck Amplitude</th>\n",
       "      <th>Landscape Amplitude</th>\n",
       "      <th>Betti Curves</th>\n",
       "      <th>Persistence Image</th>\n",
       "    </tr>\n",
       "  </thead>\n",
       "  <tbody>\n",
       "    <tr>\n",
       "      <th>0</th>\n",
       "      <td>cubicial_diagrams_A001_image_147763479101025_3...</td>\n",
       "      <td>A001</td>\n",
       "      <td>image_147763479101025</td>\n",
       "      <td>{1: [[[0. 0. 0.], [0. 0. 1.], [0. 0. 2.]]], 2:...</td>\n",
       "      <td>0</td>\n",
       "      <td>L1</td>\n",
       "      <td>[-1.0, -1.0, -1.0, -1.0, -1.0, -1.0, 5.7971227...</td>\n",
       "      <td>[0, 0, 0, 0, 0, 0, 165, 1357, 1497, 2766, 1220...</td>\n",
       "      <td>[0.0, 0.0, 0.0, 0.0, 0.0, 0.0, 0.0949827037323...</td>\n",
       "      <td>[0.0, 0.0, 0.0, 0.0, 0.0, 0.0, 0.0498928573091...</td>\n",
       "      <td>[0.0, 0.0, 0.0, 0.0, 0.0, 0.0, 0.0118612920680...</td>\n",
       "      <td>[0, 0, 0, 0, 0, 0, 0, 0, 0, 0, 0, 0, 0, 0, 0, ...</td>\n",
       "      <td>[0.0, 0.0, 0.0, 0.0, 0.0, 0.0, 0.0, 0.0, 0.0, ...</td>\n",
       "    </tr>\n",
       "  </tbody>\n",
       "</table>\n",
       "</div>"
      ],
      "text/plain": [
       "                                           file_name Patient ID  \\\n",
       "0  cubicial_diagrams_A001_image_147763479101025_3...       A001   \n",
       "\n",
       "              video_name                                           diagrams  \\\n",
       "0  image_147763479101025  {1: [[[0. 0. 0.], [0. 0. 1.], [0. 0. 2.]]], 2:...   \n",
       "\n",
       "   COVID19 Bluepoint                                Persistence Entropy  \\\n",
       "0        0        L1  [-1.0, -1.0, -1.0, -1.0, -1.0, -1.0, 5.7971227...   \n",
       "\n",
       "                                    Number of Points  \\\n",
       "0  [0, 0, 0, 0, 0, 0, 165, 1357, 1497, 2766, 1220...   \n",
       "\n",
       "                               Wasserstein Amplitude  \\\n",
       "0  [0.0, 0.0, 0.0, 0.0, 0.0, 0.0, 0.0949827037323...   \n",
       "\n",
       "                                Bottleneck Amplitude  \\\n",
       "0  [0.0, 0.0, 0.0, 0.0, 0.0, 0.0, 0.0498928573091...   \n",
       "\n",
       "                                 Landscape Amplitude  \\\n",
       "0  [0.0, 0.0, 0.0, 0.0, 0.0, 0.0, 0.0118612920680...   \n",
       "\n",
       "                                        Betti Curves  \\\n",
       "0  [0, 0, 0, 0, 0, 0, 0, 0, 0, 0, 0, 0, 0, 0, 0, ...   \n",
       "\n",
       "                                   Persistence Image  \n",
       "0  [0.0, 0.0, 0.0, 0.0, 0.0, 0.0, 0.0, 0.0, 0.0, ...  "
      ]
     },
     "execution_count": 7,
     "metadata": {},
     "output_type": "execute_result"
    }
   ],
   "source": [
    "# Import different featurizers\n",
    "from gtda.diagrams import PersistenceEntropy\n",
    "from gtda.diagrams import Amplitude\n",
    "from gtda.diagrams import BettiCurve\n",
    "from gtda.diagrams import PersistenceImage\n",
    "from gtda.diagrams import NumberOfPoints\n",
    "\n",
    "# Store all featurizer in a dict with name as key\n",
    "featurizers = {\"Persistence Entropy\" : PersistenceEntropy(),\n",
    "                \"Number of Points\" : NumberOfPoints(),\n",
    "                \"Wasserstein Amplitude\" : Amplitude(metric='wasserstein'),\n",
    "                \"Bottleneck Amplitude\" : Amplitude(metric='bottleneck'),\n",
    "                \"Landscape Amplitude\" : Amplitude(metric='landscape'),\n",
    "                \"Betti Curves\" : BettiCurve(n_bins=10),\n",
    "                \"Persistence Image\" : PersistenceImage(n_bins=5)\n",
    "                }\n",
    "# Filter out 4 samples because the cause Persistence Image to crash:\n",
    "df = df.drop([29, 39, 352, 368]).reset_index(drop=True)\n",
    "\n",
    "# Apply the different featurizers to the diagrams and add them to the dataframe in separate columns\n",
    "for name, featurizer in featurizers.items():\n",
    "    print(f\"Calculating {name}\")\n",
    "    df[name] = df[\"diagrams\"].apply(lambda x: featurize_diagrams(x, featurizer))\n",
    "df.head(1)"
   ]
  },
  {
   "cell_type": "code",
   "execution_count": 8,
   "metadata": {},
   "outputs": [
    {
     "data": {
      "text/plain": [
       "array([    0,     0,     0,     0,     0,     0,   165,  1357,  1497,\n",
       "        2766, 12204,  8774])"
      ]
     },
     "execution_count": 8,
     "metadata": {},
     "output_type": "execute_result"
    }
   ],
   "source": [
    "df.iloc[0][\"Number of Points\"]"
   ]
  },
  {
   "cell_type": "markdown",
   "metadata": {},
   "source": [
    "## Train models on features"
   ]
  },
  {
   "cell_type": "code",
   "execution_count": 9,
   "metadata": {},
   "outputs": [],
   "source": [
    "Classifier = ModelEvaluation(\"classification\")"
   ]
  },
  {
   "cell_type": "code",
   "execution_count": 10,
   "metadata": {},
   "outputs": [
    {
     "name": "stdout",
     "output_type": "stream",
     "text": [
      "Training model for Persistence Entropy...\n",
      "Training model for Number of Points...\n",
      "Training model for Wasserstein Amplitude...\n",
      "Training model for Bottleneck Amplitude...\n",
      "Training model for Landscape Amplitude...\n",
      "Training model for Betti Curves...\n",
      "Training model for Persistence Image...\n"
     ]
    },
    {
     "name": "stderr",
     "output_type": "stream",
     "text": [
      "/scratch_net/gnarf/mrichte/conda_envs/tda/lib/python3.10/site-packages/sklearn/linear_model/_logistic.py:444: ConvergenceWarning: lbfgs failed to converge (status=1):\n",
      "STOP: TOTAL NO. of ITERATIONS REACHED LIMIT.\n",
      "\n",
      "Increase the number of iterations (max_iter) or scale the data as shown in:\n",
      "    https://scikit-learn.org/stable/modules/preprocessing.html\n",
      "Please also refer to the documentation for alternative solver options:\n",
      "    https://scikit-learn.org/stable/modules/linear_model.html#logistic-regression\n",
      "  n_iter_i = _check_optimize_result(\n",
      "/scratch_net/gnarf/mrichte/conda_envs/tda/lib/python3.10/site-packages/sklearn/linear_model/_logistic.py:444: ConvergenceWarning: lbfgs failed to converge (status=1):\n",
      "STOP: TOTAL NO. of ITERATIONS REACHED LIMIT.\n",
      "\n",
      "Increase the number of iterations (max_iter) or scale the data as shown in:\n",
      "    https://scikit-learn.org/stable/modules/preprocessing.html\n",
      "Please also refer to the documentation for alternative solver options:\n",
      "    https://scikit-learn.org/stable/modules/linear_model.html#logistic-regression\n",
      "  n_iter_i = _check_optimize_result(\n",
      "/scratch_net/gnarf/mrichte/conda_envs/tda/lib/python3.10/site-packages/sklearn/linear_model/_logistic.py:444: ConvergenceWarning: lbfgs failed to converge (status=1):\n",
      "STOP: TOTAL NO. of ITERATIONS REACHED LIMIT.\n",
      "\n",
      "Increase the number of iterations (max_iter) or scale the data as shown in:\n",
      "    https://scikit-learn.org/stable/modules/preprocessing.html\n",
      "Please also refer to the documentation for alternative solver options:\n",
      "    https://scikit-learn.org/stable/modules/linear_model.html#logistic-regression\n",
      "  n_iter_i = _check_optimize_result(\n",
      "/scratch_net/gnarf/mrichte/conda_envs/tda/lib/python3.10/site-packages/sklearn/linear_model/_logistic.py:444: ConvergenceWarning: lbfgs failed to converge (status=1):\n",
      "STOP: TOTAL NO. of ITERATIONS REACHED LIMIT.\n",
      "\n",
      "Increase the number of iterations (max_iter) or scale the data as shown in:\n",
      "    https://scikit-learn.org/stable/modules/preprocessing.html\n",
      "Please also refer to the documentation for alternative solver options:\n",
      "    https://scikit-learn.org/stable/modules/linear_model.html#logistic-regression\n",
      "  n_iter_i = _check_optimize_result(\n",
      "/scratch_net/gnarf/mrichte/conda_envs/tda/lib/python3.10/site-packages/sklearn/linear_model/_logistic.py:444: ConvergenceWarning: lbfgs failed to converge (status=1):\n",
      "STOP: TOTAL NO. of ITERATIONS REACHED LIMIT.\n",
      "\n",
      "Increase the number of iterations (max_iter) or scale the data as shown in:\n",
      "    https://scikit-learn.org/stable/modules/preprocessing.html\n",
      "Please also refer to the documentation for alternative solver options:\n",
      "    https://scikit-learn.org/stable/modules/linear_model.html#logistic-regression\n",
      "  n_iter_i = _check_optimize_result(\n",
      "/scratch_net/gnarf/mrichte/conda_envs/tda/lib/python3.10/site-packages/sklearn/svm/_base.py:1225: ConvergenceWarning: Liblinear failed to converge, increase the number of iterations.\n",
      "  warnings.warn(\n",
      "/scratch_net/gnarf/mrichte/conda_envs/tda/lib/python3.10/site-packages/sklearn/svm/_base.py:1225: ConvergenceWarning: Liblinear failed to converge, increase the number of iterations.\n",
      "  warnings.warn(\n",
      "/scratch_net/gnarf/mrichte/conda_envs/tda/lib/python3.10/site-packages/sklearn/svm/_base.py:1225: ConvergenceWarning: Liblinear failed to converge, increase the number of iterations.\n",
      "  warnings.warn(\n",
      "/scratch_net/gnarf/mrichte/conda_envs/tda/lib/python3.10/site-packages/sklearn/svm/_base.py:1225: ConvergenceWarning: Liblinear failed to converge, increase the number of iterations.\n",
      "  warnings.warn(\n"
     ]
    },
    {
     "data": {
      "text/html": [
       "<style type=\"text/css\">\n",
       "#T_1f450_row0_col0, #T_1f450_row0_col1, #T_1f450_row0_col3, #T_1f450_row1_col2 {\n",
       "  color: green;\n",
       "}\n",
       "</style>\n",
       "<table id=\"T_1f450\">\n",
       "  <thead>\n",
       "    <tr>\n",
       "      <th class=\"blank level0\" >&nbsp;</th>\n",
       "      <th id=\"T_1f450_level0_col0\" class=\"col_heading level0 col0\" >test_accuracy</th>\n",
       "      <th id=\"T_1f450_level0_col1\" class=\"col_heading level0 col1\" >test_sensitivity</th>\n",
       "      <th id=\"T_1f450_level0_col2\" class=\"col_heading level0 col2\" >test_specificity</th>\n",
       "      <th id=\"T_1f450_level0_col3\" class=\"col_heading level0 col3\" >test_f1</th>\n",
       "    </tr>\n",
       "    <tr>\n",
       "      <th class=\"index_name level0\" >Featurizer</th>\n",
       "      <th class=\"blank col0\" >&nbsp;</th>\n",
       "      <th class=\"blank col1\" >&nbsp;</th>\n",
       "      <th class=\"blank col2\" >&nbsp;</th>\n",
       "      <th class=\"blank col3\" >&nbsp;</th>\n",
       "    </tr>\n",
       "  </thead>\n",
       "  <tbody>\n",
       "    <tr>\n",
       "      <th id=\"T_1f450_level0_row0\" class=\"row_heading level0 row0\" >Number of Points</th>\n",
       "      <td id=\"T_1f450_row0_col0\" class=\"data row0 col0\" >0.66</td>\n",
       "      <td id=\"T_1f450_row0_col1\" class=\"data row0 col1\" >0.77</td>\n",
       "      <td id=\"T_1f450_row0_col2\" class=\"data row0 col2\" >0.55</td>\n",
       "      <td id=\"T_1f450_row0_col3\" class=\"data row0 col3\" >0.70</td>\n",
       "    </tr>\n",
       "    <tr>\n",
       "      <th id=\"T_1f450_level0_row1\" class=\"row_heading level0 row1\" >Persistence Entropy</th>\n",
       "      <td id=\"T_1f450_row1_col0\" class=\"data row1 col0\" >0.64</td>\n",
       "      <td id=\"T_1f450_row1_col1\" class=\"data row1 col1\" >0.71</td>\n",
       "      <td id=\"T_1f450_row1_col2\" class=\"data row1 col2\" >0.55</td>\n",
       "      <td id=\"T_1f450_row1_col3\" class=\"data row1 col3\" >0.67</td>\n",
       "    </tr>\n",
       "    <tr>\n",
       "      <th id=\"T_1f450_level0_row2\" class=\"row_heading level0 row2\" >Wasserstein Amplitude</th>\n",
       "      <td id=\"T_1f450_row2_col0\" class=\"data row2 col0\" >0.63</td>\n",
       "      <td id=\"T_1f450_row2_col1\" class=\"data row2 col1\" >0.71</td>\n",
       "      <td id=\"T_1f450_row2_col2\" class=\"data row2 col2\" >0.55</td>\n",
       "      <td id=\"T_1f450_row2_col3\" class=\"data row2 col3\" >0.66</td>\n",
       "    </tr>\n",
       "    <tr>\n",
       "      <th id=\"T_1f450_level0_row3\" class=\"row_heading level0 row3\" >Betti Curves</th>\n",
       "      <td id=\"T_1f450_row3_col0\" class=\"data row3 col0\" >0.61</td>\n",
       "      <td id=\"T_1f450_row3_col1\" class=\"data row3 col1\" >0.67</td>\n",
       "      <td id=\"T_1f450_row3_col2\" class=\"data row3 col2\" >0.53</td>\n",
       "      <td id=\"T_1f450_row3_col3\" class=\"data row3 col3\" >0.63</td>\n",
       "    </tr>\n",
       "    <tr>\n",
       "      <th id=\"T_1f450_level0_row4\" class=\"row_heading level0 row4\" >Bottleneck Amplitude</th>\n",
       "      <td id=\"T_1f450_row4_col0\" class=\"data row4 col0\" >0.60</td>\n",
       "      <td id=\"T_1f450_row4_col1\" class=\"data row4 col1\" >0.67</td>\n",
       "      <td id=\"T_1f450_row4_col2\" class=\"data row4 col2\" >0.51</td>\n",
       "      <td id=\"T_1f450_row4_col3\" class=\"data row4 col3\" >0.63</td>\n",
       "    </tr>\n",
       "    <tr>\n",
       "      <th id=\"T_1f450_level0_row5\" class=\"row_heading level0 row5\" >Landscape Amplitude</th>\n",
       "      <td id=\"T_1f450_row5_col0\" class=\"data row5 col0\" >0.59</td>\n",
       "      <td id=\"T_1f450_row5_col1\" class=\"data row5 col1\" >0.66</td>\n",
       "      <td id=\"T_1f450_row5_col2\" class=\"data row5 col2\" >0.49</td>\n",
       "      <td id=\"T_1f450_row5_col3\" class=\"data row5 col3\" >0.62</td>\n",
       "    </tr>\n",
       "    <tr>\n",
       "      <th id=\"T_1f450_level0_row6\" class=\"row_heading level0 row6\" >Persistence Image</th>\n",
       "      <td id=\"T_1f450_row6_col0\" class=\"data row6 col0\" >0.58</td>\n",
       "      <td id=\"T_1f450_row6_col1\" class=\"data row6 col1\" >0.66</td>\n",
       "      <td id=\"T_1f450_row6_col2\" class=\"data row6 col2\" >0.49</td>\n",
       "      <td id=\"T_1f450_row6_col3\" class=\"data row6 col3\" >0.61</td>\n",
       "    </tr>\n",
       "  </tbody>\n",
       "</table>\n"
      ],
      "text/plain": [
       "<pandas.io.formats.style.Styler at 0x7fca9ae206a0>"
      ]
     },
     "execution_count": 10,
     "metadata": {},
     "output_type": "execute_result"
    }
   ],
   "source": [
    "featurizer_models = pd.DataFrame()\n",
    "featurizer_models_all = pd.DataFrame()\n",
    "for name, featurizer in featurizers.items():\n",
    "    print(f\"Training model for {name}...\")\n",
    "    X = np.stack(df[name].values)\n",
    "    y = df[\"COVID19\"].values\n",
    "    groups = df[\"Patient ID\"].values\n",
    "    \n",
    "    scores, scores_mean = Classifier.train_models(X, y, groups=groups, plot=False)\n",
    "    scores = pd.concat([scores], keys=[name], names=['Featurizer'])\n",
    "    scores_mean = pd.concat([scores_mean], keys=[name], names=['Featurizer'])\n",
    "    \n",
    "    featurizer_models_all = pd.concat([featurizer_models_all, scores])\n",
    "    featurizer_models = pd.concat([featurizer_models, scores_mean])\n",
    "    \n",
    "featurizer_models.groupby(\"Featurizer\").mean().sort_values(by=[\"test_accuracy\", \"test_f1\"], ascending=False).style.apply(highlight_max).format(\"{:.2f}\")"
   ]
  },
  {
   "cell_type": "code",
   "execution_count": 11,
   "metadata": {},
   "outputs": [
    {
     "data": {
      "text/plain": [
       "<matplotlib.legend.Legend at 0x7fcafe9db070>"
      ]
     },
     "execution_count": 11,
     "metadata": {},
     "output_type": "execute_result"
    },
    {
     "data": {
      "image/png": "[encoded data removed]",
      "text/plain": [
       "<Figure size 640x480 with 1 Axes>"
      ]
     },
     "metadata": {},
     "output_type": "display_data"
    }
   ],
   "source": [
    "featurizer_models.groupby(\"Featurizer\").mean().sort_values(by=[\"test_accuracy\", \"test_f1\"], ascending=False).plot.bar(yerr=featurizer_models.groupby(\"Featurizer\").std())\n",
    "plt.legend(loc='lower right')"
   ]
  },
  {
   "cell_type": "code",
   "execution_count": 12,
   "metadata": {},
   "outputs": [
    {
     "data": {
      "text/html": [
       "<style type=\"text/css\">\n",
       "#T_105dc_row0_col0, #T_105dc_row0_col1, #T_105dc_row0_col2, #T_105dc_row0_col3 {\n",
       "  color: green;\n",
       "}\n",
       "</style>\n",
       "<table id=\"T_105dc\">\n",
       "  <thead>\n",
       "    <tr>\n",
       "      <th class=\"blank level0\" >&nbsp;</th>\n",
       "      <th id=\"T_105dc_level0_col0\" class=\"col_heading level0 col0\" >test_accuracy</th>\n",
       "      <th id=\"T_105dc_level0_col1\" class=\"col_heading level0 col1\" >test_sensitivity</th>\n",
       "      <th id=\"T_105dc_level0_col2\" class=\"col_heading level0 col2\" >test_specificity</th>\n",
       "      <th id=\"T_105dc_level0_col3\" class=\"col_heading level0 col3\" >test_f1</th>\n",
       "    </tr>\n",
       "  </thead>\n",
       "  <tbody>\n",
       "    <tr>\n",
       "      <th id=\"T_105dc_level0_row0\" class=\"row_heading level0 row0\" >Number of Points (SVM)</th>\n",
       "      <td id=\"T_105dc_row0_col0\" class=\"data row0 col0\" >0.70</td>\n",
       "      <td id=\"T_105dc_row0_col1\" class=\"data row0 col1\" >0.80</td>\n",
       "      <td id=\"T_105dc_row0_col2\" class=\"data row0 col2\" >0.59</td>\n",
       "      <td id=\"T_105dc_row0_col3\" class=\"data row0 col3\" >0.73</td>\n",
       "    </tr>\n",
       "    <tr>\n",
       "      <th id=\"T_105dc_level0_row1\" class=\"row_heading level0 row1\" >Betti Curves (RF)</th>\n",
       "      <td id=\"T_105dc_row1_col0\" class=\"data row1 col0\" >0.67</td>\n",
       "      <td id=\"T_105dc_row1_col1\" class=\"data row1 col1\" >0.78</td>\n",
       "      <td id=\"T_105dc_row1_col2\" class=\"data row1 col2\" >0.56</td>\n",
       "      <td id=\"T_105dc_row1_col3\" class=\"data row1 col3\" >0.70</td>\n",
       "    </tr>\n",
       "    <tr>\n",
       "      <th id=\"T_105dc_level0_row2\" class=\"row_heading level0 row2\" >Persistence Entropy (LR)</th>\n",
       "      <td id=\"T_105dc_row2_col0\" class=\"data row2 col0\" >0.66</td>\n",
       "      <td id=\"T_105dc_row2_col1\" class=\"data row2 col1\" >0.71</td>\n",
       "      <td id=\"T_105dc_row2_col2\" class=\"data row2 col2\" >0.58</td>\n",
       "      <td id=\"T_105dc_row2_col3\" class=\"data row2 col3\" >0.68</td>\n",
       "    </tr>\n",
       "    <tr>\n",
       "      <th id=\"T_105dc_level0_row3\" class=\"row_heading level0 row3\" >Wasserstein Amplitude (RF)</th>\n",
       "      <td id=\"T_105dc_row3_col0\" class=\"data row3 col0\" >0.64</td>\n",
       "      <td id=\"T_105dc_row3_col1\" class=\"data row3 col1\" >0.71</td>\n",
       "      <td id=\"T_105dc_row3_col2\" class=\"data row3 col2\" >0.57</td>\n",
       "      <td id=\"T_105dc_row3_col3\" class=\"data row3 col3\" >0.66</td>\n",
       "    </tr>\n",
       "    <tr>\n",
       "      <th id=\"T_105dc_level0_row4\" class=\"row_heading level0 row4\" >Bottleneck Amplitude (LR)</th>\n",
       "      <td id=\"T_105dc_row4_col0\" class=\"data row4 col0\" >0.61</td>\n",
       "      <td id=\"T_105dc_row4_col1\" class=\"data row4 col1\" >0.67</td>\n",
       "      <td id=\"T_105dc_row4_col2\" class=\"data row4 col2\" >0.53</td>\n",
       "      <td id=\"T_105dc_row4_col3\" class=\"data row4 col3\" >0.63</td>\n",
       "    </tr>\n",
       "    <tr>\n",
       "      <th id=\"T_105dc_level0_row5\" class=\"row_heading level0 row5\" >Landscape Amplitude (SVM)</th>\n",
       "      <td id=\"T_105dc_row5_col0\" class=\"data row5 col0\" >0.60</td>\n",
       "      <td id=\"T_105dc_row5_col1\" class=\"data row5 col1\" >0.67</td>\n",
       "      <td id=\"T_105dc_row5_col2\" class=\"data row5 col2\" >0.51</td>\n",
       "      <td id=\"T_105dc_row5_col3\" class=\"data row5 col3\" >0.63</td>\n",
       "    </tr>\n",
       "    <tr>\n",
       "      <th id=\"T_105dc_level0_row6\" class=\"row_heading level0 row6\" >Persistence Image (LR)</th>\n",
       "      <td id=\"T_105dc_row6_col0\" class=\"data row6 col0\" >0.60</td>\n",
       "      <td id=\"T_105dc_row6_col1\" class=\"data row6 col1\" >0.67</td>\n",
       "      <td id=\"T_105dc_row6_col2\" class=\"data row6 col2\" >0.51</td>\n",
       "      <td id=\"T_105dc_row6_col3\" class=\"data row6 col3\" >0.63</td>\n",
       "    </tr>\n",
       "  </tbody>\n",
       "</table>\n"
      ],
      "text/plain": [
       "<pandas.io.formats.style.Styler at 0x7fca7fc22170>"
      ]
     },
     "execution_count": 12,
     "metadata": {},
     "output_type": "execute_result"
    },
    {
     "data": {
      "image/png": "[encoded data removed]",
      "text/plain": [
       "<Figure size 640x480 with 1 Axes>"
      ]
     },
     "metadata": {},
     "output_type": "display_data"
    }
   ],
   "source": [
    "# Get the value of the highest performing model instead of means.\n",
    "grouped = featurizer_models.groupby(\"Featurizer\")\n",
    "max_index = grouped[\"test_accuracy\"].idxmax()\n",
    "best_models = featurizer_models.loc[max_index].sort_values(\"test_accuracy\", ascending=False)\n",
    "best_models.index = best_models.reset_index().Featurizer + \" (\" + best_models.reset_index().model + \")\"\n",
    "\n",
    "best_models.plot.bar()\n",
    "plt.legend(loc='lower right')\n",
    "\n",
    "best_models.style.apply(highlight_max).format(\"{:.2f}\")"
   ]
  },
  {
   "cell_type": "code",
   "execution_count": 13,
   "metadata": {},
   "outputs": [
    {
     "name": "stdout",
     "output_type": "stream",
     "text": [
      "\\begin{tabular}{lrrrr}\n",
      "\\toprule\n",
      "{} &  test\\_accuracy &  test\\_sensitivity &  test\\_specificity &  test\\_f1 \\\\\n",
      "\\midrule\n",
      "Number of Points (SVM)     &           0.70 &              0.80 &              0.59 &     0.73 \\\\\n",
      "Betti Curves (RF)          &           0.67 &              0.78 &              0.56 &     0.70 \\\\\n",
      "Persistence Entropy (LR)   &           0.66 &              0.71 &              0.58 &     0.68 \\\\\n",
      "Wasserstein Amplitude (RF) &           0.64 &              0.71 &              0.57 &     0.66 \\\\\n",
      "Bottleneck Amplitude (LR)  &           0.61 &              0.67 &              0.53 &     0.63 \\\\\n",
      "Landscape Amplitude (SVM)  &           0.60 &              0.67 &              0.51 &     0.63 \\\\\n",
      "Persistence Image (LR)     &           0.60 &              0.67 &              0.51 &     0.63 \\\\\n",
      "\\bottomrule\n",
      "\\end{tabular}\n",
      "\n"
     ]
    }
   ],
   "source": [
    "print(best_models.to_latex(float_format=\"{:.2f}\".format))"
   ]
  },
  {
   "cell_type": "markdown",
   "metadata": {},
   "source": [
    "# Number of Points correlated with class volume\n",
    "NoP performs the best.  \n",
    "-> Correlate Number of Points with Segmentation Volume.  \n",
    "-> Does it basically represent Volume? Does it perform better or worse or the same as simple volume?"
   ]
  },
  {
   "cell_type": "code",
   "execution_count": 14,
   "metadata": {},
   "outputs": [],
   "source": [
    "DATA_PATH = get_data_location()\n",
    "pixel_count_path = os.path.join(DATA_PATH,\"cropped_videos_segmented/post_processing\")\n",
    "\n",
    "# List all files & directories\n",
    "files = os.listdir(pixel_count_path)\n",
    "\n",
    "# keep only .csv files\n",
    "csvs = [x for x in files if x.endswith(\".gif_pixel_counts.csv\")]\n",
    "\n",
    "# Read all csvs into one dataframe\n",
    "df_pixel = pd.concat((pd.read_csv(os.path.join(pixel_count_path, f)) for f in csvs))\n",
    "\n",
    "# Define class names\n",
    "class_names = {\"blue\":\"a-lines\", \"green\":\"few_b-lines\", \"orange\":\"more_b-lines\", \"red\":\"white_lung\", \"black\":\"nothing\"}\n",
    "\n",
    "# Rename columns blue, green, orange, red, black to class names\n",
    "df_pixel = df_pixel.rename(columns=class_names)\n",
    "\n",
    "# Sum pixel counts for video\n",
    "df_pixel = df_pixel.groupby(\"video_name\").sum().drop(columns=[\"Frame\",\"nothing\"])\n",
    "# merge with df\n",
    "df_pixel = pd.merge(df, df_pixel, on=\"video_name\")"
   ]
  },
  {
   "cell_type": "code",
   "execution_count": 15,
   "metadata": {},
   "outputs": [
    {
     "name": "stdout",
     "output_type": "stream",
     "text": [
      "Correlation for a-lines dim:0: 0.97\n",
      "Correlation for a-lines dim:1: 0.98\n",
      "Correlation for a-lines dim:2: 0.98\n",
      "Correlation for few_b-lines dim:0: 0.87\n",
      "Correlation for few_b-lines dim:1: 0.96\n",
      "Correlation for few_b-lines dim:2: 0.93\n",
      "Correlation for more_b-lines dim:0: 0.92\n",
      "Correlation for more_b-lines dim:1: 0.95\n",
      "Correlation for more_b-lines dim:2: 0.94\n",
      "Correlation for white_lung dim:0: 0.95\n",
      "Correlation for white_lung dim:1: 0.97\n",
      "Correlation for white_lung dim:2: 0.96\n"
     ]
    }
   ],
   "source": [
    "features = [\"a-lines\", \"few_b-lines\", \"more_b-lines\", \"white_lung\"]\n",
    "dimensions = [\"0\", \"1\", \"2\"]\n",
    "\n",
    "idx = 0\n",
    "for f in features:\n",
    "    for d in dimensions:\n",
    "        df_pixel[f\"NoP_{f}_{d}\"] = df_pixel[\"Number of Points\"].apply(lambda x: x[idx])\n",
    "        corr = df_pixel[f].corr(df_pixel[f\"NoP_{f}_{d}\"])\n",
    "        print(f\"Correlation for {f} dim:{d}: {corr:.2f}\")\n",
    "        idx += 1"
   ]
  },
  {
   "cell_type": "markdown",
   "metadata": {},
   "source": [
    "Not very suprisingly: Number of points in the persistence diagram are highly correlated with the pixel count. So it seems more likely that the best performing predictor is not picking up on some internal geometry in the data but simply mirroring the well-performing pixel count."
   ]
  },
  {
   "cell_type": "markdown",
   "metadata": {},
   "source": [
    "# Patient Level"
   ]
  },
  {
   "cell_type": "code",
   "execution_count": 16,
   "metadata": {},
   "outputs": [
    {
     "data": {
      "text/html": [
       "<div>\n",
       "<style scoped>\n",
       "    .dataframe tbody tr th:only-of-type {\n",
       "        vertical-align: middle;\n",
       "    }\n",
       "\n",
       "    .dataframe tbody tr th {\n",
       "        vertical-align: top;\n",
       "    }\n",
       "\n",
       "    .dataframe thead th {\n",
       "        text-align: right;\n",
       "    }\n",
       "</style>\n",
       "<table border=\"1\" class=\"dataframe\">\n",
       "  <thead>\n",
       "    <tr style=\"text-align: right;\">\n",
       "      <th></th>\n",
       "      <th>Patient ID</th>\n",
       "      <th>COVID19</th>\n",
       "      <th>Persistence Entropy</th>\n",
       "      <th>Number of Points</th>\n",
       "      <th>Wasserstein Amplitude</th>\n",
       "      <th>Bottleneck Amplitude</th>\n",
       "      <th>Landscape Amplitude</th>\n",
       "      <th>Betti Curves</th>\n",
       "      <th>Persistence Image</th>\n",
       "    </tr>\n",
       "  </thead>\n",
       "  <tbody>\n",
       "    <tr>\n",
       "      <th>0</th>\n",
       "      <td>A001</td>\n",
       "      <td>0</td>\n",
       "      <td>[2.28599441313816, 4.3895272749642045, 4.34474...</td>\n",
       "      <td>[31.166666666666668, 273.0, 280.5, 10.83333333...</td>\n",
       "      <td>[0.05988420945058712, 0.2905656014537891, 0.43...</td>\n",
       "      <td>[0.04636209111586607, 0.1035830062213009, 0.21...</td>\n",
       "      <td>[0.014739534393167072, 0.046316920271509965, 0...</td>\n",
       "      <td>[0.6666666666666666, 0.3333333333333333, 0.166...</td>\n",
       "      <td>[152.2310796640434, 244.25984616475867, 305.44...</td>\n",
       "    </tr>\n",
       "  </tbody>\n",
       "</table>\n",
       "</div>"
      ],
      "text/plain": [
       "  Patient ID  COVID19                                Persistence Entropy  \\\n",
       "0       A001        0  [2.28599441313816, 4.3895272749642045, 4.34474...   \n",
       "\n",
       "                                    Number of Points  \\\n",
       "0  [31.166666666666668, 273.0, 280.5, 10.83333333...   \n",
       "\n",
       "                               Wasserstein Amplitude  \\\n",
       "0  [0.05988420945058712, 0.2905656014537891, 0.43...   \n",
       "\n",
       "                                Bottleneck Amplitude  \\\n",
       "0  [0.04636209111586607, 0.1035830062213009, 0.21...   \n",
       "\n",
       "                                 Landscape Amplitude  \\\n",
       "0  [0.014739534393167072, 0.046316920271509965, 0...   \n",
       "\n",
       "                                        Betti Curves  \\\n",
       "0  [0.6666666666666666, 0.3333333333333333, 0.166...   \n",
       "\n",
       "                                   Persistence Image  \n",
       "0  [152.2310796640434, 244.25984616475867, 305.44...  "
      ]
     },
     "execution_count": 16,
     "metadata": {},
     "output_type": "execute_result"
    }
   ],
   "source": [
    "# Aggregate feature vectors across each Patient using the mean\n",
    "patient_level_df = df.groupby(\"Patient ID\")[list(featurizers.keys())].mean().reset_index()\n",
    "# Add back Covid variable\n",
    "patient_level_df = pd.merge(df.groupby(\"Patient ID\")[\"COVID19\"].first().reset_index(), patient_level_df)\n",
    "patient_level_df.head(1)"
   ]
  },
  {
   "cell_type": "code",
   "execution_count": 17,
   "metadata": {},
   "outputs": [
    {
     "name": "stdout",
     "output_type": "stream",
     "text": [
      "Training model for Persistence Entropy...\n",
      "Training model for Number of Points...\n",
      "Training model for Wasserstein Amplitude...\n",
      "Training model for Bottleneck Amplitude...\n",
      "Training model for Landscape Amplitude...\n",
      "Training model for Betti Curves...\n",
      "Training model for Persistence Image...\n"
     ]
    }
   ],
   "source": [
    "featurizer_models_patients = pd.DataFrame()\n",
    "featurizer_models_all_patients = pd.DataFrame()\n",
    "for name, featurizer in featurizers.items():\n",
    "    print(f\"Training model for {name}...\")\n",
    "    X = np.stack(patient_level_df[name].values)\n",
    "    y = patient_level_df[\"COVID19\"].values\n",
    "    \n",
    "    scores, scores_mean = Classifier.train_models(X, y, plot=False)\n",
    "    scores = pd.concat([scores], keys=[name], names=['Featurizer'])\n",
    "    scores_mean = pd.concat([scores_mean], keys=[name], names=['Featurizer'])\n",
    "    \n",
    "    featurizer_models_all_patients = pd.concat([featurizer_models_all_patients, scores])\n",
    "    featurizer_models_patients = pd.concat([featurizer_models_patients, scores_mean])\n",
    "    \n",
    "#featurizer_models.style.apply(highlight_max).format(\"{:.2f}\")"
   ]
  },
  {
   "cell_type": "code",
   "execution_count": 18,
   "metadata": {},
   "outputs": [
    {
     "data": {
      "text/html": [
       "<style type=\"text/css\">\n",
       "#T_e8ae7_row0_col0, #T_e8ae7_row0_col1, #T_e8ae7_row0_col3, #T_e8ae7_row1_col0, #T_e8ae7_row1_col2 {\n",
       "  color: green;\n",
       "}\n",
       "</style>\n",
       "<table id=\"T_e8ae7\">\n",
       "  <thead>\n",
       "    <tr>\n",
       "      <th class=\"blank level0\" >&nbsp;</th>\n",
       "      <th id=\"T_e8ae7_level0_col0\" class=\"col_heading level0 col0\" >test_accuracy</th>\n",
       "      <th id=\"T_e8ae7_level0_col1\" class=\"col_heading level0 col1\" >test_sensitivity</th>\n",
       "      <th id=\"T_e8ae7_level0_col2\" class=\"col_heading level0 col2\" >test_specificity</th>\n",
       "      <th id=\"T_e8ae7_level0_col3\" class=\"col_heading level0 col3\" >test_f1</th>\n",
       "    </tr>\n",
       "  </thead>\n",
       "  <tbody>\n",
       "    <tr>\n",
       "      <th id=\"T_e8ae7_level0_row0\" class=\"row_heading level0 row0\" >Number of Points (SVM)</th>\n",
       "      <td id=\"T_e8ae7_row0_col0\" class=\"data row0 col0\" >0.76</td>\n",
       "      <td id=\"T_e8ae7_row0_col1\" class=\"data row0 col1\" >0.81</td>\n",
       "      <td id=\"T_e8ae7_row0_col2\" class=\"data row0 col2\" >0.70</td>\n",
       "      <td id=\"T_e8ae7_row0_col3\" class=\"data row0 col3\" >0.78</td>\n",
       "    </tr>\n",
       "    <tr>\n",
       "      <th id=\"T_e8ae7_level0_row1\" class=\"row_heading level0 row1\" >Persistence Entropy (LR)</th>\n",
       "      <td id=\"T_e8ae7_row1_col0\" class=\"data row1 col0\" >0.76</td>\n",
       "      <td id=\"T_e8ae7_row1_col1\" class=\"data row1 col1\" >0.76</td>\n",
       "      <td id=\"T_e8ae7_row1_col2\" class=\"data row1 col2\" >0.77</td>\n",
       "      <td id=\"T_e8ae7_row1_col3\" class=\"data row1 col3\" >0.76</td>\n",
       "    </tr>\n",
       "    <tr>\n",
       "      <th id=\"T_e8ae7_level0_row2\" class=\"row_heading level0 row2\" >Betti Curves (LR)</th>\n",
       "      <td id=\"T_e8ae7_row2_col0\" class=\"data row2 col0\" >0.72</td>\n",
       "      <td id=\"T_e8ae7_row2_col1\" class=\"data row2 col1\" >0.76</td>\n",
       "      <td id=\"T_e8ae7_row2_col2\" class=\"data row2 col2\" >0.67</td>\n",
       "      <td id=\"T_e8ae7_row2_col3\" class=\"data row2 col3\" >0.74</td>\n",
       "    </tr>\n",
       "    <tr>\n",
       "      <th id=\"T_e8ae7_level0_row3\" class=\"row_heading level0 row3\" >Wasserstein Amplitude (LR)</th>\n",
       "      <td id=\"T_e8ae7_row3_col0\" class=\"data row3 col0\" >0.71</td>\n",
       "      <td id=\"T_e8ae7_row3_col1\" class=\"data row3 col1\" >0.72</td>\n",
       "      <td id=\"T_e8ae7_row3_col2\" class=\"data row3 col2\" >0.70</td>\n",
       "      <td id=\"T_e8ae7_row3_col3\" class=\"data row3 col3\" >0.72</td>\n",
       "    </tr>\n",
       "    <tr>\n",
       "      <th id=\"T_e8ae7_level0_row4\" class=\"row_heading level0 row4\" >Persistence Image (RF)</th>\n",
       "      <td id=\"T_e8ae7_row4_col0\" class=\"data row4 col0\" >0.68</td>\n",
       "      <td id=\"T_e8ae7_row4_col1\" class=\"data row4 col1\" >0.70</td>\n",
       "      <td id=\"T_e8ae7_row4_col2\" class=\"data row4 col2\" >0.67</td>\n",
       "      <td id=\"T_e8ae7_row4_col3\" class=\"data row4 col3\" >0.69</td>\n",
       "    </tr>\n",
       "    <tr>\n",
       "      <th id=\"T_e8ae7_level0_row5\" class=\"row_heading level0 row5\" >Landscape Amplitude (SVM)</th>\n",
       "      <td id=\"T_e8ae7_row5_col0\" class=\"data row5 col0\" >0.67</td>\n",
       "      <td id=\"T_e8ae7_row5_col1\" class=\"data row5 col1\" >0.70</td>\n",
       "      <td id=\"T_e8ae7_row5_col2\" class=\"data row5 col2\" >0.63</td>\n",
       "      <td id=\"T_e8ae7_row5_col3\" class=\"data row5 col3\" >0.68</td>\n",
       "    </tr>\n",
       "    <tr>\n",
       "      <th id=\"T_e8ae7_level0_row6\" class=\"row_heading level0 row6\" >Bottleneck Amplitude (LR)</th>\n",
       "      <td id=\"T_e8ae7_row6_col0\" class=\"data row6 col0\" >0.65</td>\n",
       "      <td id=\"T_e8ae7_row6_col1\" class=\"data row6 col1\" >0.70</td>\n",
       "      <td id=\"T_e8ae7_row6_col2\" class=\"data row6 col2\" >0.60</td>\n",
       "      <td id=\"T_e8ae7_row6_col3\" class=\"data row6 col3\" >0.67</td>\n",
       "    </tr>\n",
       "  </tbody>\n",
       "</table>\n"
      ],
      "text/plain": [
       "<pandas.io.formats.style.Styler at 0x7fca7707cf10>"
      ]
     },
     "execution_count": 18,
     "metadata": {},
     "output_type": "execute_result"
    },
    {
     "data": {
      "image/png": "[encoded data removed]",
      "text/plain": [
       "<Figure size 640x480 with 1 Axes>"
      ]
     },
     "metadata": {},
     "output_type": "display_data"
    }
   ],
   "source": [
    "grouped = featurizer_models_patients.groupby(\"Featurizer\")\n",
    "max_index = grouped[\"test_accuracy\"].idxmax()\n",
    "best_models = featurizer_models_patients.loc[max_index].sort_values(\"test_accuracy\", ascending=False)\n",
    "best_models.index = best_models.reset_index().Featurizer + \" (\" + best_models.reset_index().model + \")\"\n",
    "\n",
    "best_models.plot.bar()\n",
    "plt.legend(loc='lower right')\n",
    "\n",
    "best_models.style.apply(highlight_max).format(\"{:.2f}\")"
   ]
  },
  {
   "cell_type": "code",
   "execution_count": 19,
   "metadata": {},
   "outputs": [
    {
     "name": "stdout",
     "output_type": "stream",
     "text": [
      "\\begin{tabular}{lrrrr}\n",
      "\\toprule\n",
      "{} &  test\\_accuracy &  test\\_sensitivity &  test\\_specificity &  test\\_f1 \\\\\n",
      "\\midrule\n",
      "Number of Points (SVM)     &           0.76 &              0.81 &              0.70 &     0.78 \\\\\n",
      "Persistence Entropy (LR)   &           0.76 &              0.76 &              0.77 &     0.76 \\\\\n",
      "Betti Curves (LR)          &           0.72 &              0.76 &              0.67 &     0.74 \\\\\n",
      "Wasserstein Amplitude (LR) &           0.71 &              0.72 &              0.70 &     0.72 \\\\\n",
      "Persistence Image (RF)     &           0.68 &              0.70 &              0.67 &     0.69 \\\\\n",
      "Landscape Amplitude (SVM)  &           0.67 &              0.70 &              0.63 &     0.68 \\\\\n",
      "Bottleneck Amplitude (LR)  &           0.65 &              0.70 &              0.60 &     0.67 \\\\\n",
      "\\bottomrule\n",
      "\\end{tabular}\n",
      "\n"
     ]
    }
   ],
   "source": [
    "print(best_models.to_latex(float_format=\"{:.2f}\".format))"
   ]
  },
  {
   "cell_type": "markdown",
   "metadata": {},
   "source": [
    "## Severity Scores"
   ]
  },
  {
   "cell_type": "code",
   "execution_count": 20,
   "metadata": {},
   "outputs": [
    {
     "name": "stdout",
     "output_type": "stream",
     "text": [
      "Number of discarded rows: 8\n"
     ]
    }
   ],
   "source": [
    "sev_scores = get_manual_severity_scores()\n",
    "sev_scores = sev_scores[[\"Severity Score\", \"video_name\"]]\n",
    "sev_scores[\"Severity Score\"] = sev_scores[\"Severity Score\"].astype(int)\n",
    "df = pd.merge(df, sev_scores, on=\"video_name\")"
   ]
  },
  {
   "cell_type": "code",
   "execution_count": 21,
   "metadata": {},
   "outputs": [],
   "source": [
    "import importlib\n",
    "import ml_pipeline\n",
    "importlib.reload(ml_pipeline)\n",
    "from ml_pipeline import ModelEvaluation\n",
    "\n",
    "\n",
    "Multi_Classifier = ModelEvaluation(mode=\"classification_multi_label\")"
   ]
  },
  {
   "cell_type": "code",
   "execution_count": 22,
   "metadata": {},
   "outputs": [
    {
     "name": "stdout",
     "output_type": "stream",
     "text": [
      "Training model for Persistence Entropy...\n",
      "Training model for Number of Points...\n"
     ]
    },
    {
     "name": "stderr",
     "output_type": "stream",
     "text": [
      "/scratch_net/gnarf/mrichte/conda_envs/tda/lib/python3.10/site-packages/sklearn/metrics/_classification.py:1334: UndefinedMetricWarning: Precision is ill-defined and being set to 0.0 in labels with no predicted samples. Use `zero_division` parameter to control this behavior.\n",
      "  _warn_prf(average, modifier, msg_start, len(result))\n",
      "/scratch_net/gnarf/mrichte/conda_envs/tda/lib/python3.10/site-packages/sklearn/metrics/_classification.py:1334: UndefinedMetricWarning: Precision is ill-defined and being set to 0.0 in labels with no predicted samples. Use `zero_division` parameter to control this behavior.\n",
      "  _warn_prf(average, modifier, msg_start, len(result))\n"
     ]
    },
    {
     "name": "stdout",
     "output_type": "stream",
     "text": [
      "Training model for Wasserstein Amplitude...\n",
      "Training model for Bottleneck Amplitude...\n",
      "Training model for Landscape Amplitude...\n"
     ]
    },
    {
     "name": "stderr",
     "output_type": "stream",
     "text": [
      "/scratch_net/gnarf/mrichte/conda_envs/tda/lib/python3.10/site-packages/sklearn/metrics/_classification.py:1334: UndefinedMetricWarning: Precision is ill-defined and being set to 0.0 in labels with no predicted samples. Use `zero_division` parameter to control this behavior.\n",
      "  _warn_prf(average, modifier, msg_start, len(result))\n"
     ]
    },
    {
     "name": "stdout",
     "output_type": "stream",
     "text": [
      "Training model for Betti Curves...\n"
     ]
    },
    {
     "name": "stderr",
     "output_type": "stream",
     "text": [
      "/scratch_net/gnarf/mrichte/conda_envs/tda/lib/python3.10/site-packages/sklearn/linear_model/_logistic.py:444: ConvergenceWarning: lbfgs failed to converge (status=1):\n",
      "STOP: TOTAL NO. of ITERATIONS REACHED LIMIT.\n",
      "\n",
      "Increase the number of iterations (max_iter) or scale the data as shown in:\n",
      "    https://scikit-learn.org/stable/modules/preprocessing.html\n",
      "Please also refer to the documentation for alternative solver options:\n",
      "    https://scikit-learn.org/stable/modules/linear_model.html#logistic-regression\n",
      "  n_iter_i = _check_optimize_result(\n",
      "/scratch_net/gnarf/mrichte/conda_envs/tda/lib/python3.10/site-packages/sklearn/linear_model/_logistic.py:444: ConvergenceWarning: lbfgs failed to converge (status=1):\n",
      "STOP: TOTAL NO. of ITERATIONS REACHED LIMIT.\n",
      "\n",
      "Increase the number of iterations (max_iter) or scale the data as shown in:\n",
      "    https://scikit-learn.org/stable/modules/preprocessing.html\n",
      "Please also refer to the documentation for alternative solver options:\n",
      "    https://scikit-learn.org/stable/modules/linear_model.html#logistic-regression\n",
      "  n_iter_i = _check_optimize_result(\n",
      "/scratch_net/gnarf/mrichte/conda_envs/tda/lib/python3.10/site-packages/sklearn/linear_model/_logistic.py:444: ConvergenceWarning: lbfgs failed to converge (status=1):\n",
      "STOP: TOTAL NO. of ITERATIONS REACHED LIMIT.\n",
      "\n",
      "Increase the number of iterations (max_iter) or scale the data as shown in:\n",
      "    https://scikit-learn.org/stable/modules/preprocessing.html\n",
      "Please also refer to the documentation for alternative solver options:\n",
      "    https://scikit-learn.org/stable/modules/linear_model.html#logistic-regression\n",
      "  n_iter_i = _check_optimize_result(\n",
      "/scratch_net/gnarf/mrichte/conda_envs/tda/lib/python3.10/site-packages/sklearn/linear_model/_logistic.py:444: ConvergenceWarning: lbfgs failed to converge (status=1):\n",
      "STOP: TOTAL NO. of ITERATIONS REACHED LIMIT.\n",
      "\n",
      "Increase the number of iterations (max_iter) or scale the data as shown in:\n",
      "    https://scikit-learn.org/stable/modules/preprocessing.html\n",
      "Please also refer to the documentation for alternative solver options:\n",
      "    https://scikit-learn.org/stable/modules/linear_model.html#logistic-regression\n",
      "  n_iter_i = _check_optimize_result(\n",
      "/scratch_net/gnarf/mrichte/conda_envs/tda/lib/python3.10/site-packages/sklearn/linear_model/_logistic.py:444: ConvergenceWarning: lbfgs failed to converge (status=1):\n",
      "STOP: TOTAL NO. of ITERATIONS REACHED LIMIT.\n",
      "\n",
      "Increase the number of iterations (max_iter) or scale the data as shown in:\n",
      "    https://scikit-learn.org/stable/modules/preprocessing.html\n",
      "Please also refer to the documentation for alternative solver options:\n",
      "    https://scikit-learn.org/stable/modules/linear_model.html#logistic-regression\n",
      "  n_iter_i = _check_optimize_result(\n"
     ]
    },
    {
     "name": "stdout",
     "output_type": "stream",
     "text": [
      "Training model for Persistence Image...\n"
     ]
    },
    {
     "name": "stderr",
     "output_type": "stream",
     "text": [
      "/scratch_net/gnarf/mrichte/conda_envs/tda/lib/python3.10/site-packages/sklearn/linear_model/_logistic.py:444: ConvergenceWarning: lbfgs failed to converge (status=1):\n",
      "STOP: TOTAL NO. of ITERATIONS REACHED LIMIT.\n",
      "\n",
      "Increase the number of iterations (max_iter) or scale the data as shown in:\n",
      "    https://scikit-learn.org/stable/modules/preprocessing.html\n",
      "Please also refer to the documentation for alternative solver options:\n",
      "    https://scikit-learn.org/stable/modules/linear_model.html#logistic-regression\n",
      "  n_iter_i = _check_optimize_result(\n",
      "/scratch_net/gnarf/mrichte/conda_envs/tda/lib/python3.10/site-packages/sklearn/linear_model/_logistic.py:444: ConvergenceWarning: lbfgs failed to converge (status=1):\n",
      "STOP: TOTAL NO. of ITERATIONS REACHED LIMIT.\n",
      "\n",
      "Increase the number of iterations (max_iter) or scale the data as shown in:\n",
      "    https://scikit-learn.org/stable/modules/preprocessing.html\n",
      "Please also refer to the documentation for alternative solver options:\n",
      "    https://scikit-learn.org/stable/modules/linear_model.html#logistic-regression\n",
      "  n_iter_i = _check_optimize_result(\n",
      "/scratch_net/gnarf/mrichte/conda_envs/tda/lib/python3.10/site-packages/sklearn/linear_model/_logistic.py:444: ConvergenceWarning: lbfgs failed to converge (status=1):\n",
      "STOP: TOTAL NO. of ITERATIONS REACHED LIMIT.\n",
      "\n",
      "Increase the number of iterations (max_iter) or scale the data as shown in:\n",
      "    https://scikit-learn.org/stable/modules/preprocessing.html\n",
      "Please also refer to the documentation for alternative solver options:\n",
      "    https://scikit-learn.org/stable/modules/linear_model.html#logistic-regression\n",
      "  n_iter_i = _check_optimize_result(\n",
      "/scratch_net/gnarf/mrichte/conda_envs/tda/lib/python3.10/site-packages/sklearn/linear_model/_logistic.py:444: ConvergenceWarning: lbfgs failed to converge (status=1):\n",
      "STOP: TOTAL NO. of ITERATIONS REACHED LIMIT.\n",
      "\n",
      "Increase the number of iterations (max_iter) or scale the data as shown in:\n",
      "    https://scikit-learn.org/stable/modules/preprocessing.html\n",
      "Please also refer to the documentation for alternative solver options:\n",
      "    https://scikit-learn.org/stable/modules/linear_model.html#logistic-regression\n",
      "  n_iter_i = _check_optimize_result(\n",
      "/scratch_net/gnarf/mrichte/conda_envs/tda/lib/python3.10/site-packages/sklearn/linear_model/_logistic.py:444: ConvergenceWarning: lbfgs failed to converge (status=1):\n",
      "STOP: TOTAL NO. of ITERATIONS REACHED LIMIT.\n",
      "\n",
      "Increase the number of iterations (max_iter) or scale the data as shown in:\n",
      "    https://scikit-learn.org/stable/modules/preprocessing.html\n",
      "Please also refer to the documentation for alternative solver options:\n",
      "    https://scikit-learn.org/stable/modules/linear_model.html#logistic-regression\n",
      "  n_iter_i = _check_optimize_result(\n",
      "/scratch_net/gnarf/mrichte/conda_envs/tda/lib/python3.10/site-packages/sklearn/svm/_base.py:1225: ConvergenceWarning: Liblinear failed to converge, increase the number of iterations.\n",
      "  warnings.warn(\n",
      "/scratch_net/gnarf/mrichte/conda_envs/tda/lib/python3.10/site-packages/sklearn/svm/_base.py:1225: ConvergenceWarning: Liblinear failed to converge, increase the number of iterations.\n",
      "  warnings.warn(\n",
      "/scratch_net/gnarf/mrichte/conda_envs/tda/lib/python3.10/site-packages/sklearn/svm/_base.py:1225: ConvergenceWarning: Liblinear failed to converge, increase the number of iterations.\n",
      "  warnings.warn(\n",
      "/scratch_net/gnarf/mrichte/conda_envs/tda/lib/python3.10/site-packages/sklearn/svm/_base.py:1225: ConvergenceWarning: Liblinear failed to converge, increase the number of iterations.\n",
      "  warnings.warn(\n",
      "/scratch_net/gnarf/mrichte/conda_envs/tda/lib/python3.10/site-packages/sklearn/svm/_base.py:1225: ConvergenceWarning: Liblinear failed to converge, increase the number of iterations.\n",
      "  warnings.warn(\n"
     ]
    },
    {
     "data": {
      "text/html": [
       "<style type=\"text/css\">\n",
       "#T_f192c_row0_col0, #T_f192c_row0_col1, #T_f192c_row0_col2, #T_f192c_row1_col3 {\n",
       "  color: green;\n",
       "}\n",
       "</style>\n",
       "<table id=\"T_f192c\">\n",
       "  <thead>\n",
       "    <tr>\n",
       "      <th class=\"blank level0\" >&nbsp;</th>\n",
       "      <th id=\"T_f192c_level0_col0\" class=\"col_heading level0 col0\" >test_accuracy</th>\n",
       "      <th id=\"T_f192c_level0_col1\" class=\"col_heading level0 col1\" >test_f1</th>\n",
       "      <th id=\"T_f192c_level0_col2\" class=\"col_heading level0 col2\" >test_recall</th>\n",
       "      <th id=\"T_f192c_level0_col3\" class=\"col_heading level0 col3\" >test_precision</th>\n",
       "    </tr>\n",
       "    <tr>\n",
       "      <th class=\"index_name level0\" >Featurizer</th>\n",
       "      <th class=\"blank col0\" >&nbsp;</th>\n",
       "      <th class=\"blank col1\" >&nbsp;</th>\n",
       "      <th class=\"blank col2\" >&nbsp;</th>\n",
       "      <th class=\"blank col3\" >&nbsp;</th>\n",
       "    </tr>\n",
       "  </thead>\n",
       "  <tbody>\n",
       "    <tr>\n",
       "      <th id=\"T_f192c_level0_row0\" class=\"row_heading level0 row0\" >Persistence Entropy</th>\n",
       "      <td id=\"T_f192c_row0_col0\" class=\"data row0 col0\" >0.36</td>\n",
       "      <td id=\"T_f192c_row0_col1\" class=\"data row0 col1\" >0.34</td>\n",
       "      <td id=\"T_f192c_row0_col2\" class=\"data row0 col2\" >0.36</td>\n",
       "      <td id=\"T_f192c_row0_col3\" class=\"data row0 col3\" >0.37</td>\n",
       "    </tr>\n",
       "    <tr>\n",
       "      <th id=\"T_f192c_level0_row1\" class=\"row_heading level0 row1\" >Wasserstein Amplitude</th>\n",
       "      <td id=\"T_f192c_row1_col0\" class=\"data row1 col0\" >0.35</td>\n",
       "      <td id=\"T_f192c_row1_col1\" class=\"data row1 col1\" >0.34</td>\n",
       "      <td id=\"T_f192c_row1_col2\" class=\"data row1 col2\" >0.35</td>\n",
       "      <td id=\"T_f192c_row1_col3\" class=\"data row1 col3\" >0.38</td>\n",
       "    </tr>\n",
       "    <tr>\n",
       "      <th id=\"T_f192c_level0_row2\" class=\"row_heading level0 row2\" >Persistence Image</th>\n",
       "      <td id=\"T_f192c_row2_col0\" class=\"data row2 col0\" >0.34</td>\n",
       "      <td id=\"T_f192c_row2_col1\" class=\"data row2 col1\" >0.33</td>\n",
       "      <td id=\"T_f192c_row2_col2\" class=\"data row2 col2\" >0.34</td>\n",
       "      <td id=\"T_f192c_row2_col3\" class=\"data row2 col3\" >0.38</td>\n",
       "    </tr>\n",
       "    <tr>\n",
       "      <th id=\"T_f192c_level0_row3\" class=\"row_heading level0 row3\" >Bottleneck Amplitude</th>\n",
       "      <td id=\"T_f192c_row3_col0\" class=\"data row3 col0\" >0.34</td>\n",
       "      <td id=\"T_f192c_row3_col1\" class=\"data row3 col1\" >0.33</td>\n",
       "      <td id=\"T_f192c_row3_col2\" class=\"data row3 col2\" >0.34</td>\n",
       "      <td id=\"T_f192c_row3_col3\" class=\"data row3 col3\" >0.37</td>\n",
       "    </tr>\n",
       "    <tr>\n",
       "      <th id=\"T_f192c_level0_row4\" class=\"row_heading level0 row4\" >Betti Curves</th>\n",
       "      <td id=\"T_f192c_row4_col0\" class=\"data row4 col0\" >0.33</td>\n",
       "      <td id=\"T_f192c_row4_col1\" class=\"data row4 col1\" >0.32</td>\n",
       "      <td id=\"T_f192c_row4_col2\" class=\"data row4 col2\" >0.33</td>\n",
       "      <td id=\"T_f192c_row4_col3\" class=\"data row4 col3\" >0.36</td>\n",
       "    </tr>\n",
       "    <tr>\n",
       "      <th id=\"T_f192c_level0_row5\" class=\"row_heading level0 row5\" >Landscape Amplitude</th>\n",
       "      <td id=\"T_f192c_row5_col0\" class=\"data row5 col0\" >0.32</td>\n",
       "      <td id=\"T_f192c_row5_col1\" class=\"data row5 col1\" >0.31</td>\n",
       "      <td id=\"T_f192c_row5_col2\" class=\"data row5 col2\" >0.32</td>\n",
       "      <td id=\"T_f192c_row5_col3\" class=\"data row5 col3\" >0.33</td>\n",
       "    </tr>\n",
       "    <tr>\n",
       "      <th id=\"T_f192c_level0_row6\" class=\"row_heading level0 row6\" >Number of Points</th>\n",
       "      <td id=\"T_f192c_row6_col0\" class=\"data row6 col0\" >0.34</td>\n",
       "      <td id=\"T_f192c_row6_col1\" class=\"data row6 col1\" >0.31</td>\n",
       "      <td id=\"T_f192c_row6_col2\" class=\"data row6 col2\" >0.34</td>\n",
       "      <td id=\"T_f192c_row6_col3\" class=\"data row6 col3\" >0.34</td>\n",
       "    </tr>\n",
       "  </tbody>\n",
       "</table>\n"
      ],
      "text/plain": [
       "<pandas.io.formats.style.Styler at 0x7fca9ae62200>"
      ]
     },
     "execution_count": 22,
     "metadata": {},
     "output_type": "execute_result"
    }
   ],
   "source": [
    "featurizer_models = pd.DataFrame()\n",
    "featurizer_models_all = pd.DataFrame()\n",
    "for name, featurizer in featurizers.items():\n",
    "    print(f\"Training model for {name}...\")\n",
    "    X = np.stack(df[name].values)\n",
    "    y = df[\"Severity Score\"].values\n",
    "    groups = df[\"Patient ID\"].values\n",
    "    \n",
    "    scores, scores_mean = Multi_Classifier.train_models(X, y, groups=groups, plot=False)\n",
    "    scores = pd.concat([scores], keys=[name], names=['Featurizer'])\n",
    "    scores_mean = pd.concat([scores_mean], keys=[name], names=['Featurizer'])\n",
    "    \n",
    "    featurizer_models_all = pd.concat([featurizer_models_all, scores])\n",
    "    featurizer_models = pd.concat([featurizer_models, scores_mean])\n",
    "    \n",
    "featurizer_models.groupby(\"Featurizer\").mean().sort_values(by=[\"test_f1\"], ascending=False).style.apply(highlight_max).format(\"{:.2f}\")"
   ]
  },
  {
   "cell_type": "code",
   "execution_count": 23,
   "metadata": {},
   "outputs": [
    {
     "data": {
      "text/plain": [
       "<matplotlib.legend.Legend at 0x7fca74840580>"
      ]
     },
     "execution_count": 23,
     "metadata": {},
     "output_type": "execute_result"
    },
    {
     "data": {
      "image/png": "[encoded data removed]",
      "text/plain": [
       "<Figure size 640x480 with 1 Axes>"
      ]
     },
     "metadata": {},
     "output_type": "display_data"
    }
   ],
   "source": [
    "featurizer_models.groupby(\"Featurizer\").mean().sort_values(by=[\"test_f1\"], ascending=False).plot.bar(yerr=featurizer_models.groupby(\"Featurizer\").std())\n",
    "plt.legend(loc='lower right')"
   ]
  },
  {
   "cell_type": "code",
   "execution_count": 24,
   "metadata": {},
   "outputs": [
    {
     "name": "stdout",
     "output_type": "stream",
     "text": [
      "\\begin{tabular}{lrrrr}\n",
      "\\toprule\n",
      "{} &  test\\_accuracy &  test\\_f1 &  test\\_recall &  test\\_precision \\\\\n",
      "Featurizer            &                &          &              &                 \\\\\n",
      "\\midrule\n",
      "Persistence Entropy   &           0.36 &     0.34 &         0.36 &            0.37 \\\\\n",
      "Wasserstein Amplitude &           0.35 &     0.34 &         0.35 &            0.38 \\\\\n",
      "Number of Points      &           0.34 &     0.31 &         0.34 &            0.34 \\\\\n",
      "Bottleneck Amplitude  &           0.34 &     0.33 &         0.34 &            0.37 \\\\\n",
      "Persistence Image     &           0.34 &     0.33 &         0.34 &            0.38 \\\\\n",
      "Betti Curves          &           0.33 &     0.32 &         0.33 &            0.36 \\\\\n",
      "Landscape Amplitude   &           0.32 &     0.31 &         0.32 &            0.33 \\\\\n",
      "\\bottomrule\n",
      "\\end{tabular}\n",
      "\n"
     ]
    }
   ],
   "source": [
    "# Print the same for latex\n",
    "print(featurizer_models.groupby(\"Featurizer\").mean().sort_values(by=[\"test_accuracy\"], ascending=False).to_latex(float_format=\"{:.2f}\".format))"
   ]
  },
  {
   "cell_type": "code",
   "execution_count": null,
   "metadata": {},
   "outputs": [],
   "source": []
  }
 ],
 "metadata": {
  "kernelspec": {
   "display_name": "pocovid2",
   "language": "python",
   "name": "python3"
  },
  "language_info": {
   "codemirror_mode": {
    "name": "ipython",
    "version": 3
   },
   "file_extension": ".py",
   "mimetype": "text/x-python",
   "name": "python",
   "nbconvert_exporter": "python",
   "pygments_lexer": "ipython3",
   "version": "3.8.13"
  }
 },
 "nbformat": 4,
 "nbformat_minor": 4
}
