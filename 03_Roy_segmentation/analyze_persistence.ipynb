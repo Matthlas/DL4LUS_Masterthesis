{
 "cells": [
  {
   "cell_type": "code",
   "execution_count": 3,
   "metadata": {},
   "outputs": [],
   "source": [
    "import os\n",
    "import numpy as np\n",
    "import glob\n",
    "import pandas as pd\n",
    "import matplotlib.pyplot as plt\n",
    "import seaborn as sns\n",
    "sns.set()\n",
    "\n",
    "import sys; sys.path.insert(0, \"../utils/\")\n",
    "from data_utils import get_data_location, get_clinical_df, get_bluepoints_df, get_manual_severity_scores\n",
    "from ml_pipeline import ModelEvaluation, highlight_max\n",
    "\n",
    "DATA_PATH = get_data_location()"
   ]
  },
  {
   "cell_type": "code",
   "execution_count": 4,
   "metadata": {},
   "outputs": [
    {
     "data": {
      "text/plain": [
       "369"
      ]
     },
     "execution_count": 4,
     "metadata": {},
     "output_type": "execute_result"
    }
   ],
   "source": [
    "DIAGRAMS_PATH = os.path.join(DATA_PATH,\"cropped_videos_segmented/persistence_diagrams\")\n",
    "\n",
    "# List all files & directories\n",
    "diagrams_files = os.listdir(DIAGRAMS_PATH)\n",
    "\n",
    "# keep only files that end with .npy\n",
    "diagrams_files = [x for x in diagrams_files if x.endswith(\".npy\")]\n",
    "\n",
    "len(diagrams_files)"
   ]
  },
  {
   "cell_type": "code",
   "execution_count": 5,
   "metadata": {},
   "outputs": [
    {
     "data": {
      "text/plain": [
       "(4, 9439, 3)"
      ]
     },
     "execution_count": 5,
     "metadata": {},
     "output_type": "execute_result"
    }
   ],
   "source": [
    "# Load the first file\n",
    "diagrams = np.load(os.path.join(DIAGRAMS_PATH, diagrams_files[0]), allow_pickle=True)\n",
    "diagrams.shape"
   ]
  },
  {
   "cell_type": "code",
   "execution_count": 6,
   "metadata": {},
   "outputs": [],
   "source": [
    "from gtda.plotting import plot_diagram\n",
    "# plot_diagram(diagrams[0])"
   ]
  },
  {
   "cell_type": "code",
   "execution_count": 7,
   "metadata": {},
   "outputs": [
    {
     "name": "stdout",
     "output_type": "stream",
     "text": [
      "(4, 3)\n"
     ]
    },
    {
     "data": {
      "text/plain": [
       "(12,)"
      ]
     },
     "execution_count": 7,
     "metadata": {},
     "output_type": "execute_result"
    }
   ],
   "source": [
    "from gtda.diagrams import PersistenceEntropy\n",
    "\n",
    "persistence_entropy = PersistenceEntropy()\n",
    "\n",
    "# calculate topological feature matrix\n",
    "X_basic = persistence_entropy.fit_transform(diagrams)\n",
    "\n",
    "# expect shape - (n_point_clouds, n_homology_dims)\n",
    "print(X_basic.shape)\n",
    "\n",
    "# flatten the matrix to get one feature vector per video\n",
    "X_basic = X_basic.flatten()\n",
    "X_basic.shape"
   ]
  },
  {
   "cell_type": "code",
   "execution_count": 8,
   "metadata": {},
   "outputs": [
    {
     "data": {
      "text/html": [
       "<div>\n",
       "<style scoped>\n",
       "    .dataframe tbody tr th:only-of-type {\n",
       "        vertical-align: middle;\n",
       "    }\n",
       "\n",
       "    .dataframe tbody tr th {\n",
       "        vertical-align: top;\n",
       "    }\n",
       "\n",
       "    .dataframe thead th {\n",
       "        text-align: right;\n",
       "    }\n",
       "</style>\n",
       "<table border=\"1\" class=\"dataframe\">\n",
       "  <thead>\n",
       "    <tr style=\"text-align: right;\">\n",
       "      <th></th>\n",
       "      <th>file_name</th>\n",
       "      <th>Patient ID</th>\n",
       "      <th>video_name</th>\n",
       "      <th>diagrams</th>\n",
       "    </tr>\n",
       "  </thead>\n",
       "  <tbody>\n",
       "    <tr>\n",
       "      <th>0</th>\n",
       "      <td>diagrams_A001_image_147606973438168_processed_...</td>\n",
       "      <td>A001</td>\n",
       "      <td>image_147606973438168</td>\n",
       "      <td>[[[0.0, 0.011129842139780521, 0.0], [0.0, 0.01...</td>\n",
       "    </tr>\n",
       "    <tr>\n",
       "      <th>1</th>\n",
       "      <td>diagrams_A001_image_147549867609700_processed_...</td>\n",
       "      <td>A001</td>\n",
       "      <td>image_147549867609700</td>\n",
       "      <td>[[[0.0, 0.014365816488862038, 0.0], [0.0, 0.01...</td>\n",
       "    </tr>\n",
       "    <tr>\n",
       "      <th>2</th>\n",
       "      <td>diagrams_A001_image_147690538547824_processed_...</td>\n",
       "      <td>A001</td>\n",
       "      <td>image_147690538547824</td>\n",
       "      <td>[[[0.0, 0.013820723630487919, 0.0], [0.0, 0.01...</td>\n",
       "    </tr>\n",
       "    <tr>\n",
       "      <th>3</th>\n",
       "      <td>diagrams_A001_image_147857626821302_processed_...</td>\n",
       "      <td>A001</td>\n",
       "      <td>image_147857626821302</td>\n",
       "      <td>[[[0.0, 0.015802821144461632, 0.0], [0.0, 0.01...</td>\n",
       "    </tr>\n",
       "    <tr>\n",
       "      <th>4</th>\n",
       "      <td>diagrams_A001_image_147814256633037_processed_...</td>\n",
       "      <td>A001</td>\n",
       "      <td>image_147814256633037</td>\n",
       "      <td>[[[0.0, 0.0, 0.0], [0.0, 0.0, 0.0], [0.0, 0.0,...</td>\n",
       "    </tr>\n",
       "  </tbody>\n",
       "</table>\n",
       "</div>"
      ],
      "text/plain": [
       "                                           file_name Patient ID  \\\n",
       "0  diagrams_A001_image_147606973438168_processed_...       A001   \n",
       "1  diagrams_A001_image_147549867609700_processed_...       A001   \n",
       "2  diagrams_A001_image_147690538547824_processed_...       A001   \n",
       "3  diagrams_A001_image_147857626821302_processed_...       A001   \n",
       "4  diagrams_A001_image_147814256633037_processed_...       A001   \n",
       "\n",
       "              video_name                                           diagrams  \n",
       "0  image_147606973438168  [[[0.0, 0.011129842139780521, 0.0], [0.0, 0.01...  \n",
       "1  image_147549867609700  [[[0.0, 0.014365816488862038, 0.0], [0.0, 0.01...  \n",
       "2  image_147690538547824  [[[0.0, 0.013820723630487919, 0.0], [0.0, 0.01...  \n",
       "3  image_147857626821302  [[[0.0, 0.015802821144461632, 0.0], [0.0, 0.01...  \n",
       "4  image_147814256633037  [[[0.0, 0.0, 0.0], [0.0, 0.0, 0.0], [0.0, 0.0,...  "
      ]
     },
     "execution_count": 8,
     "metadata": {},
     "output_type": "execute_result"
    }
   ],
   "source": [
    "import pandas as pd\n",
    "\n",
    "# Create a dataframe from digrams_files\n",
    "df = pd.DataFrame(diagrams_files, columns=[\"file_name\"])\n",
    "\n",
    "# Split the file name to get the patient id\n",
    "df[\"Patient ID\"] = df[\"file_name\"].apply(lambda x: x.split(\"_\")[1])\n",
    "# Split the file name to get the video name\n",
    "df[\"video_name\"] = df[\"file_name\"].apply(lambda x: x.split(\"_\")[2] + \"_\" + x.split(\"_\")[3])\n",
    "# Load the diagrams into the dataframe\n",
    "df[\"diagrams\"] = df[\"file_name\"].apply(lambda x: np.load(os.path.join(DIAGRAMS_PATH, x), allow_pickle=True))\n",
    "\n",
    "df.head()"
   ]
  },
  {
   "cell_type": "code",
   "execution_count": 9,
   "metadata": {},
   "outputs": [
    {
     "data": {
      "text/html": [
       "<div>\n",
       "<style scoped>\n",
       "    .dataframe tbody tr th:only-of-type {\n",
       "        vertical-align: middle;\n",
       "    }\n",
       "\n",
       "    .dataframe tbody tr th {\n",
       "        vertical-align: top;\n",
       "    }\n",
       "\n",
       "    .dataframe thead th {\n",
       "        text-align: right;\n",
       "    }\n",
       "</style>\n",
       "<table border=\"1\" class=\"dataframe\">\n",
       "  <thead>\n",
       "    <tr style=\"text-align: right;\">\n",
       "      <th></th>\n",
       "      <th>file_name</th>\n",
       "      <th>Patient ID</th>\n",
       "      <th>video_name</th>\n",
       "      <th>diagrams</th>\n",
       "      <th>COVID19</th>\n",
       "      <th>Bluepoint</th>\n",
       "    </tr>\n",
       "  </thead>\n",
       "  <tbody>\n",
       "    <tr>\n",
       "      <th>0</th>\n",
       "      <td>diagrams_A001_image_147606973438168_processed_...</td>\n",
       "      <td>A001</td>\n",
       "      <td>image_147606973438168</td>\n",
       "      <td>[[[0.0, 0.011129842139780521, 0.0], [0.0, 0.01...</td>\n",
       "      <td>0</td>\n",
       "      <td>R2</td>\n",
       "    </tr>\n",
       "  </tbody>\n",
       "</table>\n",
       "</div>"
      ],
      "text/plain": [
       "                                           file_name Patient ID  \\\n",
       "0  diagrams_A001_image_147606973438168_processed_...       A001   \n",
       "\n",
       "              video_name                                           diagrams  \\\n",
       "0  image_147606973438168  [[[0.0, 0.011129842139780521, 0.0], [0.0, 0.01...   \n",
       "\n",
       "   COVID19 Bluepoint  \n",
       "0        0        R2  "
      ]
     },
     "execution_count": 9,
     "metadata": {},
     "output_type": "execute_result"
    }
   ],
   "source": [
    "clinical_data = get_clinical_df()\n",
    "\n",
    "clinical_data = clinical_data[[\"Video ID\", \"clin_diagn#COVID19_pneumonia\"]]\n",
    "clinical_data.columns = [\"Patient ID\", \"COVID19\"]\n",
    "df = pd.merge(df, clinical_data, on=\"Patient ID\", how=\"left\")\n",
    "\n",
    "bp = get_bluepoints_df()\n",
    "df = pd.merge(df, bp[[\"Bluepoint\", \"video_name\"]], on=\"video_name\", how=\"left\")\n",
    "\n",
    "df.head(1)"
   ]
  },
  {
   "cell_type": "code",
   "execution_count": 10,
   "metadata": {},
   "outputs": [],
   "source": [
    "def featurize_diagram(diagram, representation):\n",
    "    \"\"\"Featurize diagrams with a given representation.\n",
    "    \n",
    "    Parameters\n",
    "    ----------\n",
    "    diagram : ndarray\n",
    "        A persistence diagram in the gtda format.\n",
    "    representation : object\n",
    "        A representation object from gtda.diagrams.\n",
    "        \n",
    "    Returns\n",
    "    -------\n",
    "    X : ndarray\n",
    "        A feature vector.\n",
    "    \"\"\"\n",
    "    return representation.fit_transform(diagram).flatten()\n"
   ]
  },
  {
   "cell_type": "code",
   "execution_count": 11,
   "metadata": {},
   "outputs": [
    {
     "name": "stdout",
     "output_type": "stream",
     "text": [
      "Calculating Persistence Entropy\n",
      "Calculating Number of Points\n",
      "Calculating Wasserstein Amplitude\n",
      "Calculating Bottleneck Amplitude\n",
      "Calculating Landscape Amplitude\n",
      "Calculating Betti Curves\n",
      "Calculating Persistence Image\n"
     ]
    },
    {
     "data": {
      "text/html": [
       "<div>\n",
       "<style scoped>\n",
       "    .dataframe tbody tr th:only-of-type {\n",
       "        vertical-align: middle;\n",
       "    }\n",
       "\n",
       "    .dataframe tbody tr th {\n",
       "        vertical-align: top;\n",
       "    }\n",
       "\n",
       "    .dataframe thead th {\n",
       "        text-align: right;\n",
       "    }\n",
       "</style>\n",
       "<table border=\"1\" class=\"dataframe\">\n",
       "  <thead>\n",
       "    <tr style=\"text-align: right;\">\n",
       "      <th></th>\n",
       "      <th>file_name</th>\n",
       "      <th>Patient ID</th>\n",
       "      <th>video_name</th>\n",
       "      <th>diagrams</th>\n",
       "      <th>COVID19</th>\n",
       "      <th>Bluepoint</th>\n",
       "      <th>Persistence Entropy</th>\n",
       "      <th>Number of Points</th>\n",
       "      <th>Wasserstein Amplitude</th>\n",
       "      <th>Bottleneck Amplitude</th>\n",
       "      <th>Landscape Amplitude</th>\n",
       "      <th>Betti Curves</th>\n",
       "      <th>Persistence Image</th>\n",
       "    </tr>\n",
       "  </thead>\n",
       "  <tbody>\n",
       "    <tr>\n",
       "      <th>0</th>\n",
       "      <td>diagrams_A001_image_147606973438168_processed_...</td>\n",
       "      <td>A001</td>\n",
       "      <td>image_147606973438168</td>\n",
       "      <td>[[[0.0, 0.011129842139780521, 0.0], [0.0, 0.01...</td>\n",
       "      <td>0</td>\n",
       "      <td>R2</td>\n",
       "      <td>[9.84487277087777, 9.488478721971166, 4.492168...</td>\n",
       "      <td>[1038, 772, 39, 1151, 970, 51, 4478, 4742, 219...</td>\n",
       "      <td>[0.2821155785865827, 0.06714671157959838, 0.02...</td>\n",
       "      <td>[0.118050217628479, 0.004073821008205414, 0.01...</td>\n",
       "      <td>[0.033120796982921336, 0.00028673226566222897,...</td>\n",
       "      <td>[1038, 6, 6, 6, 6, 4, 4, 4, 3, 3, 3, 1, 1, 0, ...</td>\n",
       "      <td>[40.423103856339345, 36.07662596770036, 25.645...</td>\n",
       "    </tr>\n",
       "  </tbody>\n",
       "</table>\n",
       "</div>"
      ],
      "text/plain": [
       "                                           file_name Patient ID  \\\n",
       "0  diagrams_A001_image_147606973438168_processed_...       A001   \n",
       "\n",
       "              video_name                                           diagrams  \\\n",
       "0  image_147606973438168  [[[0.0, 0.011129842139780521, 0.0], [0.0, 0.01...   \n",
       "\n",
       "   COVID19 Bluepoint                                Persistence Entropy  \\\n",
       "0        0        R2  [9.84487277087777, 9.488478721971166, 4.492168...   \n",
       "\n",
       "                                    Number of Points  \\\n",
       "0  [1038, 772, 39, 1151, 970, 51, 4478, 4742, 219...   \n",
       "\n",
       "                               Wasserstein Amplitude  \\\n",
       "0  [0.2821155785865827, 0.06714671157959838, 0.02...   \n",
       "\n",
       "                                Bottleneck Amplitude  \\\n",
       "0  [0.118050217628479, 0.004073821008205414, 0.01...   \n",
       "\n",
       "                                 Landscape Amplitude  \\\n",
       "0  [0.033120796982921336, 0.00028673226566222897,...   \n",
       "\n",
       "                                        Betti Curves  \\\n",
       "0  [1038, 6, 6, 6, 6, 4, 4, 4, 3, 3, 3, 1, 1, 0, ...   \n",
       "\n",
       "                                   Persistence Image  \n",
       "0  [40.423103856339345, 36.07662596770036, 25.645...  "
      ]
     },
     "execution_count": 11,
     "metadata": {},
     "output_type": "execute_result"
    }
   ],
   "source": [
    "# Import different featurizers\n",
    "from gtda.diagrams import PersistenceEntropy\n",
    "from gtda.diagrams import Amplitude\n",
    "from gtda.diagrams import BettiCurve\n",
    "from gtda.diagrams import PersistenceImage\n",
    "from gtda.diagrams import NumberOfPoints\n",
    "\n",
    "# Store all featurizer in a dict with name as key\n",
    "featurizers = {\"Persistence Entropy\" : PersistenceEntropy(),\n",
    "                \"Number of Points\" : NumberOfPoints(),\n",
    "                \"Wasserstein Amplitude\" : Amplitude(metric='wasserstein'),\n",
    "                \"Bottleneck Amplitude\" : Amplitude(metric='bottleneck'),\n",
    "                \"Landscape Amplitude\" : Amplitude(metric='landscape'),\n",
    "                \"Betti Curves\" : BettiCurve(n_bins=20),\n",
    "                \"Persistence Image\" : PersistenceImage(n_bins=10, n_jobs=-1), \n",
    "                \n",
    "                }\n",
    "\n",
    "# Apply the different featurizers to the diagrams and add them to the dataframe in separate columns\n",
    "for name, featurizer in featurizers.items():\n",
    "    print(f\"Calculating {name}\")\n",
    "    df[name] = df[\"diagrams\"].apply(lambda x: featurize_diagram(x, featurizer))\n",
    "df.head(1)"
   ]
  },
  {
   "cell_type": "markdown",
   "metadata": {},
   "source": [
    "## Train models"
   ]
  },
  {
   "cell_type": "code",
   "execution_count": 12,
   "metadata": {},
   "outputs": [],
   "source": [
    "Classifier = ModelEvaluation(\"classification\")"
   ]
  },
  {
   "cell_type": "code",
   "execution_count": 13,
   "metadata": {},
   "outputs": [
    {
     "name": "stdout",
     "output_type": "stream",
     "text": [
      "Training model for Persistence Entropy...\n",
      "Training model for Number of Points...\n",
      "Training model for Wasserstein Amplitude...\n",
      "Training model for Bottleneck Amplitude...\n",
      "Training model for Landscape Amplitude...\n",
      "Training model for Betti Curves...\n"
     ]
    },
    {
     "name": "stderr",
     "output_type": "stream",
     "text": [
      "/scratch_net/gnarf/mrichte/conda_envs/tda/lib/python3.10/site-packages/sklearn/svm/_base.py:1225: ConvergenceWarning: Liblinear failed to converge, increase the number of iterations.\n",
      "  warnings.warn(\n"
     ]
    },
    {
     "name": "stdout",
     "output_type": "stream",
     "text": [
      "Training model for Persistence Image...\n"
     ]
    },
    {
     "name": "stderr",
     "output_type": "stream",
     "text": [
      "/scratch_net/gnarf/mrichte/conda_envs/tda/lib/python3.10/site-packages/sklearn/linear_model/_logistic.py:444: ConvergenceWarning: lbfgs failed to converge (status=1):\n",
      "STOP: TOTAL NO. of ITERATIONS REACHED LIMIT.\n",
      "\n",
      "Increase the number of iterations (max_iter) or scale the data as shown in:\n",
      "    https://scikit-learn.org/stable/modules/preprocessing.html\n",
      "Please also refer to the documentation for alternative solver options:\n",
      "    https://scikit-learn.org/stable/modules/linear_model.html#logistic-regression\n",
      "  n_iter_i = _check_optimize_result(\n",
      "/scratch_net/gnarf/mrichte/conda_envs/tda/lib/python3.10/site-packages/sklearn/linear_model/_logistic.py:444: ConvergenceWarning: lbfgs failed to converge (status=1):\n",
      "STOP: TOTAL NO. of ITERATIONS REACHED LIMIT.\n",
      "\n",
      "Increase the number of iterations (max_iter) or scale the data as shown in:\n",
      "    https://scikit-learn.org/stable/modules/preprocessing.html\n",
      "Please also refer to the documentation for alternative solver options:\n",
      "    https://scikit-learn.org/stable/modules/linear_model.html#logistic-regression\n",
      "  n_iter_i = _check_optimize_result(\n",
      "/scratch_net/gnarf/mrichte/conda_envs/tda/lib/python3.10/site-packages/sklearn/linear_model/_logistic.py:444: ConvergenceWarning: lbfgs failed to converge (status=1):\n",
      "STOP: TOTAL NO. of ITERATIONS REACHED LIMIT.\n",
      "\n",
      "Increase the number of iterations (max_iter) or scale the data as shown in:\n",
      "    https://scikit-learn.org/stable/modules/preprocessing.html\n",
      "Please also refer to the documentation for alternative solver options:\n",
      "    https://scikit-learn.org/stable/modules/linear_model.html#logistic-regression\n",
      "  n_iter_i = _check_optimize_result(\n",
      "/scratch_net/gnarf/mrichte/conda_envs/tda/lib/python3.10/site-packages/sklearn/linear_model/_logistic.py:444: ConvergenceWarning: lbfgs failed to converge (status=1):\n",
      "STOP: TOTAL NO. of ITERATIONS REACHED LIMIT.\n",
      "\n",
      "Increase the number of iterations (max_iter) or scale the data as shown in:\n",
      "    https://scikit-learn.org/stable/modules/preprocessing.html\n",
      "Please also refer to the documentation for alternative solver options:\n",
      "    https://scikit-learn.org/stable/modules/linear_model.html#logistic-regression\n",
      "  n_iter_i = _check_optimize_result(\n",
      "/scratch_net/gnarf/mrichte/conda_envs/tda/lib/python3.10/site-packages/sklearn/linear_model/_logistic.py:444: ConvergenceWarning: lbfgs failed to converge (status=1):\n",
      "STOP: TOTAL NO. of ITERATIONS REACHED LIMIT.\n",
      "\n",
      "Increase the number of iterations (max_iter) or scale the data as shown in:\n",
      "    https://scikit-learn.org/stable/modules/preprocessing.html\n",
      "Please also refer to the documentation for alternative solver options:\n",
      "    https://scikit-learn.org/stable/modules/linear_model.html#logistic-regression\n",
      "  n_iter_i = _check_optimize_result(\n",
      "/scratch_net/gnarf/mrichte/conda_envs/tda/lib/python3.10/site-packages/sklearn/svm/_base.py:1225: ConvergenceWarning: Liblinear failed to converge, increase the number of iterations.\n",
      "  warnings.warn(\n",
      "/scratch_net/gnarf/mrichte/conda_envs/tda/lib/python3.10/site-packages/sklearn/svm/_base.py:1225: ConvergenceWarning: Liblinear failed to converge, increase the number of iterations.\n",
      "  warnings.warn(\n",
      "/scratch_net/gnarf/mrichte/conda_envs/tda/lib/python3.10/site-packages/sklearn/svm/_base.py:1225: ConvergenceWarning: Liblinear failed to converge, increase the number of iterations.\n",
      "  warnings.warn(\n",
      "/scratch_net/gnarf/mrichte/conda_envs/tda/lib/python3.10/site-packages/sklearn/svm/_base.py:1225: ConvergenceWarning: Liblinear failed to converge, increase the number of iterations.\n",
      "  warnings.warn(\n",
      "/scratch_net/gnarf/mrichte/conda_envs/tda/lib/python3.10/site-packages/sklearn/svm/_base.py:1225: ConvergenceWarning: Liblinear failed to converge, increase the number of iterations.\n",
      "  warnings.warn(\n"
     ]
    },
    {
     "data": {
      "text/html": [
       "<style type=\"text/css\">\n",
       "#T_9f459_row0_col0, #T_9f459_row0_col1, #T_9f459_row0_col2, #T_9f459_row0_col3 {\n",
       "  color: green;\n",
       "}\n",
       "</style>\n",
       "<table id=\"T_9f459\">\n",
       "  <thead>\n",
       "    <tr>\n",
       "      <th class=\"blank level0\" >&nbsp;</th>\n",
       "      <th id=\"T_9f459_level0_col0\" class=\"col_heading level0 col0\" >test_accuracy</th>\n",
       "      <th id=\"T_9f459_level0_col1\" class=\"col_heading level0 col1\" >test_sensitivity</th>\n",
       "      <th id=\"T_9f459_level0_col2\" class=\"col_heading level0 col2\" >test_specificity</th>\n",
       "      <th id=\"T_9f459_level0_col3\" class=\"col_heading level0 col3\" >test_f1</th>\n",
       "    </tr>\n",
       "    <tr>\n",
       "      <th class=\"index_name level0\" >Featurizer</th>\n",
       "      <th class=\"blank col0\" >&nbsp;</th>\n",
       "      <th class=\"blank col1\" >&nbsp;</th>\n",
       "      <th class=\"blank col2\" >&nbsp;</th>\n",
       "      <th class=\"blank col3\" >&nbsp;</th>\n",
       "    </tr>\n",
       "  </thead>\n",
       "  <tbody>\n",
       "    <tr>\n",
       "      <th id=\"T_9f459_level0_row0\" class=\"row_heading level0 row0\" >Number of Points</th>\n",
       "      <td id=\"T_9f459_row0_col0\" class=\"data row0 col0\" >0.66</td>\n",
       "      <td id=\"T_9f459_row0_col1\" class=\"data row0 col1\" >0.74</td>\n",
       "      <td id=\"T_9f459_row0_col2\" class=\"data row0 col2\" >0.61</td>\n",
       "      <td id=\"T_9f459_row0_col3\" class=\"data row0 col3\" >0.69</td>\n",
       "    </tr>\n",
       "    <tr>\n",
       "      <th id=\"T_9f459_level0_row1\" class=\"row_heading level0 row1\" >Persistence Entropy</th>\n",
       "      <td id=\"T_9f459_row1_col0\" class=\"data row1 col0\" >0.63</td>\n",
       "      <td id=\"T_9f459_row1_col1\" class=\"data row1 col1\" >0.71</td>\n",
       "      <td id=\"T_9f459_row1_col2\" class=\"data row1 col2\" >0.59</td>\n",
       "      <td id=\"T_9f459_row1_col3\" class=\"data row1 col3\" >0.66</td>\n",
       "    </tr>\n",
       "    <tr>\n",
       "      <th id=\"T_9f459_level0_row2\" class=\"row_heading level0 row2\" >Wasserstein Amplitude</th>\n",
       "      <td id=\"T_9f459_row2_col0\" class=\"data row2 col0\" >0.61</td>\n",
       "      <td id=\"T_9f459_row2_col1\" class=\"data row2 col1\" >0.72</td>\n",
       "      <td id=\"T_9f459_row2_col2\" class=\"data row2 col2\" >0.52</td>\n",
       "      <td id=\"T_9f459_row2_col3\" class=\"data row2 col3\" >0.65</td>\n",
       "    </tr>\n",
       "    <tr>\n",
       "      <th id=\"T_9f459_level0_row3\" class=\"row_heading level0 row3\" >Persistence Image</th>\n",
       "      <td id=\"T_9f459_row3_col0\" class=\"data row3 col0\" >0.61</td>\n",
       "      <td id=\"T_9f459_row3_col1\" class=\"data row3 col1\" >0.67</td>\n",
       "      <td id=\"T_9f459_row3_col2\" class=\"data row3 col2\" >0.58</td>\n",
       "      <td id=\"T_9f459_row3_col3\" class=\"data row3 col3\" >0.63</td>\n",
       "    </tr>\n",
       "    <tr>\n",
       "      <th id=\"T_9f459_level0_row4\" class=\"row_heading level0 row4\" >Bottleneck Amplitude</th>\n",
       "      <td id=\"T_9f459_row4_col0\" class=\"data row4 col0\" >0.60</td>\n",
       "      <td id=\"T_9f459_row4_col1\" class=\"data row4 col1\" >0.69</td>\n",
       "      <td id=\"T_9f459_row4_col2\" class=\"data row4 col2\" >0.56</td>\n",
       "      <td id=\"T_9f459_row4_col3\" class=\"data row4 col3\" >0.64</td>\n",
       "    </tr>\n",
       "    <tr>\n",
       "      <th id=\"T_9f459_level0_row5\" class=\"row_heading level0 row5\" >Betti Curves</th>\n",
       "      <td id=\"T_9f459_row5_col0\" class=\"data row5 col0\" >0.59</td>\n",
       "      <td id=\"T_9f459_row5_col1\" class=\"data row5 col1\" >0.69</td>\n",
       "      <td id=\"T_9f459_row5_col2\" class=\"data row5 col2\" >0.51</td>\n",
       "      <td id=\"T_9f459_row5_col3\" class=\"data row5 col3\" >0.63</td>\n",
       "    </tr>\n",
       "    <tr>\n",
       "      <th id=\"T_9f459_level0_row6\" class=\"row_heading level0 row6\" >Landscape Amplitude</th>\n",
       "      <td id=\"T_9f459_row6_col0\" class=\"data row6 col0\" >0.59</td>\n",
       "      <td id=\"T_9f459_row6_col1\" class=\"data row6 col1\" >0.65</td>\n",
       "      <td id=\"T_9f459_row6_col2\" class=\"data row6 col2\" >0.59</td>\n",
       "      <td id=\"T_9f459_row6_col3\" class=\"data row6 col3\" >0.61</td>\n",
       "    </tr>\n",
       "  </tbody>\n",
       "</table>\n"
      ],
      "text/plain": [
       "<pandas.io.formats.style.Styler at 0x7f222857c910>"
      ]
     },
     "execution_count": 13,
     "metadata": {},
     "output_type": "execute_result"
    }
   ],
   "source": [
    "featurizer_models = pd.DataFrame()\n",
    "featurizer_models_all = pd.DataFrame()\n",
    "for name, featurizer in featurizers.items():\n",
    "    print(f\"Training model for {name}...\")\n",
    "    X = np.stack(df[name].values)\n",
    "    y = df[\"COVID19\"].values\n",
    "    groups = df[\"Patient ID\"].values\n",
    "    \n",
    "    scores, scores_mean = Classifier.train_models(X, y, groups=groups, plot=False)\n",
    "    scores = pd.concat([scores], keys=[name], names=['Featurizer'])\n",
    "    scores_mean = pd.concat([scores_mean], keys=[name], names=['Featurizer'])\n",
    "    \n",
    "    featurizer_models_all = pd.concat([featurizer_models_all, scores])\n",
    "    featurizer_models = pd.concat([featurizer_models, scores_mean])\n",
    "    \n",
    "featurizer_models.groupby(\"Featurizer\").mean().sort_values(by=[\"test_accuracy\", \"test_f1\"], ascending=False).style.apply(highlight_max).format(\"{:.2f}\")"
   ]
  },
  {
   "cell_type": "code",
   "execution_count": 14,
   "metadata": {},
   "outputs": [
    {
     "data": {
      "text/plain": [
       "<matplotlib.legend.Legend at 0x7f2228640eb0>"
      ]
     },
     "execution_count": 14,
     "metadata": {},
     "output_type": "execute_result"
    },
    {
     "data": {
      "image/png": "[encoded data removed]",
      "text/plain": [
       "<Figure size 640x480 with 1 Axes>"
      ]
     },
     "metadata": {},
     "output_type": "display_data"
    }
   ],
   "source": [
    "featurizer_models.groupby(\"Featurizer\").mean().sort_values(by=[\"test_accuracy\", \"test_f1\"], ascending=False).plot.bar(yerr=featurizer_models.groupby(\"Featurizer\").std())\n",
    "plt.legend(loc='lower right')"
   ]
  },
  {
   "cell_type": "code",
   "execution_count": 15,
   "metadata": {},
   "outputs": [
    {
     "data": {
      "text/html": [
       "<style type=\"text/css\">\n",
       "#T_e13f6_row0_col0, #T_e13f6_row0_col1, #T_e13f6_row0_col3, #T_e13f6_row6_col2 {\n",
       "  color: green;\n",
       "}\n",
       "</style>\n",
       "<table id=\"T_e13f6\">\n",
       "  <thead>\n",
       "    <tr>\n",
       "      <th class=\"blank level0\" >&nbsp;</th>\n",
       "      <th id=\"T_e13f6_level0_col0\" class=\"col_heading level0 col0\" >test_accuracy</th>\n",
       "      <th id=\"T_e13f6_level0_col1\" class=\"col_heading level0 col1\" >test_sensitivity</th>\n",
       "      <th id=\"T_e13f6_level0_col2\" class=\"col_heading level0 col2\" >test_specificity</th>\n",
       "      <th id=\"T_e13f6_level0_col3\" class=\"col_heading level0 col3\" >test_f1</th>\n",
       "    </tr>\n",
       "  </thead>\n",
       "  <tbody>\n",
       "    <tr>\n",
       "      <th id=\"T_e13f6_level0_row0\" class=\"row_heading level0 row0\" >Number of Points (LR)</th>\n",
       "      <td id=\"T_e13f6_row0_col0\" class=\"data row0 col0\" >0.67</td>\n",
       "      <td id=\"T_e13f6_row0_col1\" class=\"data row0 col1\" >0.76</td>\n",
       "      <td id=\"T_e13f6_row0_col2\" class=\"data row0 col2\" >0.61</td>\n",
       "      <td id=\"T_e13f6_row0_col3\" class=\"data row0 col3\" >0.70</td>\n",
       "    </tr>\n",
       "    <tr>\n",
       "      <th id=\"T_e13f6_level0_row1\" class=\"row_heading level0 row1\" >Persistence Entropy (LR)</th>\n",
       "      <td id=\"T_e13f6_row1_col0\" class=\"data row1 col0\" >0.64</td>\n",
       "      <td id=\"T_e13f6_row1_col1\" class=\"data row1 col1\" >0.71</td>\n",
       "      <td id=\"T_e13f6_row1_col2\" class=\"data row1 col2\" >0.61</td>\n",
       "      <td id=\"T_e13f6_row1_col3\" class=\"data row1 col3\" >0.66</td>\n",
       "    </tr>\n",
       "    <tr>\n",
       "      <th id=\"T_e13f6_level0_row2\" class=\"row_heading level0 row2\" >Landscape Amplitude (RF)</th>\n",
       "      <td id=\"T_e13f6_row2_col0\" class=\"data row2 col0\" >0.63</td>\n",
       "      <td id=\"T_e13f6_row2_col1\" class=\"data row2 col1\" >0.71</td>\n",
       "      <td id=\"T_e13f6_row2_col2\" class=\"data row2 col2\" >0.57</td>\n",
       "      <td id=\"T_e13f6_row2_col3\" class=\"data row2 col3\" >0.66</td>\n",
       "    </tr>\n",
       "    <tr>\n",
       "      <th id=\"T_e13f6_level0_row3\" class=\"row_heading level0 row3\" >Wasserstein Amplitude (RF)</th>\n",
       "      <td id=\"T_e13f6_row3_col0\" class=\"data row3 col0\" >0.63</td>\n",
       "      <td id=\"T_e13f6_row3_col1\" class=\"data row3 col1\" >0.71</td>\n",
       "      <td id=\"T_e13f6_row3_col2\" class=\"data row3 col2\" >0.58</td>\n",
       "      <td id=\"T_e13f6_row3_col3\" class=\"data row3 col3\" >0.66</td>\n",
       "    </tr>\n",
       "    <tr>\n",
       "      <th id=\"T_e13f6_level0_row4\" class=\"row_heading level0 row4\" >Bottleneck Amplitude (RF)</th>\n",
       "      <td id=\"T_e13f6_row4_col0\" class=\"data row4 col0\" >0.62</td>\n",
       "      <td id=\"T_e13f6_row4_col1\" class=\"data row4 col1\" >0.72</td>\n",
       "      <td id=\"T_e13f6_row4_col2\" class=\"data row4 col2\" >0.55</td>\n",
       "      <td id=\"T_e13f6_row4_col3\" class=\"data row4 col3\" >0.66</td>\n",
       "    </tr>\n",
       "    <tr>\n",
       "      <th id=\"T_e13f6_level0_row5\" class=\"row_heading level0 row5\" >Betti Curves (RF)</th>\n",
       "      <td id=\"T_e13f6_row5_col0\" class=\"data row5 col0\" >0.62</td>\n",
       "      <td id=\"T_e13f6_row5_col1\" class=\"data row5 col1\" >0.73</td>\n",
       "      <td id=\"T_e13f6_row5_col2\" class=\"data row5 col2\" >0.52</td>\n",
       "      <td id=\"T_e13f6_row5_col3\" class=\"data row5 col3\" >0.66</td>\n",
       "    </tr>\n",
       "    <tr>\n",
       "      <th id=\"T_e13f6_level0_row6\" class=\"row_heading level0 row6\" >Persistence Image (RF)</th>\n",
       "      <td id=\"T_e13f6_row6_col0\" class=\"data row6 col0\" >0.62</td>\n",
       "      <td id=\"T_e13f6_row6_col1\" class=\"data row6 col1\" >0.68</td>\n",
       "      <td id=\"T_e13f6_row6_col2\" class=\"data row6 col2\" >0.61</td>\n",
       "      <td id=\"T_e13f6_row6_col3\" class=\"data row6 col3\" >0.64</td>\n",
       "    </tr>\n",
       "  </tbody>\n",
       "</table>\n"
      ],
      "text/plain": [
       "<pandas.io.formats.style.Styler at 0x7f2228641b10>"
      ]
     },
     "execution_count": 15,
     "metadata": {},
     "output_type": "execute_result"
    },
    {
     "data": {
      "image/png": "[encoded data removed]",
      "text/plain": [
       "<Figure size 640x480 with 1 Axes>"
      ]
     },
     "metadata": {},
     "output_type": "display_data"
    }
   ],
   "source": [
    "grouped = featurizer_models.groupby(\"Featurizer\")\n",
    "max_index = grouped[\"test_accuracy\"].idxmax()\n",
    "best_models = featurizer_models.loc[max_index].sort_values(\"test_accuracy\", ascending=False)\n",
    "best_models.index = best_models.reset_index().Featurizer + \" (\" + best_models.reset_index().model + \")\"\n",
    "\n",
    "best_models.plot.bar()\n",
    "plt.legend(loc='lower right')\n",
    "\n",
    "best_models.style.apply(highlight_max).format(\"{:.2f}\")"
   ]
  },
  {
   "cell_type": "code",
   "execution_count": 16,
   "metadata": {},
   "outputs": [
    {
     "name": "stdout",
     "output_type": "stream",
     "text": [
      "\\begin{tabular}{lrrrr}\n",
      "\\toprule\n",
      "{} &  test\\_accuracy &  test\\_sensitivity &  test\\_specificity &  test\\_f1 \\\\\n",
      "\\midrule\n",
      "Number of Points (LR)      &           0.67 &              0.76 &              0.61 &     0.70 \\\\\n",
      "Persistence Entropy (LR)   &           0.64 &              0.71 &              0.61 &     0.66 \\\\\n",
      "Landscape Amplitude (RF)   &           0.63 &              0.71 &              0.57 &     0.66 \\\\\n",
      "Wasserstein Amplitude (RF) &           0.63 &              0.71 &              0.58 &     0.66 \\\\\n",
      "Bottleneck Amplitude (RF)  &           0.62 &              0.72 &              0.55 &     0.66 \\\\\n",
      "Betti Curves (RF)          &           0.62 &              0.73 &              0.52 &     0.66 \\\\\n",
      "Persistence Image (RF)     &           0.62 &              0.68 &              0.61 &     0.64 \\\\\n",
      "\\bottomrule\n",
      "\\end{tabular}\n",
      "\n"
     ]
    }
   ],
   "source": [
    "print(best_models.to_latex(float_format=\"{:.2f}\".format))"
   ]
  },
  {
   "cell_type": "markdown",
   "metadata": {},
   "source": [
    "# Patient Level\n"
   ]
  },
  {
   "cell_type": "code",
   "execution_count": 17,
   "metadata": {},
   "outputs": [
    {
     "data": {
      "text/html": [
       "<div>\n",
       "<style scoped>\n",
       "    .dataframe tbody tr th:only-of-type {\n",
       "        vertical-align: middle;\n",
       "    }\n",
       "\n",
       "    .dataframe tbody tr th {\n",
       "        vertical-align: top;\n",
       "    }\n",
       "\n",
       "    .dataframe thead th {\n",
       "        text-align: right;\n",
       "    }\n",
       "</style>\n",
       "<table border=\"1\" class=\"dataframe\">\n",
       "  <thead>\n",
       "    <tr style=\"text-align: right;\">\n",
       "      <th></th>\n",
       "      <th>Patient ID</th>\n",
       "      <th>COVID19</th>\n",
       "      <th>Persistence Entropy</th>\n",
       "      <th>Number of Points</th>\n",
       "      <th>Wasserstein Amplitude</th>\n",
       "      <th>Bottleneck Amplitude</th>\n",
       "      <th>Landscape Amplitude</th>\n",
       "      <th>Betti Curves</th>\n",
       "      <th>Persistence Image</th>\n",
       "    </tr>\n",
       "  </thead>\n",
       "  <tbody>\n",
       "    <tr>\n",
       "      <th>0</th>\n",
       "      <td>A001</td>\n",
       "      <td>0</td>\n",
       "      <td>[6.365909203072956, 6.147308222939114, 2.80300...</td>\n",
       "      <td>[951.6666666666666, 725.5, 38.166666666666664,...</td>\n",
       "      <td>[0.2601690022237462, 0.059145498818450104, 0.0...</td>\n",
       "      <td>[0.13479669019579887, 0.005395637825131416, 0....</td>\n",
       "      <td>[0.06188385944692565, 0.0005106886219982841, 0...</td>\n",
       "      <td>[951.6666666666666, 2.8333333333333335, 2.0, 1...</td>\n",
       "      <td>[9.393933315759865, 8.529169547680075, 6.41277...</td>\n",
       "    </tr>\n",
       "  </tbody>\n",
       "</table>\n",
       "</div>"
      ],
      "text/plain": [
       "  Patient ID  COVID19                                Persistence Entropy  \\\n",
       "0       A001        0  [6.365909203072956, 6.147308222939114, 2.80300...   \n",
       "\n",
       "                                    Number of Points  \\\n",
       "0  [951.6666666666666, 725.5, 38.166666666666664,...   \n",
       "\n",
       "                               Wasserstein Amplitude  \\\n",
       "0  [0.2601690022237462, 0.059145498818450104, 0.0...   \n",
       "\n",
       "                                Bottleneck Amplitude  \\\n",
       "0  [0.13479669019579887, 0.005395637825131416, 0....   \n",
       "\n",
       "                                 Landscape Amplitude  \\\n",
       "0  [0.06188385944692565, 0.0005106886219982841, 0...   \n",
       "\n",
       "                                        Betti Curves  \\\n",
       "0  [951.6666666666666, 2.8333333333333335, 2.0, 1...   \n",
       "\n",
       "                                   Persistence Image  \n",
       "0  [9.393933315759865, 8.529169547680075, 6.41277...  "
      ]
     },
     "execution_count": 17,
     "metadata": {},
     "output_type": "execute_result"
    }
   ],
   "source": [
    "# Aggregate feature vectors across each Patient using the mean\n",
    "patient_level_df = df.groupby(\"Patient ID\")[list(featurizers.keys())].mean().reset_index()\n",
    "# Add back Covid variable\n",
    "patient_level_df = pd.merge(df.groupby(\"Patient ID\")[\"COVID19\"].first().reset_index(), patient_level_df)\n",
    "patient_level_df.head(1)"
   ]
  },
  {
   "cell_type": "code",
   "execution_count": 18,
   "metadata": {},
   "outputs": [
    {
     "name": "stdout",
     "output_type": "stream",
     "text": [
      "Training model for Persistence Entropy...\n",
      "Training model for Number of Points...\n",
      "Training model for Wasserstein Amplitude...\n",
      "Training model for Bottleneck Amplitude...\n",
      "Training model for Landscape Amplitude...\n",
      "Training model for Betti Curves...\n",
      "Training model for Persistence Image...\n"
     ]
    },
    {
     "name": "stderr",
     "output_type": "stream",
     "text": [
      "/scratch_net/gnarf/mrichte/conda_envs/tda/lib/python3.10/site-packages/sklearn/linear_model/_logistic.py:444: ConvergenceWarning: lbfgs failed to converge (status=1):\n",
      "STOP: TOTAL NO. of ITERATIONS REACHED LIMIT.\n",
      "\n",
      "Increase the number of iterations (max_iter) or scale the data as shown in:\n",
      "    https://scikit-learn.org/stable/modules/preprocessing.html\n",
      "Please also refer to the documentation for alternative solver options:\n",
      "    https://scikit-learn.org/stable/modules/linear_model.html#logistic-regression\n",
      "  n_iter_i = _check_optimize_result(\n",
      "/scratch_net/gnarf/mrichte/conda_envs/tda/lib/python3.10/site-packages/sklearn/linear_model/_logistic.py:444: ConvergenceWarning: lbfgs failed to converge (status=1):\n",
      "STOP: TOTAL NO. of ITERATIONS REACHED LIMIT.\n",
      "\n",
      "Increase the number of iterations (max_iter) or scale the data as shown in:\n",
      "    https://scikit-learn.org/stable/modules/preprocessing.html\n",
      "Please also refer to the documentation for alternative solver options:\n",
      "    https://scikit-learn.org/stable/modules/linear_model.html#logistic-regression\n",
      "  n_iter_i = _check_optimize_result(\n",
      "/scratch_net/gnarf/mrichte/conda_envs/tda/lib/python3.10/site-packages/sklearn/linear_model/_logistic.py:444: ConvergenceWarning: lbfgs failed to converge (status=1):\n",
      "STOP: TOTAL NO. of ITERATIONS REACHED LIMIT.\n",
      "\n",
      "Increase the number of iterations (max_iter) or scale the data as shown in:\n",
      "    https://scikit-learn.org/stable/modules/preprocessing.html\n",
      "Please also refer to the documentation for alternative solver options:\n",
      "    https://scikit-learn.org/stable/modules/linear_model.html#logistic-regression\n",
      "  n_iter_i = _check_optimize_result(\n",
      "/scratch_net/gnarf/mrichte/conda_envs/tda/lib/python3.10/site-packages/sklearn/linear_model/_logistic.py:444: ConvergenceWarning: lbfgs failed to converge (status=1):\n",
      "STOP: TOTAL NO. of ITERATIONS REACHED LIMIT.\n",
      "\n",
      "Increase the number of iterations (max_iter) or scale the data as shown in:\n",
      "    https://scikit-learn.org/stable/modules/preprocessing.html\n",
      "Please also refer to the documentation for alternative solver options:\n",
      "    https://scikit-learn.org/stable/modules/linear_model.html#logistic-regression\n",
      "  n_iter_i = _check_optimize_result(\n"
     ]
    }
   ],
   "source": [
    "featurizer_models_patients = pd.DataFrame()\n",
    "featurizer_models_all_patients = pd.DataFrame()\n",
    "for name, featurizer in featurizers.items():\n",
    "    print(f\"Training model for {name}...\")\n",
    "    X = np.stack(patient_level_df[name].values)\n",
    "    y = patient_level_df[\"COVID19\"].values\n",
    "    \n",
    "    scores, scores_mean = Classifier.train_models(X, y, plot=False)\n",
    "    scores = pd.concat([scores], keys=[name], names=['Featurizer'])\n",
    "    scores_mean = pd.concat([scores_mean], keys=[name], names=['Featurizer'])\n",
    "    \n",
    "    featurizer_models_all_patients = pd.concat([featurizer_models_all_patients, scores])\n",
    "    featurizer_models_patients = pd.concat([featurizer_models_patients, scores_mean])\n",
    "    \n",
    "#featurizer_models.style.apply(highlight_max).format(\"{:.2f}\")"
   ]
  },
  {
   "cell_type": "code",
   "execution_count": 19,
   "metadata": {},
   "outputs": [
    {
     "data": {
      "text/html": [
       "<style type=\"text/css\">\n",
       "#T_d1392_row0_col0, #T_d1392_row0_col1, #T_d1392_row0_col2, #T_d1392_row0_col3 {\n",
       "  color: green;\n",
       "}\n",
       "</style>\n",
       "<table id=\"T_d1392\">\n",
       "  <thead>\n",
       "    <tr>\n",
       "      <th class=\"blank level0\" >&nbsp;</th>\n",
       "      <th id=\"T_d1392_level0_col0\" class=\"col_heading level0 col0\" >test_accuracy</th>\n",
       "      <th id=\"T_d1392_level0_col1\" class=\"col_heading level0 col1\" >test_sensitivity</th>\n",
       "      <th id=\"T_d1392_level0_col2\" class=\"col_heading level0 col2\" >test_specificity</th>\n",
       "      <th id=\"T_d1392_level0_col3\" class=\"col_heading level0 col3\" >test_f1</th>\n",
       "    </tr>\n",
       "  </thead>\n",
       "  <tbody>\n",
       "    <tr>\n",
       "      <th id=\"T_d1392_level0_row0\" class=\"row_heading level0 row0\" >Number of Points (SVM)</th>\n",
       "      <td id=\"T_d1392_row0_col0\" class=\"data row0 col0\" >0.76</td>\n",
       "      <td id=\"T_d1392_row0_col1\" class=\"data row0 col1\" >0.79</td>\n",
       "      <td id=\"T_d1392_row0_col2\" class=\"data row0 col2\" >0.73</td>\n",
       "      <td id=\"T_d1392_row0_col3\" class=\"data row0 col3\" >0.78</td>\n",
       "    </tr>\n",
       "    <tr>\n",
       "      <th id=\"T_d1392_level0_row1\" class=\"row_heading level0 row1\" >Persistence Entropy (SVM)</th>\n",
       "      <td id=\"T_d1392_row1_col0\" class=\"data row1 col0\" >0.71</td>\n",
       "      <td id=\"T_d1392_row1_col1\" class=\"data row1 col1\" >0.73</td>\n",
       "      <td id=\"T_d1392_row1_col2\" class=\"data row1 col2\" >0.70</td>\n",
       "      <td id=\"T_d1392_row1_col3\" class=\"data row1 col3\" >0.72</td>\n",
       "    </tr>\n",
       "    <tr>\n",
       "      <th id=\"T_d1392_level0_row2\" class=\"row_heading level0 row2\" >Persistence Image (RF)</th>\n",
       "      <td id=\"T_d1392_row2_col0\" class=\"data row2 col0\" >0.70</td>\n",
       "      <td id=\"T_d1392_row2_col1\" class=\"data row2 col1\" >0.72</td>\n",
       "      <td id=\"T_d1392_row2_col2\" class=\"data row2 col2\" >0.67</td>\n",
       "      <td id=\"T_d1392_row2_col3\" class=\"data row2 col3\" >0.70</td>\n",
       "    </tr>\n",
       "    <tr>\n",
       "      <th id=\"T_d1392_level0_row3\" class=\"row_heading level0 row3\" >Betti Curves (RF)</th>\n",
       "      <td id=\"T_d1392_row3_col0\" class=\"data row3 col0\" >0.68</td>\n",
       "      <td id=\"T_d1392_row3_col1\" class=\"data row3 col1\" >0.75</td>\n",
       "      <td id=\"T_d1392_row3_col2\" class=\"data row3 col2\" >0.60</td>\n",
       "      <td id=\"T_d1392_row3_col3\" class=\"data row3 col3\" >0.70</td>\n",
       "    </tr>\n",
       "    <tr>\n",
       "      <th id=\"T_d1392_level0_row4\" class=\"row_heading level0 row4\" >Landscape Amplitude (LR)</th>\n",
       "      <td id=\"T_d1392_row4_col0\" class=\"data row4 col0\" >0.68</td>\n",
       "      <td id=\"T_d1392_row4_col1\" class=\"data row4 col1\" >0.69</td>\n",
       "      <td id=\"T_d1392_row4_col2\" class=\"data row4 col2\" >0.67</td>\n",
       "      <td id=\"T_d1392_row4_col3\" class=\"data row4 col3\" >0.69</td>\n",
       "    </tr>\n",
       "    <tr>\n",
       "      <th id=\"T_d1392_level0_row5\" class=\"row_heading level0 row5\" >Wasserstein Amplitude (LR)</th>\n",
       "      <td id=\"T_d1392_row5_col0\" class=\"data row5 col0\" >0.65</td>\n",
       "      <td id=\"T_d1392_row5_col1\" class=\"data row5 col1\" >0.67</td>\n",
       "      <td id=\"T_d1392_row5_col2\" class=\"data row5 col2\" >0.63</td>\n",
       "      <td id=\"T_d1392_row5_col3\" class=\"data row5 col3\" >0.68</td>\n",
       "    </tr>\n",
       "    <tr>\n",
       "      <th id=\"T_d1392_level0_row6\" class=\"row_heading level0 row6\" >Bottleneck Amplitude (RF)</th>\n",
       "      <td id=\"T_d1392_row6_col0\" class=\"data row6 col0\" >0.64</td>\n",
       "      <td id=\"T_d1392_row6_col1\" class=\"data row6 col1\" >0.70</td>\n",
       "      <td id=\"T_d1392_row6_col2\" class=\"data row6 col2\" >0.57</td>\n",
       "      <td id=\"T_d1392_row6_col3\" class=\"data row6 col3\" >0.67</td>\n",
       "    </tr>\n",
       "  </tbody>\n",
       "</table>\n"
      ],
      "text/plain": [
       "<pandas.io.formats.style.Styler at 0x7f2235cfa8f0>"
      ]
     },
     "execution_count": 19,
     "metadata": {},
     "output_type": "execute_result"
    },
    {
     "data": {
      "image/png": "[encoded data removed]",
      "text/plain": [
       "<Figure size 640x480 with 1 Axes>"
      ]
     },
     "metadata": {},
     "output_type": "display_data"
    }
   ],
   "source": [
    "grouped = featurizer_models_patients.groupby(\"Featurizer\")\n",
    "max_index = grouped[\"test_accuracy\"].idxmax()\n",
    "best_models = featurizer_models_patients.loc[max_index].sort_values(\"test_accuracy\", ascending=False)\n",
    "best_models.index = best_models.reset_index().Featurizer + \" (\" + best_models.reset_index().model + \")\"\n",
    "\n",
    "best_models.plot.bar()\n",
    "plt.legend(loc='lower right')\n",
    "\n",
    "best_models.style.apply(highlight_max).format(\"{:.2f}\")"
   ]
  },
  {
   "cell_type": "code",
   "execution_count": 20,
   "metadata": {},
   "outputs": [
    {
     "name": "stdout",
     "output_type": "stream",
     "text": [
      "\\begin{tabular}{lrrrr}\n",
      "\\toprule\n",
      "{} &  test\\_accuracy &  test\\_sensitivity &  test\\_specificity &  test\\_f1 \\\\\n",
      "\\midrule\n",
      "Number of Points (SVM)     &           0.76 &              0.79 &              0.73 &     0.78 \\\\\n",
      "Persistence Entropy (SVM)  &           0.71 &              0.73 &              0.70 &     0.72 \\\\\n",
      "Persistence Image (RF)     &           0.70 &              0.72 &              0.67 &     0.70 \\\\\n",
      "Betti Curves (RF)          &           0.68 &              0.75 &              0.60 &     0.70 \\\\\n",
      "Landscape Amplitude (LR)   &           0.68 &              0.69 &              0.67 &     0.69 \\\\\n",
      "Wasserstein Amplitude (LR) &           0.65 &              0.67 &              0.63 &     0.68 \\\\\n",
      "Bottleneck Amplitude (RF)  &           0.64 &              0.70 &              0.57 &     0.67 \\\\\n",
      "\\bottomrule\n",
      "\\end{tabular}\n",
      "\n"
     ]
    }
   ],
   "source": [
    "print(best_models.to_latex(float_format=\"{:.2f}\".format))"
   ]
  },
  {
   "attachments": {},
   "cell_type": "markdown",
   "metadata": {},
   "source": [
    "# Severity Scores"
   ]
  },
  {
   "cell_type": "code",
   "execution_count": 21,
   "metadata": {},
   "outputs": [
    {
     "name": "stdout",
     "output_type": "stream",
     "text": [
      "Number of discarded rows: 8\n"
     ]
    }
   ],
   "source": [
    "sev_scores = get_manual_severity_scores()\n",
    "sev_scores = sev_scores[[\"Severity Score\", \"video_name\"]]\n",
    "sev_scores[\"Severity Score\"] = sev_scores[\"Severity Score\"].astype(int)\n",
    "df = pd.merge(df, sev_scores, on=\"video_name\")"
   ]
  },
  {
   "cell_type": "code",
   "execution_count": 22,
   "metadata": {},
   "outputs": [],
   "source": [
    "import importlib\n",
    "import ml_pipeline\n",
    "importlib.reload(ml_pipeline)\n",
    "from ml_pipeline import ModelEvaluation\n",
    "\n",
    "\n",
    "Multi_Classifier = ModelEvaluation(mode=\"classification_multi_label\")"
   ]
  },
  {
   "cell_type": "code",
   "execution_count": 23,
   "metadata": {},
   "outputs": [
    {
     "name": "stdout",
     "output_type": "stream",
     "text": [
      "Training model for Persistence Entropy...\n"
     ]
    },
    {
     "name": "stderr",
     "output_type": "stream",
     "text": [
      "/scratch_net/gnarf/mrichte/conda_envs/tda/lib/python3.10/site-packages/sklearn/metrics/_classification.py:1334: UndefinedMetricWarning: Precision is ill-defined and being set to 0.0 in labels with no predicted samples. Use `zero_division` parameter to control this behavior.\n",
      "  _warn_prf(average, modifier, msg_start, len(result))\n",
      "/scratch_net/gnarf/mrichte/conda_envs/tda/lib/python3.10/site-packages/sklearn/metrics/_classification.py:1334: UndefinedMetricWarning: Precision is ill-defined and being set to 0.0 in labels with no predicted samples. Use `zero_division` parameter to control this behavior.\n",
      "  _warn_prf(average, modifier, msg_start, len(result))\n",
      "/scratch_net/gnarf/mrichte/conda_envs/tda/lib/python3.10/site-packages/sklearn/metrics/_classification.py:1334: UndefinedMetricWarning: Precision is ill-defined and being set to 0.0 in labels with no predicted samples. Use `zero_division` parameter to control this behavior.\n",
      "  _warn_prf(average, modifier, msg_start, len(result))\n",
      "/scratch_net/gnarf/mrichte/conda_envs/tda/lib/python3.10/site-packages/sklearn/metrics/_classification.py:1334: UndefinedMetricWarning: Precision is ill-defined and being set to 0.0 in labels with no predicted samples. Use `zero_division` parameter to control this behavior.\n",
      "  _warn_prf(average, modifier, msg_start, len(result))\n",
      "/scratch_net/gnarf/mrichte/conda_envs/tda/lib/python3.10/site-packages/sklearn/metrics/_classification.py:1334: UndefinedMetricWarning: Precision is ill-defined and being set to 0.0 in labels with no predicted samples. Use `zero_division` parameter to control this behavior.\n",
      "  _warn_prf(average, modifier, msg_start, len(result))\n"
     ]
    },
    {
     "name": "stdout",
     "output_type": "stream",
     "text": [
      "Training model for Number of Points...\n",
      "Training model for Wasserstein Amplitude...\n",
      "Training model for Bottleneck Amplitude...\n",
      "Training model for Landscape Amplitude...\n"
     ]
    },
    {
     "name": "stderr",
     "output_type": "stream",
     "text": [
      "/scratch_net/gnarf/mrichte/conda_envs/tda/lib/python3.10/site-packages/sklearn/metrics/_classification.py:1334: UndefinedMetricWarning: Precision is ill-defined and being set to 0.0 in labels with no predicted samples. Use `zero_division` parameter to control this behavior.\n",
      "  _warn_prf(average, modifier, msg_start, len(result))\n",
      "/scratch_net/gnarf/mrichte/conda_envs/tda/lib/python3.10/site-packages/sklearn/metrics/_classification.py:1334: UndefinedMetricWarning: Precision is ill-defined and being set to 0.0 in labels with no predicted samples. Use `zero_division` parameter to control this behavior.\n",
      "  _warn_prf(average, modifier, msg_start, len(result))\n",
      "/scratch_net/gnarf/mrichte/conda_envs/tda/lib/python3.10/site-packages/sklearn/metrics/_classification.py:1334: UndefinedMetricWarning: Precision is ill-defined and being set to 0.0 in labels with no predicted samples. Use `zero_division` parameter to control this behavior.\n",
      "  _warn_prf(average, modifier, msg_start, len(result))\n",
      "/scratch_net/gnarf/mrichte/conda_envs/tda/lib/python3.10/site-packages/sklearn/metrics/_classification.py:1334: UndefinedMetricWarning: Precision is ill-defined and being set to 0.0 in labels with no predicted samples. Use `zero_division` parameter to control this behavior.\n",
      "  _warn_prf(average, modifier, msg_start, len(result))\n",
      "/scratch_net/gnarf/mrichte/conda_envs/tda/lib/python3.10/site-packages/sklearn/metrics/_classification.py:1334: UndefinedMetricWarning: Precision is ill-defined and being set to 0.0 in labels with no predicted samples. Use `zero_division` parameter to control this behavior.\n",
      "  _warn_prf(average, modifier, msg_start, len(result))\n"
     ]
    },
    {
     "name": "stdout",
     "output_type": "stream",
     "text": [
      "Training model for Betti Curves...\n"
     ]
    },
    {
     "name": "stderr",
     "output_type": "stream",
     "text": [
      "/scratch_net/gnarf/mrichte/conda_envs/tda/lib/python3.10/site-packages/sklearn/linear_model/_logistic.py:444: ConvergenceWarning: lbfgs failed to converge (status=1):\n",
      "STOP: TOTAL NO. of ITERATIONS REACHED LIMIT.\n",
      "\n",
      "Increase the number of iterations (max_iter) or scale the data as shown in:\n",
      "    https://scikit-learn.org/stable/modules/preprocessing.html\n",
      "Please also refer to the documentation for alternative solver options:\n",
      "    https://scikit-learn.org/stable/modules/linear_model.html#logistic-regression\n",
      "  n_iter_i = _check_optimize_result(\n",
      "/scratch_net/gnarf/mrichte/conda_envs/tda/lib/python3.10/site-packages/sklearn/linear_model/_logistic.py:444: ConvergenceWarning: lbfgs failed to converge (status=1):\n",
      "STOP: TOTAL NO. of ITERATIONS REACHED LIMIT.\n",
      "\n",
      "Increase the number of iterations (max_iter) or scale the data as shown in:\n",
      "    https://scikit-learn.org/stable/modules/preprocessing.html\n",
      "Please also refer to the documentation for alternative solver options:\n",
      "    https://scikit-learn.org/stable/modules/linear_model.html#logistic-regression\n",
      "  n_iter_i = _check_optimize_result(\n",
      "/scratch_net/gnarf/mrichte/conda_envs/tda/lib/python3.10/site-packages/sklearn/linear_model/_logistic.py:444: ConvergenceWarning: lbfgs failed to converge (status=1):\n",
      "STOP: TOTAL NO. of ITERATIONS REACHED LIMIT.\n",
      "\n",
      "Increase the number of iterations (max_iter) or scale the data as shown in:\n",
      "    https://scikit-learn.org/stable/modules/preprocessing.html\n",
      "Please also refer to the documentation for alternative solver options:\n",
      "    https://scikit-learn.org/stable/modules/linear_model.html#logistic-regression\n",
      "  n_iter_i = _check_optimize_result(\n",
      "/scratch_net/gnarf/mrichte/conda_envs/tda/lib/python3.10/site-packages/sklearn/linear_model/_logistic.py:444: ConvergenceWarning: lbfgs failed to converge (status=1):\n",
      "STOP: TOTAL NO. of ITERATIONS REACHED LIMIT.\n",
      "\n",
      "Increase the number of iterations (max_iter) or scale the data as shown in:\n",
      "    https://scikit-learn.org/stable/modules/preprocessing.html\n",
      "Please also refer to the documentation for alternative solver options:\n",
      "    https://scikit-learn.org/stable/modules/linear_model.html#logistic-regression\n",
      "  n_iter_i = _check_optimize_result(\n",
      "/scratch_net/gnarf/mrichte/conda_envs/tda/lib/python3.10/site-packages/sklearn/linear_model/_logistic.py:444: ConvergenceWarning: lbfgs failed to converge (status=1):\n",
      "STOP: TOTAL NO. of ITERATIONS REACHED LIMIT.\n",
      "\n",
      "Increase the number of iterations (max_iter) or scale the data as shown in:\n",
      "    https://scikit-learn.org/stable/modules/preprocessing.html\n",
      "Please also refer to the documentation for alternative solver options:\n",
      "    https://scikit-learn.org/stable/modules/linear_model.html#logistic-regression\n",
      "  n_iter_i = _check_optimize_result(\n",
      "/scratch_net/gnarf/mrichte/conda_envs/tda/lib/python3.10/site-packages/sklearn/svm/_base.py:1225: ConvergenceWarning: Liblinear failed to converge, increase the number of iterations.\n",
      "  warnings.warn(\n",
      "/scratch_net/gnarf/mrichte/conda_envs/tda/lib/python3.10/site-packages/sklearn/svm/_base.py:1225: ConvergenceWarning: Liblinear failed to converge, increase the number of iterations.\n",
      "  warnings.warn(\n",
      "/scratch_net/gnarf/mrichte/conda_envs/tda/lib/python3.10/site-packages/sklearn/metrics/_classification.py:1334: UndefinedMetricWarning: Precision is ill-defined and being set to 0.0 in labels with no predicted samples. Use `zero_division` parameter to control this behavior.\n",
      "  _warn_prf(average, modifier, msg_start, len(result))\n",
      "/scratch_net/gnarf/mrichte/conda_envs/tda/lib/python3.10/site-packages/sklearn/linear_model/_logistic.py:444: ConvergenceWarning: lbfgs failed to converge (status=1):\n",
      "STOP: TOTAL NO. of ITERATIONS REACHED LIMIT.\n",
      "\n",
      "Increase the number of iterations (max_iter) or scale the data as shown in:\n",
      "    https://scikit-learn.org/stable/modules/preprocessing.html\n",
      "Please also refer to the documentation for alternative solver options:\n",
      "    https://scikit-learn.org/stable/modules/linear_model.html#logistic-regression\n",
      "  n_iter_i = _check_optimize_result(\n"
     ]
    },
    {
     "name": "stdout",
     "output_type": "stream",
     "text": [
      "Training model for Persistence Image...\n"
     ]
    },
    {
     "name": "stderr",
     "output_type": "stream",
     "text": [
      "/scratch_net/gnarf/mrichte/conda_envs/tda/lib/python3.10/site-packages/sklearn/linear_model/_logistic.py:444: ConvergenceWarning: lbfgs failed to converge (status=1):\n",
      "STOP: TOTAL NO. of ITERATIONS REACHED LIMIT.\n",
      "\n",
      "Increase the number of iterations (max_iter) or scale the data as shown in:\n",
      "    https://scikit-learn.org/stable/modules/preprocessing.html\n",
      "Please also refer to the documentation for alternative solver options:\n",
      "    https://scikit-learn.org/stable/modules/linear_model.html#logistic-regression\n",
      "  n_iter_i = _check_optimize_result(\n",
      "/scratch_net/gnarf/mrichte/conda_envs/tda/lib/python3.10/site-packages/sklearn/linear_model/_logistic.py:444: ConvergenceWarning: lbfgs failed to converge (status=1):\n",
      "STOP: TOTAL NO. of ITERATIONS REACHED LIMIT.\n",
      "\n",
      "Increase the number of iterations (max_iter) or scale the data as shown in:\n",
      "    https://scikit-learn.org/stable/modules/preprocessing.html\n",
      "Please also refer to the documentation for alternative solver options:\n",
      "    https://scikit-learn.org/stable/modules/linear_model.html#logistic-regression\n",
      "  n_iter_i = _check_optimize_result(\n",
      "/scratch_net/gnarf/mrichte/conda_envs/tda/lib/python3.10/site-packages/sklearn/linear_model/_logistic.py:444: ConvergenceWarning: lbfgs failed to converge (status=1):\n",
      "STOP: TOTAL NO. of ITERATIONS REACHED LIMIT.\n",
      "\n",
      "Increase the number of iterations (max_iter) or scale the data as shown in:\n",
      "    https://scikit-learn.org/stable/modules/preprocessing.html\n",
      "Please also refer to the documentation for alternative solver options:\n",
      "    https://scikit-learn.org/stable/modules/linear_model.html#logistic-regression\n",
      "  n_iter_i = _check_optimize_result(\n",
      "/scratch_net/gnarf/mrichte/conda_envs/tda/lib/python3.10/site-packages/sklearn/linear_model/_logistic.py:444: ConvergenceWarning: lbfgs failed to converge (status=1):\n",
      "STOP: TOTAL NO. of ITERATIONS REACHED LIMIT.\n",
      "\n",
      "Increase the number of iterations (max_iter) or scale the data as shown in:\n",
      "    https://scikit-learn.org/stable/modules/preprocessing.html\n",
      "Please also refer to the documentation for alternative solver options:\n",
      "    https://scikit-learn.org/stable/modules/linear_model.html#logistic-regression\n",
      "  n_iter_i = _check_optimize_result(\n",
      "/scratch_net/gnarf/mrichte/conda_envs/tda/lib/python3.10/site-packages/sklearn/svm/_base.py:1225: ConvergenceWarning: Liblinear failed to converge, increase the number of iterations.\n",
      "  warnings.warn(\n",
      "/scratch_net/gnarf/mrichte/conda_envs/tda/lib/python3.10/site-packages/sklearn/svm/_base.py:1225: ConvergenceWarning: Liblinear failed to converge, increase the number of iterations.\n",
      "  warnings.warn(\n",
      "/scratch_net/gnarf/mrichte/conda_envs/tda/lib/python3.10/site-packages/sklearn/svm/_base.py:1225: ConvergenceWarning: Liblinear failed to converge, increase the number of iterations.\n",
      "  warnings.warn(\n",
      "/scratch_net/gnarf/mrichte/conda_envs/tda/lib/python3.10/site-packages/sklearn/svm/_base.py:1225: ConvergenceWarning: Liblinear failed to converge, increase the number of iterations.\n",
      "  warnings.warn(\n",
      "/scratch_net/gnarf/mrichte/conda_envs/tda/lib/python3.10/site-packages/sklearn/svm/_base.py:1225: ConvergenceWarning: Liblinear failed to converge, increase the number of iterations.\n",
      "  warnings.warn(\n"
     ]
    },
    {
     "data": {
      "text/html": [
       "<style type=\"text/css\">\n",
       "#T_2ae0c_row0_col1, #T_2ae0c_row1_col0, #T_2ae0c_row1_col2, #T_2ae0c_row2_col3 {\n",
       "  color: green;\n",
       "}\n",
       "</style>\n",
       "<table id=\"T_2ae0c\">\n",
       "  <thead>\n",
       "    <tr>\n",
       "      <th class=\"blank level0\" >&nbsp;</th>\n",
       "      <th id=\"T_2ae0c_level0_col0\" class=\"col_heading level0 col0\" >test_accuracy</th>\n",
       "      <th id=\"T_2ae0c_level0_col1\" class=\"col_heading level0 col1\" >test_f1</th>\n",
       "      <th id=\"T_2ae0c_level0_col2\" class=\"col_heading level0 col2\" >test_recall</th>\n",
       "      <th id=\"T_2ae0c_level0_col3\" class=\"col_heading level0 col3\" >test_precision</th>\n",
       "    </tr>\n",
       "    <tr>\n",
       "      <th class=\"index_name level0\" >Featurizer</th>\n",
       "      <th class=\"blank col0\" >&nbsp;</th>\n",
       "      <th class=\"blank col1\" >&nbsp;</th>\n",
       "      <th class=\"blank col2\" >&nbsp;</th>\n",
       "      <th class=\"blank col3\" >&nbsp;</th>\n",
       "    </tr>\n",
       "  </thead>\n",
       "  <tbody>\n",
       "    <tr>\n",
       "      <th id=\"T_2ae0c_level0_row0\" class=\"row_heading level0 row0\" >Wasserstein Amplitude</th>\n",
       "      <td id=\"T_2ae0c_row0_col0\" class=\"data row0 col0\" >0.36</td>\n",
       "      <td id=\"T_2ae0c_row0_col1\" class=\"data row0 col1\" >0.35</td>\n",
       "      <td id=\"T_2ae0c_row0_col2\" class=\"data row0 col2\" >0.36</td>\n",
       "      <td id=\"T_2ae0c_row0_col3\" class=\"data row0 col3\" >0.36</td>\n",
       "    </tr>\n",
       "    <tr>\n",
       "      <th id=\"T_2ae0c_level0_row1\" class=\"row_heading level0 row1\" >Number of Points</th>\n",
       "      <td id=\"T_2ae0c_row1_col0\" class=\"data row1 col0\" >0.37</td>\n",
       "      <td id=\"T_2ae0c_row1_col1\" class=\"data row1 col1\" >0.35</td>\n",
       "      <td id=\"T_2ae0c_row1_col2\" class=\"data row1 col2\" >0.37</td>\n",
       "      <td id=\"T_2ae0c_row1_col3\" class=\"data row1 col3\" >0.38</td>\n",
       "    </tr>\n",
       "    <tr>\n",
       "      <th id=\"T_2ae0c_level0_row2\" class=\"row_heading level0 row2\" >Bottleneck Amplitude</th>\n",
       "      <td id=\"T_2ae0c_row2_col0\" class=\"data row2 col0\" >0.36</td>\n",
       "      <td id=\"T_2ae0c_row2_col1\" class=\"data row2 col1\" >0.34</td>\n",
       "      <td id=\"T_2ae0c_row2_col2\" class=\"data row2 col2\" >0.36</td>\n",
       "      <td id=\"T_2ae0c_row2_col3\" class=\"data row2 col3\" >0.38</td>\n",
       "    </tr>\n",
       "    <tr>\n",
       "      <th id=\"T_2ae0c_level0_row3\" class=\"row_heading level0 row3\" >Betti Curves</th>\n",
       "      <td id=\"T_2ae0c_row3_col0\" class=\"data row3 col0\" >0.33</td>\n",
       "      <td id=\"T_2ae0c_row3_col1\" class=\"data row3 col1\" >0.32</td>\n",
       "      <td id=\"T_2ae0c_row3_col2\" class=\"data row3 col2\" >0.33</td>\n",
       "      <td id=\"T_2ae0c_row3_col3\" class=\"data row3 col3\" >0.34</td>\n",
       "    </tr>\n",
       "    <tr>\n",
       "      <th id=\"T_2ae0c_level0_row4\" class=\"row_heading level0 row4\" >Landscape Amplitude</th>\n",
       "      <td id=\"T_2ae0c_row4_col0\" class=\"data row4 col0\" >0.35</td>\n",
       "      <td id=\"T_2ae0c_row4_col1\" class=\"data row4 col1\" >0.32</td>\n",
       "      <td id=\"T_2ae0c_row4_col2\" class=\"data row4 col2\" >0.35</td>\n",
       "      <td id=\"T_2ae0c_row4_col3\" class=\"data row4 col3\" >0.32</td>\n",
       "    </tr>\n",
       "    <tr>\n",
       "      <th id=\"T_2ae0c_level0_row5\" class=\"row_heading level0 row5\" >Persistence Image</th>\n",
       "      <td id=\"T_2ae0c_row5_col0\" class=\"data row5 col0\" >0.31</td>\n",
       "      <td id=\"T_2ae0c_row5_col1\" class=\"data row5 col1\" >0.30</td>\n",
       "      <td id=\"T_2ae0c_row5_col2\" class=\"data row5 col2\" >0.31</td>\n",
       "      <td id=\"T_2ae0c_row5_col3\" class=\"data row5 col3\" >0.32</td>\n",
       "    </tr>\n",
       "    <tr>\n",
       "      <th id=\"T_2ae0c_level0_row6\" class=\"row_heading level0 row6\" >Persistence Entropy</th>\n",
       "      <td id=\"T_2ae0c_row6_col0\" class=\"data row6 col0\" >0.32</td>\n",
       "      <td id=\"T_2ae0c_row6_col1\" class=\"data row6 col1\" >0.30</td>\n",
       "      <td id=\"T_2ae0c_row6_col2\" class=\"data row6 col2\" >0.32</td>\n",
       "      <td id=\"T_2ae0c_row6_col3\" class=\"data row6 col3\" >0.30</td>\n",
       "    </tr>\n",
       "  </tbody>\n",
       "</table>\n"
      ],
      "text/plain": [
       "<pandas.io.formats.style.Styler at 0x7f21cc2db550>"
      ]
     },
     "execution_count": 23,
     "metadata": {},
     "output_type": "execute_result"
    }
   ],
   "source": [
    "featurizer_models = pd.DataFrame()\n",
    "featurizer_models_all = pd.DataFrame()\n",
    "for name, featurizer in featurizers.items():\n",
    "    print(f\"Training model for {name}...\")\n",
    "    X = np.stack(df[name].values)\n",
    "    y = df[\"Severity Score\"].values\n",
    "    groups = df[\"Patient ID\"].values\n",
    "    \n",
    "    scores, scores_mean = Multi_Classifier.train_models(X, y, groups=groups, plot=False)\n",
    "    scores = pd.concat([scores], keys=[name], names=['Featurizer'])\n",
    "    scores_mean = pd.concat([scores_mean], keys=[name], names=['Featurizer'])\n",
    "    \n",
    "    featurizer_models_all = pd.concat([featurizer_models_all, scores])\n",
    "    featurizer_models = pd.concat([featurizer_models, scores_mean])\n",
    "    \n",
    "featurizer_models.groupby(\"Featurizer\").mean().sort_values(by=[\"test_f1\"], ascending=False).style.apply(highlight_max).format(\"{:.2f}\")"
   ]
  },
  {
   "cell_type": "code",
   "execution_count": 24,
   "metadata": {},
   "outputs": [
    {
     "data": {
      "text/plain": [
       "<matplotlib.legend.Legend at 0x7f223480b640>"
      ]
     },
     "execution_count": 24,
     "metadata": {},
     "output_type": "execute_result"
    },
    {
     "data": {
      "image/png": "[encoded data removed]",
      "text/plain": [
       "<Figure size 640x480 with 1 Axes>"
      ]
     },
     "metadata": {},
     "output_type": "display_data"
    }
   ],
   "source": [
    "featurizer_models.groupby(\"Featurizer\").mean().sort_values(by=[\"test_f1\"], ascending=False).plot.bar(yerr=featurizer_models.groupby(\"Featurizer\").std())\n",
    "plt.legend(loc='lower right')"
   ]
  },
  {
   "cell_type": "code",
   "execution_count": 25,
   "metadata": {},
   "outputs": [
    {
     "name": "stdout",
     "output_type": "stream",
     "text": [
      "\\begin{tabular}{lrrrr}\n",
      "\\toprule\n",
      "{} &  test\\_accuracy &  test\\_f1 &  test\\_recall &  test\\_precision \\\\\n",
      "Featurizer            &                &          &              &                 \\\\\n",
      "\\midrule\n",
      "Number of Points      &           0.37 &     0.35 &         0.37 &            0.38 \\\\\n",
      "Wasserstein Amplitude &           0.36 &     0.35 &         0.36 &            0.36 \\\\\n",
      "Bottleneck Amplitude  &           0.36 &     0.34 &         0.36 &            0.38 \\\\\n",
      "Landscape Amplitude   &           0.35 &     0.32 &         0.35 &            0.32 \\\\\n",
      "Betti Curves          &           0.33 &     0.32 &         0.33 &            0.34 \\\\\n",
      "Persistence Entropy   &           0.32 &     0.30 &         0.32 &            0.30 \\\\\n",
      "Persistence Image     &           0.31 &     0.30 &         0.31 &            0.32 \\\\\n",
      "\\bottomrule\n",
      "\\end{tabular}\n",
      "\n"
     ]
    }
   ],
   "source": [
    "# Print the same for latex\n",
    "print(featurizer_models.groupby(\"Featurizer\").mean().sort_values(by=[\"test_accuracy\"], ascending=False).to_latex(float_format=\"{:.2f}\".format))"
   ]
  },
  {
   "cell_type": "code",
   "execution_count": null,
   "metadata": {},
   "outputs": [],
   "source": []
  }
 ],
 "metadata": {
  "kernelspec": {
   "display_name": "tda",
   "language": "python",
   "name": "tda"
  },
  "language_info": {
   "codemirror_mode": {
    "name": "ipython",
    "version": 3
   },
   "file_extension": ".py",
   "mimetype": "text/x-python",
   "name": "python",
   "nbconvert_exporter": "python",
   "pygments_lexer": "ipython3",
   "version": "3.10.8"
  },
  "vscode": {
   "interpreter": {
    "hash": "46280cf368990d26cf311b20e5d7bc030ed6e07b3a856c4513e475e42969b988"
   }
  }
 },
 "nbformat": 4,
 "nbformat_minor": 4
}
